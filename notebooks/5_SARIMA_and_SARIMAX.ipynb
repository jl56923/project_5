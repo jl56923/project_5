{
 "cells": [
  {
   "cell_type": "markdown",
   "metadata": {},
   "source": [
    "# 1. SARIMA\n",
    "\n",
    "Step 1: we're just going to do straight SARIMA on the minimal dataframe, which has two predictors (obesity and diabetes prevalence per state per year) and one target (mortality per 100K from heart attack per state per year)."
   ]
  },
  {
   "cell_type": "code",
   "execution_count": 1,
   "metadata": {},
   "outputs": [],
   "source": [
    "import pickle\n",
    "import pandas as pd\n",
    "import numpy as np\n",
    "import itertools\n",
    "import statsmodels\n",
    "from statsmodels.tsa.statespace.sarimax import SARIMAX\n",
    "\n",
    "from sklearn.metrics import mean_squared_error\n",
    "\n",
    "import warnings\n",
    "import math\n",
    "\n",
    "from progress_bar import log_progress\n",
    "\n",
    "import seaborn as sns\n",
    "import matplotlib.pyplot as plt\n",
    "\n",
    "%matplotlib inline"
   ]
  },
  {
   "cell_type": "code",
   "execution_count": 2,
   "metadata": {},
   "outputs": [],
   "source": [
    "# my own helper functions\n",
    "import sarimax_helper_functions\n",
    "from sarimax_helper_functions import evaluate_arimax_model_using_forecasting, evaluate_arimax_model_using_prediction, get_test_forecast_from_arimax_with_params, get_test_prediction_from_arimax_with_params, make_arimax_model_with_params, make_all_possible_param_dictionaries"
   ]
  },
  {
   "cell_type": "code",
   "execution_count": 3,
   "metadata": {},
   "outputs": [
    {
     "name": "stdout",
     "output_type": "stream",
     "text": [
      "cardiac_mortality_obesity_dm_df_by_state.pkl\n",
      "interpol_truncated_MI_mortality_per_state_dict.pkl\n",
      "myocardial_infarction_df_state_mortality_dict.pkl\n",
      "state_population_by_year_dict.pkl\n"
     ]
    }
   ],
   "source": [
    "%%bash\n",
    "ls ../data/pickles"
   ]
  },
  {
   "cell_type": "code",
   "execution_count": 4,
   "metadata": {},
   "outputs": [],
   "source": [
    "with open(\"../data/pickles/cardiac_mortality_obesity_dm_df_by_state.pkl\", \"rb\") as picklefile:\n",
    "    state_mortality_dict = pickle.load(picklefile)"
   ]
  },
  {
   "cell_type": "code",
   "execution_count": 5,
   "metadata": {},
   "outputs": [],
   "source": [
    "california_df = state_mortality_dict['California']"
   ]
  },
  {
   "cell_type": "code",
   "execution_count": 6,
   "metadata": {},
   "outputs": [],
   "source": [
    "california_df.dropna(inplace=True)"
   ]
  },
  {
   "cell_type": "code",
   "execution_count": 7,
   "metadata": {},
   "outputs": [],
   "source": [
    "# Define the p, d and q parameters to take any value between 0 and 2\n",
    "p = d = q = range(0, 3)\n",
    "\n",
    "# Generate all different combinations of p, q and q triplets\n",
    "pdq = list(itertools.product(p, d, q))\n",
    "\n",
    "# Generate all different combinations of seasonal p, q and q triplets\n",
    "seasonal_pdq = [(x[0], x[1], x[2], 12) for x in list(itertools.product(p, d, q))]"
   ]
  },
  {
   "cell_type": "code",
   "execution_count": 8,
   "metadata": {},
   "outputs": [],
   "source": [
    "param_choices = {}\n",
    "param_choices['order'] = pdq\n",
    "param_choices['seasonal'] = seasonal_pdq\n",
    "param_choices['trend'] = ['c', 'ct', 't']\n",
    "param_choices['enforce_stationarity'] = [False]\n",
    "param_choices['enforce_invertibility'] = [False]"
   ]
  },
  {
   "cell_type": "code",
   "execution_count": 9,
   "metadata": {},
   "outputs": [],
   "source": [
    "list_of_SARIMA_dicts = make_all_possible_param_dictionaries(param_choices=param_choices)"
   ]
  },
  {
   "cell_type": "code",
   "execution_count": null,
   "metadata": {},
   "outputs": [],
   "source": [
    "comparison_list_forecasting = []\n",
    "\n",
    "for index, SARIMA_parameter_dictionary in log_progress(enumerate(list_of_SARIMA_dicts), every=1, size=len(list_of_SARIMA_dicts)):\n",
    "    aic, test_rmse = evaluate_arimax_model_using_forecasting(SARIMA_parameter_dictionary, california_df['mortality_per_100k'])\n",
    "    comparison_list_forecasting.append((index, aic, test_rmse))"
   ]
  },
  {
   "cell_type": "code",
   "execution_count": 11,
   "metadata": {},
   "outputs": [],
   "source": [
    "parameter_gridsearch_df = pd.DataFrame(comparison_list_forecasting, columns=['parameter_dict_number', 'aic', 'forecast_test_mse'])\n",
    "parameter_gridsearch_df.set_index('parameter_dict_number', inplace=True)"
   ]
  },
  {
   "cell_type": "code",
   "execution_count": 12,
   "metadata": {},
   "outputs": [
    {
     "data": {
      "text/html": [
       "<div>\n",
       "<style scoped>\n",
       "    .dataframe tbody tr th:only-of-type {\n",
       "        vertical-align: middle;\n",
       "    }\n",
       "\n",
       "    .dataframe tbody tr th {\n",
       "        vertical-align: top;\n",
       "    }\n",
       "\n",
       "    .dataframe thead th {\n",
       "        text-align: right;\n",
       "    }\n",
       "</style>\n",
       "<table border=\"1\" class=\"dataframe\">\n",
       "  <thead>\n",
       "    <tr style=\"text-align: right;\">\n",
       "      <th></th>\n",
       "      <th>aic</th>\n",
       "      <th>forecast_test_mse</th>\n",
       "    </tr>\n",
       "    <tr>\n",
       "      <th>parameter_dict_number</th>\n",
       "      <th></th>\n",
       "      <th></th>\n",
       "    </tr>\n",
       "  </thead>\n",
       "  <tbody>\n",
       "    <tr>\n",
       "      <th>1515</th>\n",
       "      <td>-74.799138</td>\n",
       "      <td>0.240341</td>\n",
       "    </tr>\n",
       "    <tr>\n",
       "      <th>1596</th>\n",
       "      <td>-73.011460</td>\n",
       "      <td>0.239060</td>\n",
       "    </tr>\n",
       "    <tr>\n",
       "      <th>870</th>\n",
       "      <td>-72.190489</td>\n",
       "      <td>0.218443</td>\n",
       "    </tr>\n",
       "    <tr>\n",
       "      <th>222</th>\n",
       "      <td>-71.644698</td>\n",
       "      <td>0.229874</td>\n",
       "    </tr>\n",
       "    <tr>\n",
       "      <th>1518</th>\n",
       "      <td>-70.433374</td>\n",
       "      <td>0.194955</td>\n",
       "    </tr>\n",
       "    <tr>\n",
       "      <th>1599</th>\n",
       "      <td>-70.318094</td>\n",
       "      <td>0.233583</td>\n",
       "    </tr>\n",
       "    <tr>\n",
       "      <th>141</th>\n",
       "      <td>-69.898651</td>\n",
       "      <td>0.222350</td>\n",
       "    </tr>\n",
       "    <tr>\n",
       "      <th>143</th>\n",
       "      <td>-69.680791</td>\n",
       "      <td>0.369583</td>\n",
       "    </tr>\n",
       "    <tr>\n",
       "      <th>951</th>\n",
       "      <td>-69.600106</td>\n",
       "      <td>0.221566</td>\n",
       "    </tr>\n",
       "    <tr>\n",
       "      <th>789</th>\n",
       "      <td>-69.542929</td>\n",
       "      <td>0.179175</td>\n",
       "    </tr>\n",
       "  </tbody>\n",
       "</table>\n",
       "</div>"
      ],
      "text/plain": [
       "                             aic  forecast_test_mse\n",
       "parameter_dict_number                              \n",
       "1515                  -74.799138           0.240341\n",
       "1596                  -73.011460           0.239060\n",
       "870                   -72.190489           0.218443\n",
       "222                   -71.644698           0.229874\n",
       "1518                  -70.433374           0.194955\n",
       "1599                  -70.318094           0.233583\n",
       "141                   -69.898651           0.222350\n",
       "143                   -69.680791           0.369583\n",
       "951                   -69.600106           0.221566\n",
       "789                   -69.542929           0.179175"
      ]
     },
     "execution_count": 12,
     "metadata": {},
     "output_type": "execute_result"
    }
   ],
   "source": [
    "parameter_gridsearch_df.sort_values(by='aic').head(10)"
   ]
  },
  {
   "cell_type": "code",
   "execution_count": 17,
   "metadata": {},
   "outputs": [],
   "source": [
    "best_by_aic = list(parameter_gridsearch_df.sort_values(by='aic').head(10).index)"
   ]
  },
  {
   "cell_type": "code",
   "execution_count": 18,
   "metadata": {},
   "outputs": [
    {
     "data": {
      "text/plain": [
       "[1515, 1596, 870, 222, 1518, 1599, 141, 143, 951, 789]"
      ]
     },
     "execution_count": 18,
     "metadata": {},
     "output_type": "execute_result"
    }
   ],
   "source": [
    "best_by_aic"
   ]
  },
  {
   "cell_type": "code",
   "execution_count": 20,
   "metadata": {},
   "outputs": [
    {
     "data": {
      "text/html": [
       "<div>\n",
       "<style scoped>\n",
       "    .dataframe tbody tr th:only-of-type {\n",
       "        vertical-align: middle;\n",
       "    }\n",
       "\n",
       "    .dataframe tbody tr th {\n",
       "        vertical-align: top;\n",
       "    }\n",
       "\n",
       "    .dataframe thead th {\n",
       "        text-align: right;\n",
       "    }\n",
       "</style>\n",
       "<table border=\"1\" class=\"dataframe\">\n",
       "  <thead>\n",
       "    <tr style=\"text-align: right;\">\n",
       "      <th></th>\n",
       "      <th>aic</th>\n",
       "      <th>forecast_test_mse</th>\n",
       "    </tr>\n",
       "    <tr>\n",
       "      <th>parameter_dict_number</th>\n",
       "      <th></th>\n",
       "      <th></th>\n",
       "    </tr>\n",
       "  </thead>\n",
       "  <tbody>\n",
       "    <tr>\n",
       "      <th>2085</th>\n",
       "      <td>-40.035857</td>\n",
       "      <td>0.139960</td>\n",
       "    </tr>\n",
       "    <tr>\n",
       "      <th>1650</th>\n",
       "      <td>-44.855902</td>\n",
       "      <td>0.143879</td>\n",
       "    </tr>\n",
       "    <tr>\n",
       "      <th>1007</th>\n",
       "      <td>-34.393129</td>\n",
       "      <td>0.144501</td>\n",
       "    </tr>\n",
       "    <tr>\n",
       "      <th>921</th>\n",
       "      <td>-45.360703</td>\n",
       "      <td>0.145396</td>\n",
       "    </tr>\n",
       "    <tr>\n",
       "      <th>1488</th>\n",
       "      <td>-48.837934</td>\n",
       "      <td>0.145614</td>\n",
       "    </tr>\n",
       "    <tr>\n",
       "      <th>1569</th>\n",
       "      <td>-47.370677</td>\n",
       "      <td>0.145829</td>\n",
       "    </tr>\n",
       "    <tr>\n",
       "      <th>1736</th>\n",
       "      <td>-34.699825</td>\n",
       "      <td>0.146177</td>\n",
       "    </tr>\n",
       "    <tr>\n",
       "      <th>840</th>\n",
       "      <td>-48.493744</td>\n",
       "      <td>0.146954</td>\n",
       "    </tr>\n",
       "    <tr>\n",
       "      <th>192</th>\n",
       "      <td>-46.833212</td>\n",
       "      <td>0.148542</td>\n",
       "    </tr>\n",
       "    <tr>\n",
       "      <th>1356</th>\n",
       "      <td>-39.111923</td>\n",
       "      <td>0.148628</td>\n",
       "    </tr>\n",
       "  </tbody>\n",
       "</table>\n",
       "</div>"
      ],
      "text/plain": [
       "                             aic  forecast_test_mse\n",
       "parameter_dict_number                              \n",
       "2085                  -40.035857           0.139960\n",
       "1650                  -44.855902           0.143879\n",
       "1007                  -34.393129           0.144501\n",
       "921                   -45.360703           0.145396\n",
       "1488                  -48.837934           0.145614\n",
       "1569                  -47.370677           0.145829\n",
       "1736                  -34.699825           0.146177\n",
       "840                   -48.493744           0.146954\n",
       "192                   -46.833212           0.148542\n",
       "1356                  -39.111923           0.148628"
      ]
     },
     "execution_count": 20,
     "metadata": {},
     "output_type": "execute_result"
    }
   ],
   "source": [
    "parameter_gridsearch_df.sort_values(by='forecast_test_mse').head(10)"
   ]
  },
  {
   "cell_type": "code",
   "execution_count": 21,
   "metadata": {},
   "outputs": [],
   "source": [
    "best_by_mse = list(parameter_gridsearch_df.sort_values(by='forecast_test_mse').head(10).index)"
   ]
  },
  {
   "cell_type": "code",
   "execution_count": 22,
   "metadata": {},
   "outputs": [
    {
     "data": {
      "text/plain": [
       "[2085, 1650, 1007, 921, 1488, 1569, 1736, 840, 192, 1356]"
      ]
     },
     "execution_count": 22,
     "metadata": {},
     "output_type": "execute_result"
    }
   ],
   "source": [
    "best_by_mse"
   ]
  },
  {
   "cell_type": "code",
   "execution_count": 30,
   "metadata": {},
   "outputs": [
    {
     "name": "stdout",
     "output_type": "stream",
     "text": [
      "{'order': (2, 0, 0), 'seasonal': (2, 0, 1, 12), 'trend': 'c', 'enforce_stationarity': False, 'enforce_invertibility': False}\n",
      "{'order': (2, 0, 1), 'seasonal': (2, 0, 1, 12), 'trend': 'c', 'enforce_stationarity': False, 'enforce_invertibility': False}\n",
      "{'order': (1, 0, 1), 'seasonal': (2, 0, 2, 12), 'trend': 'c', 'enforce_stationarity': False, 'enforce_invertibility': False}\n",
      "{'order': (0, 0, 2), 'seasonal': (2, 0, 2, 12), 'trend': 'c', 'enforce_stationarity': False, 'enforce_invertibility': False}\n",
      "{'order': (2, 0, 0), 'seasonal': (2, 0, 2, 12), 'trend': 'c', 'enforce_stationarity': False, 'enforce_invertibility': False}\n",
      "{'order': (2, 0, 1), 'seasonal': (2, 0, 2, 12), 'trend': 'c', 'enforce_stationarity': False, 'enforce_invertibility': False}\n",
      "{'order': (0, 0, 1), 'seasonal': (2, 0, 2, 12), 'trend': 'c', 'enforce_stationarity': False, 'enforce_invertibility': False}\n",
      "{'order': (0, 0, 1), 'seasonal': (2, 0, 2, 12), 'trend': 't', 'enforce_stationarity': False, 'enforce_invertibility': False}\n",
      "{'order': (1, 0, 2), 'seasonal': (2, 0, 2, 12), 'trend': 'c', 'enforce_stationarity': False, 'enforce_invertibility': False}\n",
      "{'order': (1, 0, 0), 'seasonal': (2, 0, 2, 12), 'trend': 'c', 'enforce_stationarity': False, 'enforce_invertibility': False}\n"
     ]
    }
   ],
   "source": [
    "for d in best_by_aic:\n",
    "    print(list_of_SARIMA_dicts[d])"
   ]
  },
  {
   "cell_type": "code",
   "execution_count": 31,
   "metadata": {},
   "outputs": [
    {
     "name": "stdout",
     "output_type": "stream",
     "text": [
      "{'order': (2, 2, 1), 'seasonal': (2, 0, 2, 12), 'trend': 'c', 'enforce_stationarity': False, 'enforce_invertibility': False}\n",
      "{'order': (2, 0, 2), 'seasonal': (1, 0, 1, 12), 'trend': 'c', 'enforce_stationarity': False, 'enforce_invertibility': False}\n",
      "{'order': (1, 1, 0), 'seasonal': (1, 0, 2, 12), 'trend': 't', 'enforce_stationarity': False, 'enforce_invertibility': False}\n",
      "{'order': (1, 0, 2), 'seasonal': (1, 0, 1, 12), 'trend': 'c', 'enforce_stationarity': False, 'enforce_invertibility': False}\n",
      "{'order': (2, 0, 0), 'seasonal': (1, 0, 1, 12), 'trend': 'c', 'enforce_stationarity': False, 'enforce_invertibility': False}\n",
      "{'order': (2, 0, 1), 'seasonal': (1, 0, 1, 12), 'trend': 'c', 'enforce_stationarity': False, 'enforce_invertibility': False}\n",
      "{'order': (2, 1, 0), 'seasonal': (1, 0, 2, 12), 'trend': 't', 'enforce_stationarity': False, 'enforce_invertibility': False}\n",
      "{'order': (1, 0, 1), 'seasonal': (1, 0, 1, 12), 'trend': 'c', 'enforce_stationarity': False, 'enforce_invertibility': False}\n",
      "{'order': (0, 0, 2), 'seasonal': (1, 0, 1, 12), 'trend': 'c', 'enforce_stationarity': False, 'enforce_invertibility': False}\n",
      "{'order': (1, 2, 1), 'seasonal': (2, 0, 2, 12), 'trend': 'c', 'enforce_stationarity': False, 'enforce_invertibility': False}\n"
     ]
    }
   ],
   "source": [
    "for d in best_by_mse:\n",
    "    print(list_of_SARIMA_dicts[d])"
   ]
  },
  {
   "cell_type": "code",
   "execution_count": 47,
   "metadata": {},
   "outputs": [
    {
     "data": {
      "text/plain": [
       "{'order': (2, 0, 0),\n",
       " 'seasonal': (2, 0, 1, 12),\n",
       " 'trend': 'c',\n",
       " 'enforce_stationarity': False,\n",
       " 'enforce_invertibility': False}"
      ]
     },
     "execution_count": 47,
     "metadata": {},
     "output_type": "execute_result"
    }
   ],
   "source": [
    "list_of_SARIMA_dicts[1515]"
   ]
  },
  {
   "cell_type": "code",
   "execution_count": 41,
   "metadata": {},
   "outputs": [],
   "source": [
    "california_prediction = get_test_prediction_from_arimax_with_params(list_of_SARIMA_dicts[1515], california_df['mortality_per_100k'], train_fraction=0.4)"
   ]
  },
  {
   "cell_type": "code",
   "execution_count": 42,
   "metadata": {},
   "outputs": [
    {
     "data": {
      "text/plain": [
       "[<matplotlib.lines.Line2D at 0x1a1e4025f8>]"
      ]
     },
     "execution_count": 42,
     "metadata": {},
     "output_type": "execute_result"
    },
    {
     "data": {
      "image/png": "[encoded data removed]",
      "text/plain": [
       "<Figure size 432x288 with 1 Axes>"
      ]
     },
     "metadata": {},
     "output_type": "display_data"
    }
   ],
   "source": [
    "plt.plot(california_prediction)\n",
    "plt.plot(california_df['mortality_per_100k'])"
   ]
  },
  {
   "cell_type": "markdown",
   "metadata": {},
   "source": [
    "The quality of the forecast is heavily dependent how much of the data it has trained on, or what data it sees when it trained. When we did gridsearch in order to get that 2085 has the lowest MSE, this was with a training fraction of 0.66. If you set the training fraction to 0.4, the forecast looks horrible."
   ]
  },
  {
   "cell_type": "code",
   "execution_count": 52,
   "metadata": {},
   "outputs": [],
   "source": [
    "california_forecast = get_test_forecast_from_arimax_with_params(list_of_SARIMA_dicts[2085], california_df['mortality_per_100k'], train_fraction=0.66)"
   ]
  },
  {
   "cell_type": "code",
   "execution_count": 53,
   "metadata": {},
   "outputs": [
    {
     "data": {
      "text/plain": [
       "[<matplotlib.lines.Line2D at 0x1a1d479ba8>]"
      ]
     },
     "execution_count": 53,
     "metadata": {},
     "output_type": "execute_result"
    },
    {
     "data": {
      "image/png": "[encoded data removed]",
      "text/plain": [
       "<Figure size 432x288 with 1 Axes>"
      ]
     },
     "metadata": {},
     "output_type": "display_data"
    }
   ],
   "source": [
    "plt.plot(california_forecast)\n",
    "plt.plot(california_df['mortality_per_100k'])"
   ]
  },
  {
   "cell_type": "markdown",
   "metadata": {},
   "source": [
    "When we set the train_fraction to the same value that it was at for the gridsearch, we can see why the parameters for `2085` look great! But then let's change the training fraction to 0.4 and see what happens:"
   ]
  },
  {
   "cell_type": "code",
   "execution_count": 50,
   "metadata": {},
   "outputs": [],
   "source": [
    "california_forecast = get_test_forecast_from_arimax_with_params(list_of_SARIMA_dicts[2085], california_df['mortality_per_100k'], train_fraction=0.4)"
   ]
  },
  {
   "cell_type": "code",
   "execution_count": 51,
   "metadata": {},
   "outputs": [
    {
     "data": {
      "text/plain": [
       "[<matplotlib.lines.Line2D at 0x1a1e048390>]"
      ]
     },
     "execution_count": 51,
     "metadata": {},
     "output_type": "execute_result"
    },
    {
     "data": {
      "image/png": "[encoded data removed]",
      "text/plain": [
       "<Figure size 432x288 with 1 Axes>"
      ]
     },
     "metadata": {},
     "output_type": "display_data"
    }
   ],
   "source": [
    "plt.plot(california_forecast)\n",
    "plt.plot(california_df['mortality_per_100k'])"
   ]
  },
  {
   "cell_type": "markdown",
   "metadata": {},
   "source": [
    "Let's try the parameters from `list_of_SARIMA_dicts[542]` on other states's cardiac mortality data and see how it goes."
   ]
  },
  {
   "cell_type": "code",
   "execution_count": 356,
   "metadata": {},
   "outputs": [],
   "source": [
    "st = 'Florida'"
   ]
  },
  {
   "cell_type": "code",
   "execution_count": 361,
   "metadata": {},
   "outputs": [],
   "source": [
    "w = get_test_prediction_from_arimax_with_params(list_of_SARIMA_dicts[1515], state_mortality_dict[st]['mortality_per_100k'], train_fraction=0.3)"
   ]
  },
  {
   "cell_type": "code",
   "execution_count": 362,
   "metadata": {},
   "outputs": [
    {
     "data": {
      "text/plain": [
       "[<matplotlib.lines.Line2D at 0x1c28fc6b00>]"
      ]
     },
     "execution_count": 362,
     "metadata": {},
     "output_type": "execute_result"
    },
    {
     "data": {
      "image/png": "[encoded data removed]",
      "text/plain": [
       "<Figure size 432x288 with 1 Axes>"
      ]
     },
     "metadata": {},
     "output_type": "display_data"
    }
   ],
   "source": [
    "plt.plot(w)\n",
    "plt.plot(state_mortality_dict[st]['mortality_per_100k'])"
   ]
  },
  {
   "cell_type": "markdown",
   "metadata": {},
   "source": [
    "# 2. SARIMAX\n",
    "\n",
    "Step 2: Now, we're going to try incorporating the exogenous variables of obesity and diabetes prevalance into our prediction. We're going to have to rewrite the helper functions in order to allow for the possibility of inputting exogenous variables. Now that we've rewritten it, let's go back to section 1 and make sure that the rewritten functions still work."
   ]
  },
  {
   "cell_type": "code",
   "execution_count": null,
   "metadata": {},
   "outputs": [],
   "source": [
    "clean"
   ]
  },
  {
   "cell_type": "code",
   "execution_count": 27,
   "metadata": {},
   "outputs": [
    {
     "data": {
      "text/html": [
       "<div>\n",
       "<style scoped>\n",
       "    .dataframe tbody tr th:only-of-type {\n",
       "        vertical-align: middle;\n",
       "    }\n",
       "\n",
       "    .dataframe tbody tr th {\n",
       "        vertical-align: top;\n",
       "    }\n",
       "\n",
       "    .dataframe thead th {\n",
       "        text-align: right;\n",
       "    }\n",
       "</style>\n",
       "<table border=\"1\" class=\"dataframe\">\n",
       "  <thead>\n",
       "    <tr style=\"text-align: right;\">\n",
       "      <th></th>\n",
       "      <th>Deaths</th>\n",
       "      <th>obesity_prevalence</th>\n",
       "      <th>diabetes_prevalence</th>\n",
       "      <th>Population</th>\n",
       "      <th>mortality_per_100k</th>\n",
       "    </tr>\n",
       "    <tr>\n",
       "      <th>Month</th>\n",
       "      <th></th>\n",
       "      <th></th>\n",
       "      <th></th>\n",
       "      <th></th>\n",
       "      <th></th>\n",
       "    </tr>\n",
       "  </thead>\n",
       "  <tbody>\n",
       "    <tr>\n",
       "      <th>1999-01-01</th>\n",
       "      <td>1644.0</td>\n",
       "      <td>41.500000</td>\n",
       "      <td>6.50</td>\n",
       "      <td>33499204.0</td>\n",
       "      <td>4.907579</td>\n",
       "    </tr>\n",
       "    <tr>\n",
       "      <th>1999-02-01</th>\n",
       "      <td>1591.0</td>\n",
       "      <td>41.308333</td>\n",
       "      <td>6.55</td>\n",
       "      <td>33530241.0</td>\n",
       "      <td>4.744970</td>\n",
       "    </tr>\n",
       "    <tr>\n",
       "      <th>1999-03-01</th>\n",
       "      <td>1630.0</td>\n",
       "      <td>41.116667</td>\n",
       "      <td>6.60</td>\n",
       "      <td>33561278.0</td>\n",
       "      <td>4.856788</td>\n",
       "    </tr>\n",
       "    <tr>\n",
       "      <th>1999-04-01</th>\n",
       "      <td>1514.0</td>\n",
       "      <td>40.925000</td>\n",
       "      <td>6.65</td>\n",
       "      <td>33592315.0</td>\n",
       "      <td>4.506983</td>\n",
       "    </tr>\n",
       "    <tr>\n",
       "      <th>1999-05-01</th>\n",
       "      <td>1353.0</td>\n",
       "      <td>40.733333</td>\n",
       "      <td>6.70</td>\n",
       "      <td>33623352.0</td>\n",
       "      <td>4.023989</td>\n",
       "    </tr>\n",
       "  </tbody>\n",
       "</table>\n",
       "</div>"
      ],
      "text/plain": [
       "            Deaths  obesity_prevalence  diabetes_prevalence  Population  \\\n",
       "Month                                                                     \n",
       "1999-01-01  1644.0           41.500000                 6.50  33499204.0   \n",
       "1999-02-01  1591.0           41.308333                 6.55  33530241.0   \n",
       "1999-03-01  1630.0           41.116667                 6.60  33561278.0   \n",
       "1999-04-01  1514.0           40.925000                 6.65  33592315.0   \n",
       "1999-05-01  1353.0           40.733333                 6.70  33623352.0   \n",
       "\n",
       "            mortality_per_100k  \n",
       "Month                           \n",
       "1999-01-01            4.907579  \n",
       "1999-02-01            4.744970  \n",
       "1999-03-01            4.856788  \n",
       "1999-04-01            4.506983  \n",
       "1999-05-01            4.023989  "
      ]
     },
     "execution_count": 27,
     "metadata": {},
     "output_type": "execute_result"
    }
   ],
   "source": [
    "california_df.head()"
   ]
  },
  {
   "cell_type": "code",
   "execution_count": 29,
   "metadata": {},
   "outputs": [],
   "source": [
    "model = SARIMAX(california_df['mortality_per_100k'], exog=None)"
   ]
  },
  {
   "cell_type": "code",
   "execution_count": 32,
   "metadata": {},
   "outputs": [],
   "source": [
    "time_series_length = len(california_df['mortality_per_100k'])"
   ]
  },
  {
   "cell_type": "code",
   "execution_count": 72,
   "metadata": {},
   "outputs": [],
   "source": [
    "train_length = math.ceil(0.66*time_series_length)"
   ]
  },
  {
   "cell_type": "code",
   "execution_count": 76,
   "metadata": {},
   "outputs": [],
   "source": [
    "target = california_df['mortality_per_100k']\n",
    "exog_var=california_df[['obesity_prevalence', 'diabetes_prevalence']]\n",
    "\n",
    "target_train = target[0:train_length]\n",
    "target_test = target[train_length:]\n",
    "\n",
    "exog_train = exog_var[0:train_length]\n",
    "exog_test = exog_var[train_length:]"
   ]
  },
  {
   "cell_type": "code",
   "execution_count": 77,
   "metadata": {},
   "outputs": [],
   "source": [
    "model = SARIMAX(target_train, exog=exog_train)"
   ]
  },
  {
   "cell_type": "code",
   "execution_count": 78,
   "metadata": {},
   "outputs": [],
   "source": [
    "result = model.fit()"
   ]
  },
  {
   "cell_type": "code",
   "execution_count": 79,
   "metadata": {},
   "outputs": [],
   "source": [
    "test_start_date = min(target_test.index)\n",
    "test_end_date = max(target_test.index)"
   ]
  },
  {
   "cell_type": "markdown",
   "metadata": {},
   "source": [
    "Okay, so let's try doing a gridsearch with exogenous variables."
   ]
  },
  {
   "cell_type": "code",
   "execution_count": 13,
   "metadata": {},
   "outputs": [
    {
     "data": {
      "application/vnd.jupyter.widget-view+json": {
       "model_id": "08a35da7c30a4fe79e1f8d6e219aad10",
       "version_major": 2,
       "version_minor": 0
      },
      "text/plain": [
       "VBox(children=(HTML(value=''), IntProgress(value=0, max=2187)))"
      ]
     },
     "metadata": {},
     "output_type": "display_data"
    }
   ],
   "source": [
    "comparison_list_forecasting_exog = []\n",
    "\n",
    "for index, SARIMA_parameter_dictionary in log_progress(enumerate(list_of_SARIMA_dicts), every=1, size=len(list_of_SARIMA_dicts)):\n",
    "    aic, test_rmse = evaluate_arimax_model_using_forecasting(SARIMA_parameter_dictionary, california_df['mortality_per_100k'], 0.66, california_df[['obesity_prevalence', 'diabetes_prevalence']])\n",
    "    comparison_list_forecasting_exog.append((index, aic, test_rmse))"
   ]
  },
  {
   "cell_type": "code",
   "execution_count": 15,
   "metadata": {},
   "outputs": [],
   "source": [
    "parameter_gridsearch_exog_df = pd.DataFrame(comparison_list_forecasting_exog, columns=['dict_num', 'AIC', 'test_RMSE'])\n",
    "parameter_gridsearch_exog_df.set_index('dict_num', inplace=True)"
   ]
  },
  {
   "cell_type": "code",
   "execution_count": 18,
   "metadata": {},
   "outputs": [
    {
     "data": {
      "text/html": [
       "<div>\n",
       "<style scoped>\n",
       "    .dataframe tbody tr th:only-of-type {\n",
       "        vertical-align: middle;\n",
       "    }\n",
       "\n",
       "    .dataframe tbody tr th {\n",
       "        vertical-align: top;\n",
       "    }\n",
       "\n",
       "    .dataframe thead th {\n",
       "        text-align: right;\n",
       "    }\n",
       "</style>\n",
       "<table border=\"1\" class=\"dataframe\">\n",
       "  <thead>\n",
       "    <tr style=\"text-align: right;\">\n",
       "      <th></th>\n",
       "      <th>AIC</th>\n",
       "      <th>test_RMSE</th>\n",
       "    </tr>\n",
       "    <tr>\n",
       "      <th>dict_num</th>\n",
       "      <th></th>\n",
       "      <th></th>\n",
       "    </tr>\n",
       "  </thead>\n",
       "  <tbody>\n",
       "    <tr>\n",
       "      <th>2166</th>\n",
       "      <td>-26.368891</td>\n",
       "      <td>0.141320</td>\n",
       "    </tr>\n",
       "    <tr>\n",
       "      <th>1734</th>\n",
       "      <td>-38.509366</td>\n",
       "      <td>0.142710</td>\n",
       "    </tr>\n",
       "    <tr>\n",
       "      <th>1569</th>\n",
       "      <td>-39.920566</td>\n",
       "      <td>0.144263</td>\n",
       "    </tr>\n",
       "    <tr>\n",
       "      <th>840</th>\n",
       "      <td>-45.240214</td>\n",
       "      <td>0.144399</td>\n",
       "    </tr>\n",
       "    <tr>\n",
       "      <th>1356</th>\n",
       "      <td>-31.715080</td>\n",
       "      <td>0.145584</td>\n",
       "    </tr>\n",
       "    <tr>\n",
       "      <th>1005</th>\n",
       "      <td>-36.404482</td>\n",
       "      <td>0.147044</td>\n",
       "    </tr>\n",
       "    <tr>\n",
       "      <th>1650</th>\n",
       "      <td>-36.795467</td>\n",
       "      <td>0.147144</td>\n",
       "    </tr>\n",
       "    <tr>\n",
       "      <th>192</th>\n",
       "      <td>-44.618564</td>\n",
       "      <td>0.147205</td>\n",
       "    </tr>\n",
       "    <tr>\n",
       "      <th>1488</th>\n",
       "      <td>-45.748953</td>\n",
       "      <td>0.149371</td>\n",
       "    </tr>\n",
       "    <tr>\n",
       "      <th>276</th>\n",
       "      <td>-20.752143</td>\n",
       "      <td>0.149936</td>\n",
       "    </tr>\n",
       "  </tbody>\n",
       "</table>\n",
       "</div>"
      ],
      "text/plain": [
       "                AIC  test_RMSE\n",
       "dict_num                      \n",
       "2166     -26.368891   0.141320\n",
       "1734     -38.509366   0.142710\n",
       "1569     -39.920566   0.144263\n",
       "840      -45.240214   0.144399\n",
       "1356     -31.715080   0.145584\n",
       "1005     -36.404482   0.147044\n",
       "1650     -36.795467   0.147144\n",
       "192      -44.618564   0.147205\n",
       "1488     -45.748953   0.149371\n",
       "276      -20.752143   0.149936"
      ]
     },
     "execution_count": 18,
     "metadata": {},
     "output_type": "execute_result"
    }
   ],
   "source": [
    "parameter_gridsearch_exog_df.sort_values(by='test_RMSE').head(10)"
   ]
  },
  {
   "cell_type": "code",
   "execution_count": 19,
   "metadata": {},
   "outputs": [
    {
     "data": {
      "text/html": [
       "<div>\n",
       "<style scoped>\n",
       "    .dataframe tbody tr th:only-of-type {\n",
       "        vertical-align: middle;\n",
       "    }\n",
       "\n",
       "    .dataframe tbody tr th {\n",
       "        vertical-align: top;\n",
       "    }\n",
       "\n",
       "    .dataframe thead th {\n",
       "        text-align: right;\n",
       "    }\n",
       "</style>\n",
       "<table border=\"1\" class=\"dataframe\">\n",
       "  <thead>\n",
       "    <tr style=\"text-align: right;\">\n",
       "      <th></th>\n",
       "      <th>AIC</th>\n",
       "      <th>test_RMSE</th>\n",
       "    </tr>\n",
       "    <tr>\n",
       "      <th>dict_num</th>\n",
       "      <th></th>\n",
       "      <th></th>\n",
       "    </tr>\n",
       "  </thead>\n",
       "  <tbody>\n",
       "    <tr>\n",
       "      <th>1515</th>\n",
       "      <td>-72.112625</td>\n",
       "      <td>0.270022</td>\n",
       "    </tr>\n",
       "    <tr>\n",
       "      <th>141</th>\n",
       "      <td>-70.442653</td>\n",
       "      <td>0.254391</td>\n",
       "    </tr>\n",
       "    <tr>\n",
       "      <th>1518</th>\n",
       "      <td>-70.165577</td>\n",
       "      <td>0.215213</td>\n",
       "    </tr>\n",
       "    <tr>\n",
       "      <th>222</th>\n",
       "      <td>-69.649411</td>\n",
       "      <td>0.248630</td>\n",
       "    </tr>\n",
       "    <tr>\n",
       "      <th>789</th>\n",
       "      <td>-69.592347</td>\n",
       "      <td>0.219984</td>\n",
       "    </tr>\n",
       "    <tr>\n",
       "      <th>870</th>\n",
       "      <td>-69.478468</td>\n",
       "      <td>0.214301</td>\n",
       "    </tr>\n",
       "    <tr>\n",
       "      <th>143</th>\n",
       "      <td>-68.730542</td>\n",
       "      <td>0.435107</td>\n",
       "    </tr>\n",
       "    <tr>\n",
       "      <th>872</th>\n",
       "      <td>-68.314182</td>\n",
       "      <td>0.369722</td>\n",
       "    </tr>\n",
       "    <tr>\n",
       "      <th>951</th>\n",
       "      <td>-66.285691</td>\n",
       "      <td>0.226835</td>\n",
       "    </tr>\n",
       "    <tr>\n",
       "      <th>1677</th>\n",
       "      <td>-65.902425</td>\n",
       "      <td>0.257373</td>\n",
       "    </tr>\n",
       "  </tbody>\n",
       "</table>\n",
       "</div>"
      ],
      "text/plain": [
       "                AIC  test_RMSE\n",
       "dict_num                      \n",
       "1515     -72.112625   0.270022\n",
       "141      -70.442653   0.254391\n",
       "1518     -70.165577   0.215213\n",
       "222      -69.649411   0.248630\n",
       "789      -69.592347   0.219984\n",
       "870      -69.478468   0.214301\n",
       "143      -68.730542   0.435107\n",
       "872      -68.314182   0.369722\n",
       "951      -66.285691   0.226835\n",
       "1677     -65.902425   0.257373"
      ]
     },
     "execution_count": 19,
     "metadata": {},
     "output_type": "execute_result"
    }
   ],
   "source": [
    "parameter_gridsearch_exog_df.sort_values(by='AIC').head(10)"
   ]
  },
  {
   "cell_type": "code",
   "execution_count": 20,
   "metadata": {},
   "outputs": [],
   "source": [
    "with open(\"../data/pickles/interpol_truncated_MI_mortality_per_state_dict.pkl\", \"rb\") as picklefile:\n",
    "    clean_dict_of_state_dfs = pickle.load(picklefile)"
   ]
  },
  {
   "cell_type": "code",
   "execution_count": 21,
   "metadata": {},
   "outputs": [],
   "source": [
    "alabama = clean_dict_of_state_dfs['Alabama']"
   ]
  },
  {
   "cell_type": "code",
   "execution_count": 23,
   "metadata": {},
   "outputs": [
    {
     "data": {
      "text/html": [
       "<div>\n",
       "<style scoped>\n",
       "    .dataframe tbody tr th:only-of-type {\n",
       "        vertical-align: middle;\n",
       "    }\n",
       "\n",
       "    .dataframe tbody tr th {\n",
       "        vertical-align: top;\n",
       "    }\n",
       "\n",
       "    .dataframe thead th {\n",
       "        text-align: right;\n",
       "    }\n",
       "</style>\n",
       "<table border=\"1\" class=\"dataframe\">\n",
       "  <thead>\n",
       "    <tr style=\"text-align: right;\">\n",
       "      <th></th>\n",
       "      <th>Deaths</th>\n",
       "      <th>obesity_prevalence</th>\n",
       "      <th>diabetes_prevalence</th>\n",
       "      <th>Population</th>\n",
       "      <th>mortality_per_100k</th>\n",
       "    </tr>\n",
       "    <tr>\n",
       "      <th>Month</th>\n",
       "      <th></th>\n",
       "      <th></th>\n",
       "      <th></th>\n",
       "      <th></th>\n",
       "      <th></th>\n",
       "    </tr>\n",
       "  </thead>\n",
       "  <tbody>\n",
       "    <tr>\n",
       "      <th>2014-09-01</th>\n",
       "      <td>168.0</td>\n",
       "      <td>62.900</td>\n",
       "      <td>11.933333</td>\n",
       "      <td>4.855778e+06</td>\n",
       "      <td>3.459795</td>\n",
       "    </tr>\n",
       "    <tr>\n",
       "      <th>2014-10-01</th>\n",
       "      <td>144.0</td>\n",
       "      <td>63.375</td>\n",
       "      <td>11.950000</td>\n",
       "      <td>4.856578e+06</td>\n",
       "      <td>2.965050</td>\n",
       "    </tr>\n",
       "    <tr>\n",
       "      <th>2014-11-01</th>\n",
       "      <td>202.0</td>\n",
       "      <td>63.850</td>\n",
       "      <td>11.966667</td>\n",
       "      <td>4.857379e+06</td>\n",
       "      <td>4.158622</td>\n",
       "    </tr>\n",
       "    <tr>\n",
       "      <th>2014-12-01</th>\n",
       "      <td>220.0</td>\n",
       "      <td>64.325</td>\n",
       "      <td>11.983333</td>\n",
       "      <td>4.858179e+06</td>\n",
       "      <td>4.528446</td>\n",
       "    </tr>\n",
       "    <tr>\n",
       "      <th>2015-01-01</th>\n",
       "      <td>199.0</td>\n",
       "      <td>64.800</td>\n",
       "      <td>12.000000</td>\n",
       "      <td>4.858979e+06</td>\n",
       "      <td>4.095511</td>\n",
       "    </tr>\n",
       "  </tbody>\n",
       "</table>\n",
       "</div>"
      ],
      "text/plain": [
       "            Deaths  obesity_prevalence  diabetes_prevalence    Population  \\\n",
       "Month                                                                       \n",
       "2014-09-01   168.0              62.900            11.933333  4.855778e+06   \n",
       "2014-10-01   144.0              63.375            11.950000  4.856578e+06   \n",
       "2014-11-01   202.0              63.850            11.966667  4.857379e+06   \n",
       "2014-12-01   220.0              64.325            11.983333  4.858179e+06   \n",
       "2015-01-01   199.0              64.800            12.000000  4.858979e+06   \n",
       "\n",
       "            mortality_per_100k  \n",
       "Month                           \n",
       "2014-09-01            3.459795  \n",
       "2014-10-01            2.965050  \n",
       "2014-11-01            4.158622  \n",
       "2014-12-01            4.528446  \n",
       "2015-01-01            4.095511  "
      ]
     },
     "execution_count": 23,
     "metadata": {},
     "output_type": "execute_result"
    }
   ],
   "source": [
    "alabama.tail()"
   ]
  },
  {
   "cell_type": "code",
   "execution_count": null,
   "metadata": {},
   "outputs": [],
   "source": []
  },
  {
   "cell_type": "markdown",
   "metadata": {},
   "source": [
    "## 3. Gridsearch/generalizability over all 50 states\n",
    "\n",
    "It would take a really long time to do a full gridsearch over all 50 states, so I think what would be more reasonable is to do a full gridsearch over 2-3 states and get the 10 best parameters for those states, and then use those to get a feel for how those parameters do for the other 48 or 47 states."
   ]
  },
  {
   "cell_type": "code",
   "execution_count": null,
   "metadata": {},
   "outputs": [],
   "source": []
  }
 ],
 "metadata": {
  "kernelspec": {
   "display_name": "Python 3",
   "language": "python",
   "name": "python3"
  },
  "language_info": {
   "codemirror_mode": {
    "name": "ipython",
    "version": 3
   },
   "file_extension": ".py",
   "mimetype": "text/x-python",
   "name": "python",
   "nbconvert_exporter": "python",
   "pygments_lexer": "ipython3",
   "version": "3.6.5"
  }
 },
 "nbformat": 4,
 "nbformat_minor": 2
}
