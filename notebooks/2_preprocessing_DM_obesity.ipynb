{
 "cells": [
  {
   "cell_type": "markdown",
   "metadata": {},
   "source": [
    "## Preprocessing DM and obesity prevalence\n",
    "\n",
    "Diabetes and obesity prevalance per state are provided by the CDC through the [Diabetes Atlas](https://gis.cdc.gov/grasp/diabetes/DiabetesAtlas.html#), and I downloaded the prevalence of each of these two indicators as csv files. This was to have predictors to work with before tackling extracting data from the BRFSS, which required a lot of work."
   ]
  },
  {
   "cell_type": "code",
   "execution_count": 1,
   "metadata": {},
   "outputs": [],
   "source": [
    "import pandas as pd\n",
    "import numpy as np\n",
    "import pickle\n",
    "\n",
    "import matplotlib.pyplot as plt\n",
    "\n",
    "# create autocorr plot\n",
    "from pandas.plotting import autocorrelation_plot\n",
    "from statsmodels.graphics.tsaplots import plot_acf, plot_pacf # better and more arguments\n",
    "\n",
    "%matplotlib inline"
   ]
  },
  {
   "cell_type": "markdown",
   "metadata": {},
   "source": [
    "The target variable is myocardial infarction by state."
   ]
  },
  {
   "cell_type": "code",
   "execution_count": 2,
   "metadata": {},
   "outputs": [
    {
     "name": "stdout",
     "output_type": "stream",
     "text": [
      "MI_mortality_medicaid_expansion.pkl\n",
      "any_exercise_list_of_dfs.pkl\n",
      "cardiac_mortality_obesity_dm_df_by_state.pkl\n",
      "codebook_dfs_dict.pkl\n",
      "consensus_var_desc_dict.pkl\n",
      "dict_of_interpol_covariate_state_dfs.pkl\n",
      "dict_of_relevant_dfs_raw.pkl\n",
      "interpol_truncated_MI_mortality_per_state_dict.pkl\n",
      "list_of_relevant_dfs_raw.pkl\n",
      "master_codebook_all_years.pkl\n",
      "master_dict_of_state_dfs_with_covariates.pkl\n",
      "myocardial_infarction_df_state_mortality_dict.pkl\n",
      "state_mortality_dict.pkl\n",
      "state_population_by_year_dict.pkl\n"
     ]
    }
   ],
   "source": [
    "%%bash\n",
    "ls ../data/pickles"
   ]
  },
  {
   "cell_type": "code",
   "execution_count": 3,
   "metadata": {},
   "outputs": [],
   "source": [
    "with open(\"../data/pickles/myocardial_infarction_df_state_mortality_dict.pkl\", \"rb\") as picklefile:\n",
    "    df, state_mortality_dict = pickle.load(picklefile)"
   ]
  },
  {
   "cell_type": "markdown",
   "metadata": {},
   "source": [
    "We'll use the diabetes prevalence and obesity prevalence per state per year as two predictor variables for the target time series."
   ]
  },
  {
   "cell_type": "code",
   "execution_count": 5,
   "metadata": {},
   "outputs": [
    {
     "name": "stdout",
     "output_type": "stream",
     "text": [
      "diabetes_prevalence_1999.csv\n",
      "diabetes_prevalence_2000.csv\n",
      "diabetes_prevalence_2001.csv\n",
      "diabetes_prevalence_2002.csv\n",
      "diabetes_prevalence_2003.csv\n",
      "diabetes_prevalence_2004.csv\n",
      "diabetes_prevalence_2005.csv\n",
      "diabetes_prevalence_2006.csv\n",
      "diabetes_prevalence_2007.csv\n",
      "diabetes_prevalence_2008.csv\n",
      "diabetes_prevalence_2009.csv\n",
      "diabetes_prevalence_2010.csv\n",
      "diabetes_prevalence_2011.csv\n",
      "diabetes_prevalence_2012.csv\n",
      "diabetes_prevalence_2013.csv\n",
      "diabetes_prevalence_2014.csv\n",
      "diabetes_prevalence_2015.csv\n"
     ]
    }
   ],
   "source": [
    "%%bash\n",
    "ls ../data/cdc_diabetes/state_diabetes_prevalence/"
   ]
  },
  {
   "cell_type": "code",
   "execution_count": 13,
   "metadata": {},
   "outputs": [],
   "source": [
    "states = list(state_mortality_dict.keys())\n",
    "\n",
    "years = list(range(1999, 2016))"
   ]
  },
  {
   "cell_type": "code",
   "execution_count": 15,
   "metadata": {},
   "outputs": [],
   "source": [
    "dm_prevalence_dict = {}\n",
    "\n",
    "for year in years:\n",
    "    if year == 2014 or year == 2015:\n",
    "        dm_prevalence_state_df = pd.read_csv(f\"../data/cdc_diabetes/state_diabetes_prevalence/diabetes_prevalence_{year}.csv\", sep=\"\\t\")\n",
    "    else:\n",
    "        dm_prevalence_state_df = pd.read_csv(f\"../data/cdc_diabetes/state_diabetes_prevalence/diabetes_prevalence_{year}.csv\")\n",
    "    \n",
    "    dm_prevalence_state_df['Percentage'] = pd.to_numeric(dm_prevalence_state_df['Percentage'], errors='coerce')\n",
    "    \n",
    "    for state in states:\n",
    "        if state in dm_prevalence_dict:\n",
    "            dm_prevalence_dict[state].append(float(dm_prevalence_state_df[dm_prevalence_state_df.State == state]['Percentage']))\n",
    "        else:\n",
    "            dm_prevalence_dict[state] = [float(dm_prevalence_state_df[dm_prevalence_state_df.State == state]['Percentage'])]"
   ]
  },
  {
   "cell_type": "code",
   "execution_count": 16,
   "metadata": {},
   "outputs": [],
   "source": [
    "for state, series in dm_prevalence_dict.items():\n",
    "    temp = dict(zip(pd.to_datetime(years, format='%Y'), series))\n",
    "    dm_prevalence_dict[state] = pd.Series(temp)"
   ]
  },
  {
   "cell_type": "markdown",
   "metadata": {},
   "source": [
    "We'll parse the obesity prevalence files in a similar fashion."
   ]
  },
  {
   "cell_type": "code",
   "execution_count": 18,
   "metadata": {},
   "outputs": [],
   "source": [
    "obesity_prevalence_dict = {}\n",
    "\n",
    "for year in years:\n",
    "    obesity_prevalence_state_df = pd.read_csv(f\"../data/cdc_diabetes/state_obesity_prevalence/obesity_prevalence_{year}.csv\")\n",
    "    \n",
    "    obesity_prevalence_state_df['Percentage'] = pd.to_numeric(obesity_prevalence_state_df['Percentage'], errors='coerce')\n",
    "    \n",
    "    for state in states:\n",
    "        if state in obesity_prevalence_dict:\n",
    "            obesity_prevalence_dict[state].append(float(obesity_prevalence_state_df[obesity_prevalence_state_df.State == state]['Percentage']))\n",
    "        else:\n",
    "            obesity_prevalence_dict[state] = [float(obesity_prevalence_state_df[obesity_prevalence_state_df.State == state]['Percentage'])]"
   ]
  },
  {
   "cell_type": "code",
   "execution_count": 19,
   "metadata": {},
   "outputs": [],
   "source": [
    "for state, series in obesity_prevalence_dict.items():\n",
    "    temp = dict(zip(pd.to_datetime(years, format='%Y'), series))\n",
    "    obesity_prevalence_dict[state] = pd.Series(temp)"
   ]
  },
  {
   "cell_type": "markdown",
   "metadata": {},
   "source": [
    "We need to resample the diabetes and obesity prevalence time series so that there is a data point for every month, in order to match the frequency of our target variable (total deaths due to myocardial infarction) which is sampled monthly."
   ]
  },
  {
   "cell_type": "code",
   "execution_count": 24,
   "metadata": {},
   "outputs": [],
   "source": [
    "dm_prevalence_resampled_dict = {}\n",
    "\n",
    "for state, time_series in dm_prevalence_dict.items():\n",
    "    resampled_ts = time_series.resample(\"M\").ffill(limit=1).interpolate('linear')\n",
    "    resampled_ts.index = resampled_ts.index - pd.offsets.MonthBegin(0) - pd.DateOffset(months=1)\n",
    "    dm_prevalence_resampled_dict[state] = resampled_ts"
   ]
  },
  {
   "cell_type": "code",
   "execution_count": 25,
   "metadata": {},
   "outputs": [],
   "source": [
    "obesity_prevalence_resampled_dict = {}\n",
    "\n",
    "for state, time_series in obesity_prevalence_dict.items():\n",
    "    resampled_ts = time_series.resample(\"M\").ffill(limit=1).interpolate('linear')\n",
    "    resampled_ts.index = resampled_ts.index - pd.offsets.MonthBegin(0) - pd.DateOffset(months=1)\n",
    "    obesity_prevalence_resampled_dict[state] = resampled_ts"
   ]
  },
  {
   "cell_type": "code",
   "execution_count": 26,
   "metadata": {},
   "outputs": [],
   "source": [
    "dict_of_dfs = {}\n",
    "\n",
    "for state, cardiac_mortality_df in state_mortality_dict.items():\n",
    "    temp_df = cardiac_mortality_df.copy()\n",
    "    temp_df['obesity_prevalence'] = obesity_prevalence_resampled_dict[state]\n",
    "    temp_df['diabetes_prevalence'] = dm_prevalence_resampled_dict[state]\n",
    "    dict_of_dfs[state] = temp_df"
   ]
  },
  {
   "cell_type": "markdown",
   "metadata": {},
   "source": [
    "Let's also import the state populations by year and then normalize the mortality rate by state population by year."
   ]
  },
  {
   "cell_type": "code",
   "execution_count": 27,
   "metadata": {},
   "outputs": [
    {
     "name": "stdout",
     "output_type": "stream",
     "text": [
      "DM_PREV_ALL_STATES.xlsx\n",
      "DM_PREV_by_sex_ALL_STATES.xlsx\n",
      "INCIDENCE_ALL_STATES.xlsx\n",
      "LTPIA_PREV_ALL_STATES.xlsx\n",
      "LTPIA_PREV_by_sex_ALL_STATES.xlsx\n",
      "OB_PREV_ALL_STATES.xlsx\n",
      "OB_PREV_by_sex_ALL_STATES.xlsx\n",
      "state_diabetes_prevalence\n",
      "state_obesity_prevalence\n",
      "state_populations_by_year.txt\n"
     ]
    }
   ],
   "source": [
    "%%bash\n",
    "ls ../data/cdc_diabetes/"
   ]
  },
  {
   "cell_type": "code",
   "execution_count": 28,
   "metadata": {},
   "outputs": [],
   "source": [
    "with open(\"../data/cdc_diabetes/state_populations_by_year.txt\", \"r\") as f:\n",
    "    lines = f.readlines()"
   ]
  },
  {
   "cell_type": "code",
   "execution_count": 29,
   "metadata": {},
   "outputs": [],
   "source": [
    "state_population_by_year = pd.read_csv(\"../data/cdc_diabetes/state_populations_by_year.txt\", delimiter=\"\\t\")\n",
    "state_population_by_year = state_population_by_year[['State', 'State Code', 'Year', 'Population']]\n",
    "state_population_by_year.dropna(inplace=True)\n",
    "\n",
    "state_population_by_year['Year'] = state_population_by_year['Year'].apply(int)\n",
    "state_population_by_year['Year'] = pd.to_datetime(state_population_by_year['Year'], format='%Y')\n",
    "state_population_by_year['Population'] = pd.to_numeric(state_population_by_year['Population'])"
   ]
  },
  {
   "cell_type": "code",
   "execution_count": 30,
   "metadata": {},
   "outputs": [],
   "source": [
    "grouped_by_state = state_population_by_year.groupby('State')[['Year', 'Population']]"
   ]
  },
  {
   "cell_type": "code",
   "execution_count": 31,
   "metadata": {},
   "outputs": [],
   "source": [
    "state_population_by_year_dict = {}\n",
    "\n",
    "for state in states:\n",
    "    temp = grouped_by_state.get_group(state).set_index('Year')\n",
    "    temp = temp.resample(\"M\").ffill(limit=1).interpolate('linear')\n",
    "    temp.index = temp.index - pd.offsets.MonthBegin(0) - pd.DateOffset(months=1)\n",
    "    state_population_by_year_dict[state] = temp"
   ]
  },
  {
   "cell_type": "code",
   "execution_count": 32,
   "metadata": {},
   "outputs": [],
   "source": [
    "for state in states:\n",
    "    temp_df = dict_of_dfs[state].copy()\n",
    "    temp_df['Population'] = state_population_by_year_dict[state]\n",
    "    temp_df['mortality_per_100k'] = 100000*(temp_df['Deaths']/temp_df['Population'])\n",
    "    dict_of_dfs[state] = temp_df"
   ]
  },
  {
   "cell_type": "code",
   "execution_count": 61,
   "metadata": {},
   "outputs": [],
   "source": [
    "with open(\"../data/pickles/state_population_by_year_dict.pkl\", \"wb\") as picklefile:\n",
    "    pickle.dump(state_population_by_year_dict, picklefile)"
   ]
  },
  {
   "cell_type": "code",
   "execution_count": null,
   "metadata": {},
   "outputs": [],
   "source": [
    "with open(\"../data/pickles/cardiac_mortality_obesity_dm_df_by_state.pkl\", \"wb\") as picklefile:\n",
    "    pickle.dump(dict_of_dfs, picklefile)"
   ]
  },
  {
   "cell_type": "markdown",
   "metadata": {},
   "source": [
    "We now have a dataframe with the target (mortality due to MI per 100K per state) and two predictor variables within a dataframe. We also have a dictionary containing each state's population between 1999 to 2015 on a monthly basis, using linear interpolation."
   ]
  },
  {
   "cell_type": "code",
   "execution_count": null,
   "metadata": {},
   "outputs": [],
   "source": []
  }
 ],
 "metadata": {
  "kernelspec": {
   "display_name": "Python 3",
   "language": "python",
   "name": "python3"
  },
  "language_info": {
   "codemirror_mode": {
    "name": "ipython",
    "version": 3
   },
   "file_extension": ".py",
   "mimetype": "text/x-python",
   "name": "python",
   "nbconvert_exporter": "python",
   "pygments_lexer": "ipython3",
   "version": "3.6.5"
  }
 },
 "nbformat": 4,
 "nbformat_minor": 2
}
