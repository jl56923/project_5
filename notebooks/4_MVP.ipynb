{
 "cells": [
  {
   "cell_type": "markdown",
   "metadata": {},
   "source": [
    "## Minimal viable product\n",
    "\n",
    "Target variable: \n",
    "* mortality secondary to myocardial infarction per month per state\n",
    "\n",
    "Predictor variables: \n",
    "* obesity prevalence and diabetes prevalence as percentage per state\n",
    "* initially given as annual data, upsampled to monthly frequency"
   ]
  },
  {
   "cell_type": "code",
   "execution_count": 1,
   "metadata": {},
   "outputs": [],
   "source": [
    "import pandas as pd\n",
    "import numpy as np\n",
    "import pickle\n",
    "\n",
    "import matplotlib.pyplot as plt\n",
    "\n",
    "# create autocorr plot\n",
    "from pandas.plotting import autocorrelation_plot\n",
    "from statsmodels.graphics.tsaplots import plot_acf, plot_pacf # better and more arguments\n",
    "\n",
    "%matplotlib inline"
   ]
  },
  {
   "cell_type": "markdown",
   "metadata": {},
   "source": [
    "The target variable is myocardial infarction by state."
   ]
  },
  {
   "cell_type": "code",
   "execution_count": 2,
   "metadata": {},
   "outputs": [
    {
     "name": "stdout",
     "output_type": "stream",
     "text": [
      "cardiac_mortality_obesity_dm_df_by_state.pkl\n",
      "myocardial_infarction_df_state_mortality_dict.pkl\n"
     ]
    }
   ],
   "source": [
    "%%bash\n",
    "ls ../data/pickles"
   ]
  },
  {
   "cell_type": "code",
   "execution_count": 3,
   "metadata": {},
   "outputs": [],
   "source": [
    "with open(\"../data/pickles/myocardial_infarction_df_state_mortality_dict.pkl\", \"rb\") as picklefile:\n",
    "    df, state_mortality_dict = pickle.load(picklefile)"
   ]
  },
  {
   "cell_type": "code",
   "execution_count": 4,
   "metadata": {},
   "outputs": [
    {
     "data": {
      "text/html": [
       "<div>\n",
       "<style scoped>\n",
       "    .dataframe tbody tr th:only-of-type {\n",
       "        vertical-align: middle;\n",
       "    }\n",
       "\n",
       "    .dataframe tbody tr th {\n",
       "        vertical-align: top;\n",
       "    }\n",
       "\n",
       "    .dataframe thead th {\n",
       "        text-align: right;\n",
       "    }\n",
       "</style>\n",
       "<table border=\"1\" class=\"dataframe\">\n",
       "  <thead>\n",
       "    <tr style=\"text-align: right;\">\n",
       "      <th></th>\n",
       "      <th>Notes</th>\n",
       "      <th>State</th>\n",
       "      <th>State Code</th>\n",
       "      <th>Month</th>\n",
       "      <th>Month Code</th>\n",
       "      <th>Deaths</th>\n",
       "      <th>Population</th>\n",
       "      <th>Crude Rate</th>\n",
       "    </tr>\n",
       "  </thead>\n",
       "  <tbody>\n",
       "    <tr>\n",
       "      <th>0</th>\n",
       "      <td></td>\n",
       "      <td>Alabama</td>\n",
       "      <td>01</td>\n",
       "      <td>1999-01-01</td>\n",
       "      <td>1999/01</td>\n",
       "      <td>332.0</td>\n",
       "      <td>Not Applicable</td>\n",
       "      <td>Not Applicable</td>\n",
       "    </tr>\n",
       "    <tr>\n",
       "      <th>1</th>\n",
       "      <td></td>\n",
       "      <td>Alabama</td>\n",
       "      <td>01</td>\n",
       "      <td>1999-02-01</td>\n",
       "      <td>1999/02</td>\n",
       "      <td>332.0</td>\n",
       "      <td>Not Applicable</td>\n",
       "      <td>Not Applicable</td>\n",
       "    </tr>\n",
       "    <tr>\n",
       "      <th>2</th>\n",
       "      <td></td>\n",
       "      <td>Alabama</td>\n",
       "      <td>01</td>\n",
       "      <td>1999-03-01</td>\n",
       "      <td>1999/03</td>\n",
       "      <td>377.0</td>\n",
       "      <td>Not Applicable</td>\n",
       "      <td>Not Applicable</td>\n",
       "    </tr>\n",
       "    <tr>\n",
       "      <th>3</th>\n",
       "      <td></td>\n",
       "      <td>Alabama</td>\n",
       "      <td>01</td>\n",
       "      <td>1999-04-01</td>\n",
       "      <td>1999/04</td>\n",
       "      <td>301.0</td>\n",
       "      <td>Not Applicable</td>\n",
       "      <td>Not Applicable</td>\n",
       "    </tr>\n",
       "    <tr>\n",
       "      <th>4</th>\n",
       "      <td></td>\n",
       "      <td>Alabama</td>\n",
       "      <td>01</td>\n",
       "      <td>1999-05-01</td>\n",
       "      <td>1999/05</td>\n",
       "      <td>314.0</td>\n",
       "      <td>Not Applicable</td>\n",
       "      <td>Not Applicable</td>\n",
       "    </tr>\n",
       "  </tbody>\n",
       "</table>\n",
       "</div>"
      ],
      "text/plain": [
       "  Notes    State State Code      Month Month Code  Deaths      Population  \\\n",
       "0        Alabama         01 1999-01-01    1999/01   332.0  Not Applicable   \n",
       "1        Alabama         01 1999-02-01    1999/02   332.0  Not Applicable   \n",
       "2        Alabama         01 1999-03-01    1999/03   377.0  Not Applicable   \n",
       "3        Alabama         01 1999-04-01    1999/04   301.0  Not Applicable   \n",
       "4        Alabama         01 1999-05-01    1999/05   314.0  Not Applicable   \n",
       "\n",
       "       Crude Rate  \n",
       "0  Not Applicable  \n",
       "1  Not Applicable  \n",
       "2  Not Applicable  \n",
       "3  Not Applicable  \n",
       "4  Not Applicable  "
      ]
     },
     "execution_count": 4,
     "metadata": {},
     "output_type": "execute_result"
    }
   ],
   "source": [
    "df.head()"
   ]
  },
  {
   "cell_type": "markdown",
   "metadata": {},
   "source": [
    "The predictor variables that I have available and that are actually clean are the ones supplied by the CDC diabetes atlas. So, we'll start with those."
   ]
  },
  {
   "cell_type": "code",
   "execution_count": 57,
   "metadata": {},
   "outputs": [],
   "source": [
    "def clean_up_xlsx(df):\n",
    "    new_df = df.copy()\n",
    "    beginning_cols = ['State', 'FIPS Codes', 'County']\n",
    "    years = [year for year in list(df.columns) if type(year) == int]\n",
    "    first_row = list(df.iloc[0])\n",
    "    first_row_filtered = [elem for elem in first_row if elem not in ['State', 'FIPS Codes', 'County']]\n",
    "    number_of_fields_to_append_year = len(set(first_row_filtered))\n",
    "    \n",
    "    new_columns = beginning_cols\n",
    "    \n",
    "    for year in years:\n",
    "        mini_list = [str(year) + \" \" + elem for elem in first_row_filtered[0:number_of_fields_to_append_year]]\n",
    "        first_row_filtered = first_row_filtered[number_of_fields_to_append_year:]\n",
    "        new_columns.extend(mini_list)\n",
    "    \n",
    "    df_rename_columns = dict(zip(df.columns, new_columns))\n",
    "    \n",
    "    new_df.rename(columns=df_rename_columns, inplace=True)\n",
    "    new_df.drop([0], inplace=True)\n",
    "    \n",
    "    return new_df"
   ]
  },
  {
   "cell_type": "code",
   "execution_count": 56,
   "metadata": {},
   "outputs": [],
   "source": [
    "dm_incidence = pd.read_excel(\"../data/cdc_diabetes/INCIDENCE_ALL_STATES.xlsx\")"
   ]
  },
  {
   "cell_type": "code",
   "execution_count": 58,
   "metadata": {},
   "outputs": [],
   "source": [
    "dm_incidence_by_county_df = clean_up_xlsx(dm_incidence)"
   ]
  },
  {
   "cell_type": "code",
   "execution_count": 59,
   "metadata": {},
   "outputs": [
    {
     "data": {
      "text/html": [
       "<div>\n",
       "<style scoped>\n",
       "    .dataframe tbody tr th:only-of-type {\n",
       "        vertical-align: middle;\n",
       "    }\n",
       "\n",
       "    .dataframe tbody tr th {\n",
       "        vertical-align: top;\n",
       "    }\n",
       "\n",
       "    .dataframe thead th {\n",
       "        text-align: right;\n",
       "    }\n",
       "</style>\n",
       "<table border=\"1\" class=\"dataframe\">\n",
       "  <thead>\n",
       "    <tr style=\"text-align: right;\">\n",
       "      <th></th>\n",
       "      <th>State</th>\n",
       "      <th>FIPS Codes</th>\n",
       "      <th>County</th>\n",
       "      <th>2004 number of new cases</th>\n",
       "      <th>2004 rate per 1000</th>\n",
       "      <th>2004 lower confidence limit</th>\n",
       "      <th>2004 upper confidence limit</th>\n",
       "      <th>2004 age-adjusted rate per 1000</th>\n",
       "      <th>2004 age-adjusted lower confidence limit</th>\n",
       "      <th>2004 age-adjusted upper confidence limit</th>\n",
       "      <th>...</th>\n",
       "      <th>2012 age-adjusted rate per 1000</th>\n",
       "      <th>2012 age-adjusted lower confidence limit</th>\n",
       "      <th>2012 age-adjusted upper confidence limit</th>\n",
       "      <th>2013 number of new cases</th>\n",
       "      <th>2013 rate per 1000</th>\n",
       "      <th>2013 lower confidence limit</th>\n",
       "      <th>2013 upper confidence limit</th>\n",
       "      <th>2013 age-adjusted rate per 1000</th>\n",
       "      <th>2013 age-adjusted lower confidence limit</th>\n",
       "      <th>2013 age-adjusted upper confidence limit</th>\n",
       "    </tr>\n",
       "  </thead>\n",
       "  <tbody>\n",
       "    <tr>\n",
       "      <th>1</th>\n",
       "      <td>Alabama</td>\n",
       "      <td>01001</td>\n",
       "      <td>Autauga County</td>\n",
       "      <td>425</td>\n",
       "      <td>14.2</td>\n",
       "      <td>9.8</td>\n",
       "      <td>19.6</td>\n",
       "      <td>14.4</td>\n",
       "      <td>9.9</td>\n",
       "      <td>20</td>\n",
       "      <td>...</td>\n",
       "      <td>10.2</td>\n",
       "      <td>7.1</td>\n",
       "      <td>14.2</td>\n",
       "      <td>383</td>\n",
       "      <td>11</td>\n",
       "      <td>8.2</td>\n",
       "      <td>14.3</td>\n",
       "      <td>10.7</td>\n",
       "      <td>7.9</td>\n",
       "      <td>14</td>\n",
       "    </tr>\n",
       "    <tr>\n",
       "      <th>2</th>\n",
       "      <td>Alabama</td>\n",
       "      <td>01003</td>\n",
       "      <td>Baldwin County</td>\n",
       "      <td>1103</td>\n",
       "      <td>10.3</td>\n",
       "      <td>7.3</td>\n",
       "      <td>13.9</td>\n",
       "      <td>9.6</td>\n",
       "      <td>6.8</td>\n",
       "      <td>13</td>\n",
       "      <td>...</td>\n",
       "      <td>7.7</td>\n",
       "      <td>5.5</td>\n",
       "      <td>10.5</td>\n",
       "      <td>1078</td>\n",
       "      <td>8.1</td>\n",
       "      <td>6.4</td>\n",
       "      <td>10.1</td>\n",
       "      <td>7.4</td>\n",
       "      <td>5.7</td>\n",
       "      <td>9.2</td>\n",
       "    </tr>\n",
       "    <tr>\n",
       "      <th>3</th>\n",
       "      <td>Alabama</td>\n",
       "      <td>01005</td>\n",
       "      <td>Barbour County</td>\n",
       "      <td>261</td>\n",
       "      <td>13.2</td>\n",
       "      <td>8.7</td>\n",
       "      <td>18.7</td>\n",
       "      <td>13.3</td>\n",
       "      <td>8.8</td>\n",
       "      <td>18.8</td>\n",
       "      <td>...</td>\n",
       "      <td>14.3</td>\n",
       "      <td>9.9</td>\n",
       "      <td>19.9</td>\n",
       "      <td>291</td>\n",
       "      <td>17</td>\n",
       "      <td>12.5</td>\n",
       "      <td>22.8</td>\n",
       "      <td>16.6</td>\n",
       "      <td>12.1</td>\n",
       "      <td>22.5</td>\n",
       "    </tr>\n",
       "    <tr>\n",
       "      <th>4</th>\n",
       "      <td>Alabama</td>\n",
       "      <td>01007</td>\n",
       "      <td>Bibb County</td>\n",
       "      <td>178</td>\n",
       "      <td>12.4</td>\n",
       "      <td>8.6</td>\n",
       "      <td>17.5</td>\n",
       "      <td>12.8</td>\n",
       "      <td>8.9</td>\n",
       "      <td>18</td>\n",
       "      <td>...</td>\n",
       "      <td>11.4</td>\n",
       "      <td>8</td>\n",
       "      <td>15.8</td>\n",
       "      <td>193</td>\n",
       "      <td>13.1</td>\n",
       "      <td>9.3</td>\n",
       "      <td>17.3</td>\n",
       "      <td>12.8</td>\n",
       "      <td>9.1</td>\n",
       "      <td>17.1</td>\n",
       "    </tr>\n",
       "    <tr>\n",
       "      <th>5</th>\n",
       "      <td>Alabama</td>\n",
       "      <td>01009</td>\n",
       "      <td>Blount County</td>\n",
       "      <td>403</td>\n",
       "      <td>11</td>\n",
       "      <td>7.4</td>\n",
       "      <td>15.3</td>\n",
       "      <td>10.9</td>\n",
       "      <td>7.4</td>\n",
       "      <td>15.2</td>\n",
       "      <td>...</td>\n",
       "      <td>10.9</td>\n",
       "      <td>7.3</td>\n",
       "      <td>16.1</td>\n",
       "      <td>433</td>\n",
       "      <td>11.7</td>\n",
       "      <td>8.4</td>\n",
       "      <td>15.5</td>\n",
       "      <td>11</td>\n",
       "      <td>7.8</td>\n",
       "      <td>14.8</td>\n",
       "    </tr>\n",
       "  </tbody>\n",
       "</table>\n",
       "<p>5 rows × 73 columns</p>\n",
       "</div>"
      ],
      "text/plain": [
       "     State FIPS Codes          County 2004 number of new cases  \\\n",
       "1  Alabama      01001  Autauga County                      425   \n",
       "2  Alabama      01003  Baldwin County                     1103   \n",
       "3  Alabama      01005  Barbour County                      261   \n",
       "4  Alabama      01007     Bibb County                      178   \n",
       "5  Alabama      01009   Blount County                      403   \n",
       "\n",
       "  2004 rate per 1000 2004 lower confidence limit 2004 upper confidence limit  \\\n",
       "1               14.2                         9.8                        19.6   \n",
       "2               10.3                         7.3                        13.9   \n",
       "3               13.2                         8.7                        18.7   \n",
       "4               12.4                         8.6                        17.5   \n",
       "5                 11                         7.4                        15.3   \n",
       "\n",
       "  2004 age-adjusted rate per 1000 2004 age-adjusted lower confidence limit  \\\n",
       "1                            14.4                                      9.9   \n",
       "2                             9.6                                      6.8   \n",
       "3                            13.3                                      8.8   \n",
       "4                            12.8                                      8.9   \n",
       "5                            10.9                                      7.4   \n",
       "\n",
       "  2004 age-adjusted upper confidence limit  \\\n",
       "1                                       20   \n",
       "2                                       13   \n",
       "3                                     18.8   \n",
       "4                                       18   \n",
       "5                                     15.2   \n",
       "\n",
       "                    ...                    2012 age-adjusted rate per 1000  \\\n",
       "1                   ...                                               10.2   \n",
       "2                   ...                                                7.7   \n",
       "3                   ...                                               14.3   \n",
       "4                   ...                                               11.4   \n",
       "5                   ...                                               10.9   \n",
       "\n",
       "  2012 age-adjusted lower confidence limit  \\\n",
       "1                                      7.1   \n",
       "2                                      5.5   \n",
       "3                                      9.9   \n",
       "4                                        8   \n",
       "5                                      7.3   \n",
       "\n",
       "  2012 age-adjusted upper confidence limit 2013 number of new cases  \\\n",
       "1                                     14.2                      383   \n",
       "2                                     10.5                     1078   \n",
       "3                                     19.9                      291   \n",
       "4                                     15.8                      193   \n",
       "5                                     16.1                      433   \n",
       "\n",
       "  2013 rate per 1000 2013 lower confidence limit 2013 upper confidence limit  \\\n",
       "1                 11                         8.2                        14.3   \n",
       "2                8.1                         6.4                        10.1   \n",
       "3                 17                        12.5                        22.8   \n",
       "4               13.1                         9.3                        17.3   \n",
       "5               11.7                         8.4                        15.5   \n",
       "\n",
       "  2013 age-adjusted rate per 1000 2013 age-adjusted lower confidence limit  \\\n",
       "1                            10.7                                      7.9   \n",
       "2                             7.4                                      5.7   \n",
       "3                            16.6                                     12.1   \n",
       "4                            12.8                                      9.1   \n",
       "5                              11                                      7.8   \n",
       "\n",
       "  2013 age-adjusted upper confidence limit  \n",
       "1                                       14  \n",
       "2                                      9.2  \n",
       "3                                     22.5  \n",
       "4                                     17.1  \n",
       "5                                     14.8  \n",
       "\n",
       "[5 rows x 73 columns]"
      ]
     },
     "execution_count": 59,
     "metadata": {},
     "output_type": "execute_result"
    }
   ],
   "source": [
    "dm_incidence_by_county_df.head()"
   ]
  },
  {
   "cell_type": "markdown",
   "metadata": {},
   "source": [
    "Except that what you actually want is all of these indicators per state, not per county. These indicators are available at a state level by year, but unfortunately it looks like I'm going to have to download these manually."
   ]
  },
  {
   "cell_type": "markdown",
   "metadata": {},
   "source": [
    "We'll use the diabetes prevalence and obesity prevalence per state per year as two predictor variables for the target time series."
   ]
  },
  {
   "cell_type": "code",
   "execution_count": 11,
   "metadata": {},
   "outputs": [
    {
     "name": "stdout",
     "output_type": "stream",
     "text": [
      "DM_PREV_ALL_STATES.xlsx\n",
      "DM_PREV_by_sex_ALL_STATES.xlsx\n",
      "INCIDENCE_ALL_STATES.xlsx\n",
      "LTPIA_PREV_ALL_STATES.xlsx\n",
      "LTPIA_PREV_by_sex_ALL_STATES.xlsx\n",
      "OB_PREV_ALL_STATES.xlsx\n",
      "OB_PREV_by_sex_ALL_STATES.xlsx\n",
      "state_diabetes_prevalence\n",
      "state_obesity_prevalence\n",
      "state_populations_by_year.txt\n"
     ]
    }
   ],
   "source": [
    "%%bash\n",
    "ls ../data/cdc_diabetes/"
   ]
  },
  {
   "cell_type": "code",
   "execution_count": 12,
   "metadata": {},
   "outputs": [
    {
     "name": "stdout",
     "output_type": "stream",
     "text": [
      "diabetes_prevalence_1999.csv\n",
      "diabetes_prevalence_2000.csv\n",
      "diabetes_prevalence_2001.csv\n",
      "diabetes_prevalence_2002.csv\n",
      "diabetes_prevalence_2003.csv\n",
      "diabetes_prevalence_2004.csv\n",
      "diabetes_prevalence_2005.csv\n",
      "diabetes_prevalence_2006.csv\n",
      "diabetes_prevalence_2007.csv\n",
      "diabetes_prevalence_2008.csv\n",
      "diabetes_prevalence_2009.csv\n",
      "diabetes_prevalence_2010.csv\n",
      "diabetes_prevalence_2011.csv\n",
      "diabetes_prevalence_2012.csv\n",
      "diabetes_prevalence_2013.csv\n",
      "diabetes_prevalence_2014.csv\n",
      "diabetes_prevalence_2015.csv\n"
     ]
    }
   ],
   "source": [
    "%%bash\n",
    "ls ../data/cdc_diabetes/state_diabetes_prevalence/"
   ]
  },
  {
   "cell_type": "code",
   "execution_count": 13,
   "metadata": {},
   "outputs": [],
   "source": [
    "states = list(state_mortality_dict.keys())"
   ]
  },
  {
   "cell_type": "code",
   "execution_count": 14,
   "metadata": {},
   "outputs": [],
   "source": [
    "years = list(range(1999, 2016))"
   ]
  },
  {
   "cell_type": "code",
   "execution_count": 15,
   "metadata": {},
   "outputs": [],
   "source": [
    "dm_prevalence_dict = {}\n",
    "\n",
    "for year in years:\n",
    "    if year == 2014 or year == 2015:\n",
    "        dm_prevalence_state_df = pd.read_csv(f\"../data/cdc_diabetes/state_diabetes_prevalence/diabetes_prevalence_{year}.csv\", sep=\"\\t\")\n",
    "    else:\n",
    "        dm_prevalence_state_df = pd.read_csv(f\"../data/cdc_diabetes/state_diabetes_prevalence/diabetes_prevalence_{year}.csv\")\n",
    "    \n",
    "    dm_prevalence_state_df['Percentage'] = pd.to_numeric(dm_prevalence_state_df['Percentage'], errors='coerce')\n",
    "    \n",
    "    for state in states:\n",
    "        if state in dm_prevalence_dict:\n",
    "            dm_prevalence_dict[state].append(float(dm_prevalence_state_df[dm_prevalence_state_df.State == state]['Percentage']))\n",
    "        else:\n",
    "            dm_prevalence_dict[state] = [float(dm_prevalence_state_df[dm_prevalence_state_df.State == state]['Percentage'])]"
   ]
  },
  {
   "cell_type": "code",
   "execution_count": 16,
   "metadata": {},
   "outputs": [],
   "source": [
    "for state, series in dm_prevalence_dict.items():\n",
    "    temp = dict(zip(pd.to_datetime(years, format='%Y'), series))\n",
    "    dm_prevalence_dict[state] = pd.Series(temp)"
   ]
  },
  {
   "cell_type": "markdown",
   "metadata": {},
   "source": [
    "Let's parse the obesity prevalence files."
   ]
  },
  {
   "cell_type": "code",
   "execution_count": 18,
   "metadata": {},
   "outputs": [],
   "source": [
    "obesity_prevalence_dict = {}\n",
    "\n",
    "for year in years:\n",
    "    obesity_prevalence_state_df = pd.read_csv(f\"../data/cdc_diabetes/state_obesity_prevalence/obesity_prevalence_{year}.csv\")\n",
    "    \n",
    "    obesity_prevalence_state_df['Percentage'] = pd.to_numeric(obesity_prevalence_state_df['Percentage'], errors='coerce')\n",
    "    \n",
    "    for state in states:\n",
    "        if state in obesity_prevalence_dict:\n",
    "            obesity_prevalence_dict[state].append(float(obesity_prevalence_state_df[obesity_prevalence_state_df.State == state]['Percentage']))\n",
    "        else:\n",
    "            obesity_prevalence_dict[state] = [float(obesity_prevalence_state_df[obesity_prevalence_state_df.State == state]['Percentage'])]"
   ]
  },
  {
   "cell_type": "code",
   "execution_count": 19,
   "metadata": {},
   "outputs": [],
   "source": [
    "for state, series in obesity_prevalence_dict.items():\n",
    "    temp = dict(zip(pd.to_datetime(years, format='%Y'), series))\n",
    "    obesity_prevalence_dict[state] = pd.Series(temp)"
   ]
  },
  {
   "cell_type": "markdown",
   "metadata": {},
   "source": [
    "We need to resample the diabetes and obesity prevalence time series so that there is a data point for every month, in order to match the frequency of our target variable (total deaths due to myocardial infarction) which is sampled monthly."
   ]
  },
  {
   "cell_type": "code",
   "execution_count": 24,
   "metadata": {},
   "outputs": [],
   "source": [
    "dm_prevalence_resampled_dict = {}\n",
    "\n",
    "for state, time_series in dm_prevalence_dict.items():\n",
    "    resampled_ts = time_series.resample(\"M\").ffill(limit=1).interpolate('linear')\n",
    "    resampled_ts.index = resampled_ts.index - pd.offsets.MonthBegin(0) - pd.DateOffset(months=1)\n",
    "    dm_prevalence_resampled_dict[state] = resampled_ts"
   ]
  },
  {
   "cell_type": "code",
   "execution_count": 25,
   "metadata": {},
   "outputs": [],
   "source": [
    "obesity_prevalence_resampled_dict = {}\n",
    "\n",
    "for state, time_series in obesity_prevalence_dict.items():\n",
    "    resampled_ts = time_series.resample(\"M\").ffill(limit=1).interpolate('linear')\n",
    "    resampled_ts.index = resampled_ts.index - pd.offsets.MonthBegin(0) - pd.DateOffset(months=1)\n",
    "    obesity_prevalence_resampled_dict[state] = resampled_ts"
   ]
  },
  {
   "cell_type": "code",
   "execution_count": 26,
   "metadata": {},
   "outputs": [],
   "source": [
    "dict_of_dfs = {}\n",
    "\n",
    "for state, cardiac_mortality_df in state_mortality_dict.items():\n",
    "    temp_df = cardiac_mortality_df.copy()\n",
    "    temp_df['obesity_prevalence'] = obesity_prevalence_resampled_dict[state]\n",
    "    temp_df['diabetes_prevalence'] = dm_prevalence_resampled_dict[state]\n",
    "    dict_of_dfs[state] = temp_df"
   ]
  },
  {
   "cell_type": "markdown",
   "metadata": {},
   "source": [
    "Let's also import the state populations by year and then normalize the mortality rate by state population by year."
   ]
  },
  {
   "cell_type": "code",
   "execution_count": 27,
   "metadata": {},
   "outputs": [
    {
     "name": "stdout",
     "output_type": "stream",
     "text": [
      "DM_PREV_ALL_STATES.xlsx\n",
      "DM_PREV_by_sex_ALL_STATES.xlsx\n",
      "INCIDENCE_ALL_STATES.xlsx\n",
      "LTPIA_PREV_ALL_STATES.xlsx\n",
      "LTPIA_PREV_by_sex_ALL_STATES.xlsx\n",
      "OB_PREV_ALL_STATES.xlsx\n",
      "OB_PREV_by_sex_ALL_STATES.xlsx\n",
      "state_diabetes_prevalence\n",
      "state_obesity_prevalence\n",
      "state_populations_by_year.txt\n"
     ]
    }
   ],
   "source": [
    "%%bash\n",
    "ls ../data/cdc_diabetes/"
   ]
  },
  {
   "cell_type": "code",
   "execution_count": 28,
   "metadata": {},
   "outputs": [],
   "source": [
    "with open(\"../data/cdc_diabetes/state_populations_by_year.txt\", \"r\") as f:\n",
    "    lines = f.readlines()"
   ]
  },
  {
   "cell_type": "code",
   "execution_count": 29,
   "metadata": {},
   "outputs": [],
   "source": [
    "state_population_by_year = pd.read_csv(\"../data/cdc_diabetes/state_populations_by_year.txt\", delimiter=\"\\t\")\n",
    "state_population_by_year = state_population_by_year[['State', 'State Code', 'Year', 'Population']]\n",
    "state_population_by_year.dropna(inplace=True)\n",
    "\n",
    "state_population_by_year['Year'] = state_population_by_year['Year'].apply(int)\n",
    "state_population_by_year['Year'] = pd.to_datetime(state_population_by_year['Year'], format='%Y')\n",
    "state_population_by_year['Population'] = pd.to_numeric(state_population_by_year['Population'])"
   ]
  },
  {
   "cell_type": "code",
   "execution_count": 30,
   "metadata": {},
   "outputs": [],
   "source": [
    "grouped_by_state = state_population_by_year.groupby('State')[['Year', 'Population']]"
   ]
  },
  {
   "cell_type": "code",
   "execution_count": 31,
   "metadata": {},
   "outputs": [],
   "source": [
    "state_population_by_year_dict = {}\n",
    "\n",
    "for state in states:\n",
    "    temp = grouped_by_state.get_group(state).set_index('Year')\n",
    "    temp = temp.resample(\"M\").ffill(limit=1).interpolate('linear')\n",
    "    temp.index = temp.index - pd.offsets.MonthBegin(0) - pd.DateOffset(months=1)\n",
    "    state_population_by_year_dict[state] = temp"
   ]
  },
  {
   "cell_type": "code",
   "execution_count": 32,
   "metadata": {},
   "outputs": [],
   "source": [
    "for state in states:\n",
    "    temp_df = dict_of_dfs[state].copy()\n",
    "    temp_df['Population'] = state_population_by_year_dict[state]\n",
    "    temp_df['mortality_per_100k'] = 100000*(temp_df['Deaths']/temp_df['Population'])\n",
    "    dict_of_dfs[state] = temp_df"
   ]
  },
  {
   "cell_type": "code",
   "execution_count": 61,
   "metadata": {},
   "outputs": [],
   "source": [
    "with open(\"../data/pickles/state_population_by_year_dict.pkl\", \"wb\") as picklefile:\n",
    "    pickle.dump(state_population_by_year_dict, picklefile)"
   ]
  },
  {
   "cell_type": "code",
   "execution_count": 62,
   "metadata": {},
   "outputs": [
    {
     "name": "stdout",
     "output_type": "stream",
     "text": [
      "cardiac_mortality_obesity_dm_df_by_state.pkl\n",
      "myocardial_infarction_df_state_mortality_dict.pkl\n",
      "state_population_by_year_dict.pkl\n"
     ]
    }
   ],
   "source": [
    "%%bash\n",
    "ls ../data/pickles"
   ]
  },
  {
   "cell_type": "code",
   "execution_count": 34,
   "metadata": {},
   "outputs": [],
   "source": [
    "with open(\"../data/pickles/cardiac_mortality_obesity_dm_df_by_state.pkl\", \"wb\") as picklefile:\n",
    "    pickle.dump(dict_of_dfs, picklefile)"
   ]
  },
  {
   "cell_type": "markdown",
   "metadata": {},
   "source": [
    "## Modeling\n",
    "\n",
    "I now have a dataframe for each state; dict_of_dicts has a key for each state, and the value is the dataframe for that state. For now, we'll drop all the rows with NaNs in them."
   ]
  },
  {
   "cell_type": "code",
   "execution_count": 38,
   "metadata": {},
   "outputs": [],
   "source": [
    "for state, df in dict_of_dfs.items():\n",
    "    dict_of_dfs[state] = df.dropna()"
   ]
  },
  {
   "cell_type": "code",
   "execution_count": 55,
   "metadata": {},
   "outputs": [
    {
     "data": {
      "text/html": [
       "<div>\n",
       "<style scoped>\n",
       "    .dataframe tbody tr th:only-of-type {\n",
       "        vertical-align: middle;\n",
       "    }\n",
       "\n",
       "    .dataframe tbody tr th {\n",
       "        vertical-align: top;\n",
       "    }\n",
       "\n",
       "    .dataframe thead th {\n",
       "        text-align: right;\n",
       "    }\n",
       "</style>\n",
       "<table border=\"1\" class=\"dataframe\">\n",
       "  <thead>\n",
       "    <tr style=\"text-align: right;\">\n",
       "      <th></th>\n",
       "      <th>Deaths</th>\n",
       "      <th>obesity_prevalence</th>\n",
       "      <th>diabetes_prevalence</th>\n",
       "      <th>Population</th>\n",
       "      <th>mortality_per_100k</th>\n",
       "    </tr>\n",
       "    <tr>\n",
       "      <th>Month</th>\n",
       "      <th></th>\n",
       "      <th></th>\n",
       "      <th></th>\n",
       "      <th></th>\n",
       "      <th></th>\n",
       "    </tr>\n",
       "  </thead>\n",
       "  <tbody>\n",
       "    <tr>\n",
       "      <th>1999-01-01</th>\n",
       "      <td>332.0</td>\n",
       "      <td>61.400000</td>\n",
       "      <td>7.400000</td>\n",
       "      <td>4430141.00</td>\n",
       "      <td>7.494118</td>\n",
       "    </tr>\n",
       "    <tr>\n",
       "      <th>1999-02-01</th>\n",
       "      <td>332.0</td>\n",
       "      <td>60.833333</td>\n",
       "      <td>7.383333</td>\n",
       "      <td>4431554.25</td>\n",
       "      <td>7.491728</td>\n",
       "    </tr>\n",
       "    <tr>\n",
       "      <th>1999-03-01</th>\n",
       "      <td>377.0</td>\n",
       "      <td>60.266667</td>\n",
       "      <td>7.366667</td>\n",
       "      <td>4432967.50</td>\n",
       "      <td>8.504461</td>\n",
       "    </tr>\n",
       "    <tr>\n",
       "      <th>1999-04-01</th>\n",
       "      <td>301.0</td>\n",
       "      <td>59.700000</td>\n",
       "      <td>7.350000</td>\n",
       "      <td>4434380.75</td>\n",
       "      <td>6.787870</td>\n",
       "    </tr>\n",
       "    <tr>\n",
       "      <th>1999-05-01</th>\n",
       "      <td>314.0</td>\n",
       "      <td>59.133333</td>\n",
       "      <td>7.333333</td>\n",
       "      <td>4435794.00</td>\n",
       "      <td>7.078778</td>\n",
       "    </tr>\n",
       "  </tbody>\n",
       "</table>\n",
       "</div>"
      ],
      "text/plain": [
       "            Deaths  obesity_prevalence  diabetes_prevalence  Population  \\\n",
       "Month                                                                     \n",
       "1999-01-01   332.0           61.400000             7.400000  4430141.00   \n",
       "1999-02-01   332.0           60.833333             7.383333  4431554.25   \n",
       "1999-03-01   377.0           60.266667             7.366667  4432967.50   \n",
       "1999-04-01   301.0           59.700000             7.350000  4434380.75   \n",
       "1999-05-01   314.0           59.133333             7.333333  4435794.00   \n",
       "\n",
       "            mortality_per_100k  \n",
       "Month                           \n",
       "1999-01-01            7.494118  \n",
       "1999-02-01            7.491728  \n",
       "1999-03-01            8.504461  \n",
       "1999-04-01            6.787870  \n",
       "1999-05-01            7.078778  "
      ]
     },
     "execution_count": 55,
     "metadata": {},
     "output_type": "execute_result"
    }
   ],
   "source": [
    "dict_of_dfs['Alabama'].head()"
   ]
  },
  {
   "cell_type": "code",
   "execution_count": 39,
   "metadata": {},
   "outputs": [
    {
     "data": {
      "image/png": "[encoded data removed]",
      "text/plain": [
       "<Figure size 432x288 with 1 Axes>"
      ]
     },
     "metadata": {},
     "output_type": "display_data"
    }
   ],
   "source": [
    "state = 'California'\n",
    "\n",
    "plt.plot(dict_of_dfs[state]['mortality_per_100k'])\n",
    "plt.show()"
   ]
  },
  {
   "cell_type": "code",
   "execution_count": 40,
   "metadata": {},
   "outputs": [
    {
     "data": {
      "text/plain": [
       "<matplotlib.legend.Legend at 0x11667a390>"
      ]
     },
     "execution_count": 40,
     "metadata": {},
     "output_type": "execute_result"
    },
    {
     "data": {
      "image/png": "[encoded data removed]",
      "text/plain": [
       "<Figure size 1080x720 with 4 Axes>"
      ]
     },
     "metadata": {},
     "output_type": "display_data"
    }
   ],
   "source": [
    "from statsmodels.tsa.seasonal import seasonal_decompose\n",
    "ss_decomposition = seasonal_decompose(x=dict_of_dfs[state].mortality_per_100k, \n",
    "                                      model='additive')\n",
    "trend = ss_decomposition.trend\n",
    "seasonal = ss_decomposition.seasonal\n",
    "residual = ss_decomposition.resid\n",
    "\n",
    "fig, axes = plt.subplots(4, 1, sharex=True, sharey=False)\n",
    "fig.set_figheight(10)\n",
    "fig.set_figwidth(15)\n",
    "\n",
    "axes[0].plot(dict_of_dfs[state].mortality_per_100k, 'k', label='Original')\n",
    "axes[0].legend(loc='upper left');\n",
    "\n",
    "axes[1].plot(trend, label='Trend')\n",
    "axes[1].legend(loc='upper left');\n",
    "\n",
    "axes[2].plot(seasonal, 'g', label='Seasonality')\n",
    "axes[2].legend(loc='upper left');\n",
    "\n",
    "axes[3].plot(residual, 'r', label='Residuals')\n",
    "axes[3].legend(loc='upper left')"
   ]
  },
  {
   "cell_type": "code",
   "execution_count": 50,
   "metadata": {},
   "outputs": [
    {
     "name": "stdout",
     "output_type": "stream",
     "text": [
      "233.12695555676862\n",
      "113.3073761546699\n"
     ]
    },
    {
     "data": {
      "text/plain": [
       "170.1910250560955"
      ]
     },
     "execution_count": 50,
     "metadata": {},
     "output_type": "execute_result"
    }
   ],
   "source": [
    "print(dict_of_dfs[state].Deaths.std())\n",
    "print(dict_of_dfs[state].Deaths.diff().std())\n",
    "dict_of_dfs[state].Deaths.diff().diff().std()"
   ]
  },
  {
   "cell_type": "code",
   "execution_count": 54,
   "metadata": {},
   "outputs": [
    {
     "name": "stdout",
     "output_type": "stream",
     "text": [
      "Figure(432x288)\n",
      "Figure(432x288)\n"
     ]
    },
    {
     "data": {
      "image/png": "[encoded data removed]",
      "text/plain": [
       "<Figure size 432x288 with 1 Axes>"
      ]
     },
     "metadata": {},
     "output_type": "display_data"
    },
    {
     "data": {
      "image/png": "[encoded data removed]",
      "text/plain": [
       "<Figure size 432x288 with 1 Axes>"
      ]
     },
     "metadata": {},
     "output_type": "display_data"
    }
   ],
   "source": [
    "# plot autocorr with statsmodel# plot a \n",
    "print(plot_acf(dict_of_dfs[state].Deaths.diff()[1:], lags=96)) # these are for non-stationary data, so we can see patterns, but generally ignore\n",
    "print(plot_pacf(dict_of_dfs[state].Deaths.diff()[1:], lags=96)) # strong PACF lag1 spike, so p=1"
   ]
  },
  {
   "cell_type": "code",
   "execution_count": 390,
   "metadata": {},
   "outputs": [],
   "source": [
    "import warnings\n",
    "import itertools\n",
    "import pandas as pd\n",
    "import numpy as np\n",
    "import statsmodels.api as sm\n",
    "import matplotlib.pyplot as plt"
   ]
  },
  {
   "cell_type": "code",
   "execution_count": 391,
   "metadata": {},
   "outputs": [
    {
     "name": "stdout",
     "output_type": "stream",
     "text": [
      "Examples of parameter combinations for Seasonal ARIMA:\n",
      "SARIMAX: (0, 0, 1) x (0, 0, 1, 12)\n",
      "SARIMAX: (0, 0, 1) x (0, 0, 2, 12)\n",
      "SARIMAX: (0, 0, 2) x (0, 1, 0, 12)\n",
      "SARIMAX: (0, 0, 2) x (0, 1, 1, 12)\n"
     ]
    }
   ],
   "source": [
    "# Define the p, d and q parameters to take any value between 0 and 2\n",
    "p = d = q = range(0, 3)\n",
    "\n",
    "# Generate all different combinations of p, q and q triplets\n",
    "pdq = list(itertools.product(p, d, q))\n",
    "\n",
    "# Generate all different combinations of seasonal p, q and q triplets\n",
    "seasonal_pdq = [(x[0], x[1], x[2], 12) for x in list(itertools.product(p, d, q))]\n",
    "\n",
    "print('Examples of parameter combinations for Seasonal ARIMA:')\n",
    "print('SARIMAX: {} x {}'.format(pdq[1], seasonal_pdq[1]))\n",
    "print('SARIMAX: {} x {}'.format(pdq[1], seasonal_pdq[2]))\n",
    "print('SARIMAX: {} x {}'.format(pdq[2], seasonal_pdq[3]))\n",
    "print('SARIMAX: {} x {}'.format(pdq[2], seasonal_pdq[4]))"
   ]
  },
  {
   "cell_type": "code",
   "execution_count": null,
   "metadata": {},
   "outputs": [],
   "source": [
    "warnings.filterwarnings(\"ignore\") # specify to ignore warning messages\n",
    "sarima_gridsearch = []\n",
    "\n",
    "for param in pdq:\n",
    "    for param_seasonal in seasonal_pdq:\n",
    "        try:\n",
    "            mod = sm.tsa.statespace.SARIMAX(dict_of_dfs['California']['mortality_per_100k'],\n",
    "                                            order=param,\n",
    "                                            seasonal_order=param_seasonal,\n",
    "                                            enforce_stationarity=False,\n",
    "                                            enforce_invertibility=False)\n",
    "            results = mod.fit()\n",
    "            print('ARIMA{}x{}12 - AIC:{}'.format(param, param_seasonal, results.aic))\n",
    "            sarima_gridsearch.append((param, param_seasonal, results.aic))\n",
    "        except:\n",
    "            continue"
   ]
  },
  {
   "cell_type": "code",
   "execution_count": null,
   "metadata": {},
   "outputs": [],
   "source": []
  },
  {
   "cell_type": "code",
   "execution_count": null,
   "metadata": {},
   "outputs": [],
   "source": [
    "from sklearn.model_selection import TimeSeriesSplit\n",
    "from sklearn.model_selection import GridSearchCV\n",
    "tscv = TimeSeriesSplit(n_splits=10)\n",
    "print(tscv)  \n",
    "\n",
    "models = [('Linear Regresion', LinearRegression),\n",
    "          ('SVR', SVR),\n",
    "          ('Decision Tree', DecisionTreeRegressor),\n",
    "          ('Random Forest', RandomForestRegressor),\n",
    "          ('Gradient Boosted Trees', GradientBoostingRegressor)\n",
    "         ]\n",
    "\n",
    "param_choices = [\n",
    "    {},\n",
    "    {\n",
    "        'C': np.linspace(0.1,100,101)\n",
    "    },\n",
    "    {\n",
    "        'max_depth': [1,2,3,4,5],\n",
    "        'min_samples_leaf': [3,6,10]\n",
    "    },\n",
    "    {\n",
    "        'n_estimators': [50, 100, 200],\n",
    "        'max_depth': [1,2,3,4,5],\n",
    "        'min_samples_leaf': [3,6,10]\n",
    "    },\n",
    "    {\n",
    "        'n_estimators': [50, 100, 200],\n",
    "        'max_depth': [1,2,3,4,5],\n",
    "        'min_samples_leaf': [3,6,10]\n",
    "    }\n",
    "]\n",
    "\n",
    "grids = {}\n",
    "\n",
    "for model_info, params in zip(models, param_choices):\n",
    "    name, model = model_info\n",
    "    grid = GridSearchCV(model(), params, scoring = 'neg_mean_squared_error')\n",
    "    rmse_scores = []\n",
    "    for train_index, test_index in tscv.split(X):\n",
    "        X_train, X_test = X.iloc[train_index], X.iloc[test_index]\n",
    "        y_train, y_test = y.iloc[train_index].values.reshape(-1,), y.iloc[test_index].values.reshape(-1,)\n",
    "        grid.fit(X_train, y_train)\n",
    "        y_pred = grid.predict(X_test)\n",
    "        mse_score = -1.0*grid.score(X_test,y_test)\n",
    "        rmse_score = np.sqrt(mse_score)\n",
    "        rmse_scores.append(np.round(rmse_score,4))\n",
    "        avg_mse_score = np.mean(rmse_scores)\n",
    "        \n",
    "        s = f\"{name}: best score: {grid.best_score_}, best estimator: {grid.best_estimator_}\"\n",
    "        \n",
    "        grids[name] = grid\n",
    "        \n",
    "    print(f'Model name: {name}')\n",
    "    print(f'RMSE scores: {rmse_scores}')\n",
    "    print(f'Model RMSE performance: {avg_mse_score}')\n",
    "    print('\\n')"
   ]
  }
 ],
 "metadata": {
  "kernelspec": {
   "display_name": "Python 3",
   "language": "python",
   "name": "python3"
  },
  "language_info": {
   "codemirror_mode": {
    "name": "ipython",
    "version": 3
   },
   "file_extension": ".py",
   "mimetype": "text/x-python",
   "name": "python",
   "nbconvert_exporter": "python",
   "pygments_lexer": "ipython3",
   "version": "3.6.5"
  }
 },
 "nbformat": 4,
 "nbformat_minor": 2
}
