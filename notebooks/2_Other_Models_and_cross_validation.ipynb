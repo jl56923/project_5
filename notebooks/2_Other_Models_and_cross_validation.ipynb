{
 "cells": [
  {
   "cell_type": "code",
   "execution_count": 1,
   "metadata": {},
   "outputs": [],
   "source": [
    "import pandas as pd\n",
    "import pickle\n",
    "import numpy as np\n",
    "import matplotlib.pyplot as plt\n",
    "\n",
    "from pandas.plotting import autocorrelation_plot\n",
    "from statsmodels.graphics.tsaplots import plot_acf, plot_pacf\n",
    "\n",
    "from sklearn.model_selection import TimeSeriesSplit\n",
    "from sklearn.model_selection import GridSearchCV\n",
    "\n",
    "from sklearn.linear_model import LinearRegression\n",
    "from sklearn.svm import SVR\n",
    "from sklearn.ensemble import GradientBoostingRegressor, RandomForestRegressor\n",
    "from sklearn.tree import DecisionTreeRegressor\n",
    "\n",
    "from sklearn.metrics import mean_squared_error\n",
    "\n",
    "%matplotlib inline"
   ]
  },
  {
   "cell_type": "code",
   "execution_count": 2,
   "metadata": {},
   "outputs": [],
   "source": [
    "with open(\"../data/pickles/cardiac_mortality_obesity_dm_df_by_state.pkl\", \"rb\") as picklefile:\n",
    "    state_mortality_dict = pickle.load(picklefile)"
   ]
  },
  {
   "cell_type": "markdown",
   "metadata": {},
   "source": [
    "Let's figure out cross-validation first, and then we can tackle neural nets with pytorch.\n",
    "\n",
    "In order to tackle cross-validation, what we should do is make different models, and run cross-validation on each, and compare models. First, we need to clean up the dataframe for each state."
   ]
  },
  {
   "cell_type": "markdown",
   "metadata": {},
   "source": [
    "## Truncating and interpolating state dataframes\n",
    "\n",
    "To clean up the dataframes for each state, first we know that the end date for which we have date is 2015-01-01, since that's the last date for which we have obesity and diabetes prevalence data. So we'll filter out all dates after that, and then check to see how many NaNs are still in the target variable. If 25% or more of the target variable time series are NaNs, we'll drop that state's dataframe and not analyze it. If it's less than 25%, we'll impute the data using linear interpolation."
   ]
  },
  {
   "cell_type": "code",
   "execution_count": 3,
   "metadata": {},
   "outputs": [],
   "source": [
    "def truncate_and_interpolate_df(df, end_date, target_variable, null_ratio_drop=0.25):\n",
    "    truncated_df = df[df.index <= end_date].copy()\n",
    "    null_target_data_points = truncated_df[target_variable].isnull().sum()\n",
    "    if null_target_data_points/len(df[target_variable]) > 0.25:\n",
    "#         print(\"Unable to interpolate, too many NaNs.\")\n",
    "        return None\n",
    "    elif null_target_data_points == 0:\n",
    "#         print(\"no need to interpolate, no NaNs.\")\n",
    "        return truncated_df\n",
    "    else:\n",
    "#         print(f\"interpolated {null_target_data_points} NaNs.\")\n",
    "        truncated_df[target_variable] = truncated_df[target_variable].interpolate(method='linear')\n",
    "        return truncated_df"
   ]
  },
  {
   "cell_type": "markdown",
   "metadata": {},
   "source": [
    "Now, let's make a clean dictionary of dataframes for each state."
   ]
  },
  {
   "cell_type": "code",
   "execution_count": 67,
   "metadata": {},
   "outputs": [],
   "source": [
    "clean_dict_of_state_dfs = {}\n",
    "end_date = pd.to_datetime('January 1 2015')\n",
    "target_variable = 'mortality_per_100k'\n",
    "\n",
    "for state, df in state_mortality_dict.items():\n",
    "#     print(f\"The current state is {state}\")\n",
    "    temp_df = truncate_and_interpolate_df(df=df, end_date=end_date, target_variable=target_variable)\n",
    "    if temp_df is None:\n",
    "        pass\n",
    "    else:\n",
    "        clean_dict_of_state_dfs[state] = temp_df"
   ]
  },
  {
   "cell_type": "code",
   "execution_count": 2,
   "metadata": {},
   "outputs": [
    {
     "name": "stdout",
     "output_type": "stream",
     "text": [
      "cardiac_mortality_obesity_dm_df_by_state.pkl\n",
      "interpol_truncated_MI_mortality_per_state_dict.pkl\n",
      "myocardial_infarction_df_state_mortality_dict.pkl\n",
      "state_population_by_year_dict.pkl\n"
     ]
    }
   ],
   "source": [
    "%%bash\n",
    "ls ../data/pickles"
   ]
  },
  {
   "cell_type": "code",
   "execution_count": 7,
   "metadata": {},
   "outputs": [],
   "source": [
    "with open(\"../data/pickles/interpol_truncated_MI_mortality_per_state_dict.pkl\", \"wb\") as picklefile:\n",
    "    pickle.dump(clean_dict_of_state_dfs, picklefile)"
   ]
  },
  {
   "cell_type": "markdown",
   "metadata": {},
   "source": [
    "## Load truncated and interpolated dataframe"
   ]
  },
  {
   "cell_type": "code",
   "execution_count": 3,
   "metadata": {},
   "outputs": [],
   "source": [
    "with open(\"../data/pickles/interpol_truncated_MI_mortality_per_state_dict.pkl\", \"rb\") as picklefile:\n",
    "    clean_dict_of_state_dfs = pickle.load(picklefile)"
   ]
  },
  {
   "cell_type": "code",
   "execution_count": 7,
   "metadata": {},
   "outputs": [],
   "source": [
    "alabama = clean_dict_of_state_dfs['Alabama']"
   ]
  },
  {
   "cell_type": "code",
   "execution_count": 8,
   "metadata": {},
   "outputs": [],
   "source": [
    "california = clean_dict_of_state_dfs['California']"
   ]
  },
  {
   "cell_type": "markdown",
   "metadata": {},
   "source": [
    "Let's look at how many times we would have to difference the target variable in order to make it stationary; we can do this by looking at the standard deviation for the series itself, its difference, and its second order difference, etc. The smallest std implies that the series is stationary at that degree of difference."
   ]
  },
  {
   "cell_type": "code",
   "execution_count": 9,
   "metadata": {},
   "outputs": [
    {
     "name": "stdout",
     "output_type": "stream",
     "text": [
      "0.7612392644026806\n",
      "0.31938588845854493\n",
      "0.48041745875819164\n"
     ]
    }
   ],
   "source": [
    "print(california['mortality_per_100k'].std())\n",
    "print(california['mortality_per_100k'].diff().std())\n",
    "print(california['mortality_per_100k'].diff().diff().std())"
   ]
  },
  {
   "cell_type": "code",
   "execution_count": 11,
   "metadata": {},
   "outputs": [
    {
     "name": "stdout",
     "output_type": "stream",
     "text": [
      "1.299882642192452\n",
      "0.6508563102638677\n",
      "1.0678524222116754\n"
     ]
    }
   ],
   "source": [
    "print(alabama['mortality_per_100k'].std())\n",
    "print(alabama['mortality_per_100k'].diff().std())\n",
    "print(alabama['mortality_per_100k'].diff().diff().std())"
   ]
  },
  {
   "cell_type": "code",
   "execution_count": 12,
   "metadata": {},
   "outputs": [
    {
     "name": "stdout",
     "output_type": "stream",
     "text": [
      "Figure(432x288)\n",
      "Figure(432x288)\n"
     ]
    },
    {
     "data": {
      "image/png": "[encoded data removed]",
      "text/plain": [
       "<Figure size 432x288 with 1 Axes>"
      ]
     },
     "metadata": {},
     "output_type": "display_data"
    },
    {
     "data": {
      "image/png": "[encoded data removed]",
      "text/plain": [
       "<Figure size 432x288 with 1 Axes>"
      ]
     },
     "metadata": {},
     "output_type": "display_data"
    }
   ],
   "source": [
    "print(plot_acf(alabama['mortality_per_100k'].diff()[1:], lags=25))\n",
    "print(plot_pacf(alabama['mortality_per_100k'].diff()[1:], lags=25))"
   ]
  },
  {
   "cell_type": "code",
   "execution_count": 167,
   "metadata": {},
   "outputs": [
    {
     "data": {
      "text/plain": [
       "[<matplotlib.lines.Line2D at 0x1c278300f0>]"
      ]
     },
     "execution_count": 167,
     "metadata": {},
     "output_type": "execute_result"
    },
    {
     "data": {
      "image/png": "[encoded data removed]",
      "text/plain": [
       "<Figure size 432x288 with 1 Axes>"
      ]
     },
     "metadata": {},
     "output_type": "display_data"
    }
   ],
   "source": [
    "plt.plot(alabama['mortality_per_100k'])"
   ]
  },
  {
   "cell_type": "code",
   "execution_count": 13,
   "metadata": {},
   "outputs": [
    {
     "data": {
      "image/png": "[encoded data removed]",
      "text/plain": [
       "<Figure size 432x288 with 1 Axes>"
      ]
     },
     "metadata": {},
     "output_type": "display_data"
    }
   ],
   "source": [
    "# We can see here that when we subtract 12 months back, the variance of the series is less than if we difference\n",
    "# at 6 months back. I think this is how we take out the annual seasonality that is evident in the target variable.\n",
    "plt.plot(alabama['mortality_per_100k'].diff(12), label='diff_12')\n",
    "plt.plot(alabama['mortality_per_100k'].diff(6), label='diff_6')\n",
    "plt.legend()\n",
    "plt.grid()"
   ]
  },
  {
   "cell_type": "markdown",
   "metadata": {},
   "source": [
    "Now, using the parameters that we got from doing gridsearch on the California target variable, looking at the ACF and pACF plots, I'm going to manually populate one of my dataframes and then run these other types of models on the dataframes, and see how it does."
   ]
  },
  {
   "cell_type": "code",
   "execution_count": 14,
   "metadata": {},
   "outputs": [],
   "source": [
    "california['mortality_per_100k_diff'] = california['mortality_per_100k'].diff()\n",
    "\n",
    "california['mort_per_100k_diff_lag1'] = california['mortality_per_100k_diff'].shift()\n",
    "\n",
    "california['mort_per_100k_diff_lag_MA1'] = california['mort_per_100k_diff_lag1'].rolling(2).mean()\n",
    "\n",
    "california['mort_per_100k_diff_seasonal_lag1'] = california['mortality_per_100k_diff'].shift(12)"
   ]
  },
  {
   "cell_type": "code",
   "execution_count": 15,
   "metadata": {},
   "outputs": [
    {
     "data": {
      "text/plain": [
       "Index(['Deaths', 'obesity_prevalence', 'diabetes_prevalence', 'Population',\n",
       "       'mortality_per_100k', 'mortality_per_100k_diff',\n",
       "       'mort_per_100k_diff_lag1', 'mort_per_100k_diff_lag_MA1',\n",
       "       'mort_per_100k_diff_seasonal_lag1'],\n",
       "      dtype='object')"
      ]
     },
     "execution_count": 15,
     "metadata": {},
     "output_type": "execute_result"
    }
   ],
   "source": [
    "california.columns"
   ]
  },
  {
   "cell_type": "code",
   "execution_count": 16,
   "metadata": {},
   "outputs": [],
   "source": [
    "california_copy = california.dropna()"
   ]
  },
  {
   "cell_type": "code",
   "execution_count": 17,
   "metadata": {},
   "outputs": [
    {
     "data": {
      "text/html": [
       "<div>\n",
       "<style scoped>\n",
       "    .dataframe tbody tr th:only-of-type {\n",
       "        vertical-align: middle;\n",
       "    }\n",
       "\n",
       "    .dataframe tbody tr th {\n",
       "        vertical-align: top;\n",
       "    }\n",
       "\n",
       "    .dataframe thead th {\n",
       "        text-align: right;\n",
       "    }\n",
       "</style>\n",
       "<table border=\"1\" class=\"dataframe\">\n",
       "  <thead>\n",
       "    <tr style=\"text-align: right;\">\n",
       "      <th></th>\n",
       "      <th>Deaths</th>\n",
       "      <th>obesity_prevalence</th>\n",
       "      <th>diabetes_prevalence</th>\n",
       "      <th>Population</th>\n",
       "      <th>mortality_per_100k</th>\n",
       "      <th>mortality_per_100k_diff</th>\n",
       "      <th>mort_per_100k_diff_lag1</th>\n",
       "      <th>mort_per_100k_diff_lag_MA1</th>\n",
       "      <th>mort_per_100k_diff_seasonal_lag1</th>\n",
       "    </tr>\n",
       "    <tr>\n",
       "      <th>Month</th>\n",
       "      <th></th>\n",
       "      <th></th>\n",
       "      <th></th>\n",
       "      <th></th>\n",
       "      <th></th>\n",
       "      <th></th>\n",
       "      <th></th>\n",
       "      <th></th>\n",
       "      <th></th>\n",
       "    </tr>\n",
       "  </thead>\n",
       "  <tbody>\n",
       "    <tr>\n",
       "      <th>2000-02-01</th>\n",
       "      <td>1351.0</td>\n",
       "      <td>39.933333</td>\n",
       "      <td>7.058333</td>\n",
       "      <td>3.392230e+07</td>\n",
       "      <td>3.982631</td>\n",
       "      <td>-1.408308</td>\n",
       "      <td>-0.205886</td>\n",
       "      <td>0.688642</td>\n",
       "      <td>-0.162609</td>\n",
       "    </tr>\n",
       "    <tr>\n",
       "      <th>2000-03-01</th>\n",
       "      <td>1535.0</td>\n",
       "      <td>40.666667</td>\n",
       "      <td>7.016667</td>\n",
       "      <td>3.397295e+07</td>\n",
       "      <td>4.518301</td>\n",
       "      <td>0.535670</td>\n",
       "      <td>-1.408308</td>\n",
       "      <td>-0.807097</td>\n",
       "      <td>0.111817</td>\n",
       "    </tr>\n",
       "    <tr>\n",
       "      <th>2000-04-01</th>\n",
       "      <td>1354.0</td>\n",
       "      <td>41.400000</td>\n",
       "      <td>6.975000</td>\n",
       "      <td>3.402360e+07</td>\n",
       "      <td>3.979591</td>\n",
       "      <td>-0.538710</td>\n",
       "      <td>0.535670</td>\n",
       "      <td>-0.436319</td>\n",
       "      <td>-0.349804</td>\n",
       "    </tr>\n",
       "    <tr>\n",
       "      <th>2000-05-01</th>\n",
       "      <td>1264.0</td>\n",
       "      <td>42.133333</td>\n",
       "      <td>6.933333</td>\n",
       "      <td>3.407425e+07</td>\n",
       "      <td>3.709546</td>\n",
       "      <td>-0.270045</td>\n",
       "      <td>-0.538710</td>\n",
       "      <td>-0.001520</td>\n",
       "      <td>-0.482994</td>\n",
       "    </tr>\n",
       "    <tr>\n",
       "      <th>2000-06-01</th>\n",
       "      <td>1272.0</td>\n",
       "      <td>42.866667</td>\n",
       "      <td>6.891667</td>\n",
       "      <td>3.412490e+07</td>\n",
       "      <td>3.727483</td>\n",
       "      <td>0.017937</td>\n",
       "      <td>-0.270045</td>\n",
       "      <td>-0.404377</td>\n",
       "      <td>-0.333534</td>\n",
       "    </tr>\n",
       "  </tbody>\n",
       "</table>\n",
       "</div>"
      ],
      "text/plain": [
       "            Deaths  obesity_prevalence  diabetes_prevalence    Population  \\\n",
       "Month                                                                       \n",
       "2000-02-01  1351.0           39.933333             7.058333  3.392230e+07   \n",
       "2000-03-01  1535.0           40.666667             7.016667  3.397295e+07   \n",
       "2000-04-01  1354.0           41.400000             6.975000  3.402360e+07   \n",
       "2000-05-01  1264.0           42.133333             6.933333  3.407425e+07   \n",
       "2000-06-01  1272.0           42.866667             6.891667  3.412490e+07   \n",
       "\n",
       "            mortality_per_100k  mortality_per_100k_diff  \\\n",
       "Month                                                     \n",
       "2000-02-01            3.982631                -1.408308   \n",
       "2000-03-01            4.518301                 0.535670   \n",
       "2000-04-01            3.979591                -0.538710   \n",
       "2000-05-01            3.709546                -0.270045   \n",
       "2000-06-01            3.727483                 0.017937   \n",
       "\n",
       "            mort_per_100k_diff_lag1  mort_per_100k_diff_lag_MA1  \\\n",
       "Month                                                             \n",
       "2000-02-01                -0.205886                    0.688642   \n",
       "2000-03-01                -1.408308                   -0.807097   \n",
       "2000-04-01                 0.535670                   -0.436319   \n",
       "2000-05-01                -0.538710                   -0.001520   \n",
       "2000-06-01                -0.270045                   -0.404377   \n",
       "\n",
       "            mort_per_100k_diff_seasonal_lag1  \n",
       "Month                                         \n",
       "2000-02-01                         -0.162609  \n",
       "2000-03-01                          0.111817  \n",
       "2000-04-01                         -0.349804  \n",
       "2000-05-01                         -0.482994  \n",
       "2000-06-01                         -0.333534  "
      ]
     },
     "execution_count": 17,
     "metadata": {},
     "output_type": "execute_result"
    }
   ],
   "source": [
    "california_copy.head()"
   ]
  },
  {
   "cell_type": "code",
   "execution_count": 18,
   "metadata": {},
   "outputs": [],
   "source": [
    "X = california_copy[['obesity_prevalence', 'diabetes_prevalence', 'mort_per_100k_diff_lag1', 'mort_per_100k_diff_lag_MA1', 'mort_per_100k_diff_seasonal_lag1']]\n",
    "y = california_copy['mortality_per_100k_diff']"
   ]
  },
  {
   "cell_type": "code",
   "execution_count": 21,
   "metadata": {},
   "outputs": [],
   "source": [
    "lin_regr = LinearRegression()"
   ]
  },
  {
   "cell_type": "code",
   "execution_count": 22,
   "metadata": {},
   "outputs": [],
   "source": [
    "import math"
   ]
  },
  {
   "cell_type": "code",
   "execution_count": 23,
   "metadata": {},
   "outputs": [],
   "source": [
    "X_train = X[0:math.ceil(len(y)*0.75)]\n",
    "X_test = X[math.ceil(len(y)*0.75):]\n",
    "y_train = y[0:math.ceil(len(y)*0.75)]\n",
    "y_test = y[math.ceil(len(y)*0.75):]"
   ]
  },
  {
   "cell_type": "code",
   "execution_count": 24,
   "metadata": {},
   "outputs": [
    {
     "data": {
      "text/plain": [
       "LinearRegression(copy_X=True, fit_intercept=True, n_jobs=1, normalize=False)"
      ]
     },
     "execution_count": 24,
     "metadata": {},
     "output_type": "execute_result"
    }
   ],
   "source": [
    "lin_regr.fit(X_train, y_train)"
   ]
  },
  {
   "cell_type": "code",
   "execution_count": 25,
   "metadata": {},
   "outputs": [],
   "source": [
    "y_test_pred = lin_regr.predict(X_test)"
   ]
  },
  {
   "cell_type": "code",
   "execution_count": 26,
   "metadata": {},
   "outputs": [],
   "source": [
    "y_test_pred = pd.Series(y_test_pred, index=y_test.index)"
   ]
  },
  {
   "cell_type": "code",
   "execution_count": 27,
   "metadata": {},
   "outputs": [
    {
     "data": {
      "text/plain": [
       "0.2231114597501509"
      ]
     },
     "execution_count": 27,
     "metadata": {},
     "output_type": "execute_result"
    }
   ],
   "source": [
    "lin_regr.score(X_test, y_test)"
   ]
  },
  {
   "cell_type": "code",
   "execution_count": 28,
   "metadata": {},
   "outputs": [
    {
     "data": {
      "image/png": "[encoded data removed]",
      "text/plain": [
       "<Figure size 432x288 with 1 Axes>"
      ]
     },
     "metadata": {},
     "output_type": "display_data"
    }
   ],
   "source": [
    "plt.plot(y_test, label='y true')\n",
    "plt.plot(y_test_pred, label='y predicted')\n",
    "plt.show()"
   ]
  },
  {
   "cell_type": "code",
   "execution_count": 29,
   "metadata": {},
   "outputs": [
    {
     "name": "stdout",
     "output_type": "stream",
     "text": [
      "TimeSeriesSplit(max_train_size=None, n_splits=10)\n",
      "Model name: Linear Regresion\n",
      "Val RMSE scores: [1.0704, 0.346, 0.3246, 0.1927, 0.2589, 0.2474, 0.2011, 0.1988, 0.1668, 0.1617]\n",
      "Model Val RMSE performance: 0.31684\n",
      "Final RMSE scores: [2.4796, 0.4798, 0.236, 0.2793, 0.2557, 0.1867, 0.2095, 0.1079, 0.2073, 0.2059]\n",
      "Model Final RMSE performance: 0.46476999999999996\n",
      "\n",
      "\n",
      "Model name: SVR\n",
      "Val RMSE scores: [0.2274, 0.2172, 0.3299, 0.2189, 0.2986, 0.2866, 0.1951, 0.2605, 0.1805, 0.1786]\n",
      "Model Val RMSE performance: 0.23933\n",
      "Final RMSE scores: [0.6334, 0.3371, 0.2311, 0.3447, 0.2744, 0.1883, 0.2449, 0.1119, 0.2276, 0.2394]\n",
      "Model Final RMSE performance: 0.28328\n",
      "\n",
      "\n",
      "Model name: Decision Tree\n",
      "Val RMSE scores: [0.2629, 0.2444, 0.2695, 0.2205, 0.1991, 0.2652, 0.2149, 0.2453, 0.2162, 0.2114]\n",
      "Model Val RMSE performance: 0.23494\n",
      "Final RMSE scores: [0.3532, 0.2488, 0.2551, 0.2237, 0.2486, 0.1904, 0.3006, 0.1416, 0.2363, 0.2826]\n",
      "Model Final RMSE performance: 0.24809\n",
      "\n",
      "\n",
      "Model name: Random Forest\n",
      "Val RMSE scores: [0.2007, 0.2004, 0.2514, 0.2285, 0.2047, 0.2324, 0.1991, 0.2126, 0.1718, 0.1771]\n",
      "Model Val RMSE performance: 0.20787\n",
      "Final RMSE scores: [0.3674, 0.2337, 0.2253, 0.2507, 0.2269, 0.1942, 0.2441, 0.1114, 0.2067, 0.2483]\n",
      "Model Final RMSE performance: 0.23087\n",
      "\n",
      "\n",
      "Model name: Gradient Boosted Trees\n",
      "Val RMSE scores: [0.264, 0.2109, 0.2787, 0.2209, 0.242, 0.2203, 0.2198, 0.2101, 0.1723, 0.1818]\n",
      "Model Val RMSE performance: 0.22208\n",
      "Final RMSE scores: [0.4488, 0.2398, 0.2153, 0.2391, 0.2556, 0.2135, 0.2124, 0.0952, 0.2338, 0.2526]\n",
      "Model Final RMSE performance: 0.24061000000000005\n",
      "\n",
      "\n"
     ]
    }
   ],
   "source": [
    "from sklearn.model_selection import TimeSeriesSplit\n",
    "from sklearn.model_selection import GridSearchCV\n",
    "import math\n",
    "tscv = TimeSeriesSplit(n_splits=10)\n",
    "print(tscv)  \n",
    "\n",
    "models = [('Linear Regresion', LinearRegression),\n",
    "          ('SVR', SVR),\n",
    "          ('Decision Tree', DecisionTreeRegressor),\n",
    "          ('Random Forest', RandomForestRegressor),\n",
    "          ('Gradient Boosted Trees', GradientBoostingRegressor)\n",
    "         ]\n",
    "\n",
    "param_choices = [\n",
    "    {},\n",
    "    {\n",
    "        'C': np.linspace(0.1,100,101)\n",
    "    },\n",
    "    {\n",
    "        'max_depth': [1,2,3,4,5],\n",
    "        'min_samples_leaf': [3,6,10]\n",
    "    },\n",
    "    {\n",
    "        'n_estimators': [50, 100, 200],\n",
    "        'max_depth': [1,2,3,4,5],\n",
    "        'min_samples_leaf': [3,6,10]\n",
    "    },\n",
    "    {\n",
    "        'n_estimators': [50, 100, 200],\n",
    "        'max_depth': [1,2,3,4,5],\n",
    "        'min_samples_leaf': [3,6,10]\n",
    "    }\n",
    "]\n",
    "\n",
    "grids = {}\n",
    "\n",
    "for model_info, params in zip(models, param_choices):\n",
    "    name, model = model_info\n",
    "    grid = GridSearchCV(model(), params, scoring = 'neg_mean_squared_error')\n",
    "    val_rmse_scores = []\n",
    "    final_rmse_scores = []\n",
    "    for train_index, test_index in tscv.split(X):\n",
    "        nested_train_length = math.ceil(0.75 * len(train_index))\n",
    "        X_train, X_final_test = X.iloc[train_index], X.iloc[test_index]\n",
    "        y_train, y_final_test = y.iloc[train_index].values.reshape(-1,), y.iloc[test_index].values.reshape(-1,)\n",
    "        \n",
    "        X_nested_train = X_train[:nested_train_length]\n",
    "        X_nested_valtest = X_train[nested_train_length:]\n",
    "        \n",
    "        y_nested_train = y_train[:nested_train_length]\n",
    "        y_nested_valtest = y_train[nested_train_length:]\n",
    "        \n",
    "        grid.fit(X_nested_train, y_nested_train)\n",
    "        \n",
    "        y_valtest_pred = grid.predict(X_nested_valtest)\n",
    "        \n",
    "        val_mse_score = -1.0*grid.score(X_nested_valtest,y_nested_valtest)\n",
    "        val_rmse_score = np.sqrt(val_mse_score)\n",
    "        val_rmse_scores.append(np.round(val_rmse_score,4))\n",
    "        avg_val_mse_score = np.mean(val_rmse_scores)\n",
    "        \n",
    "        y_finaltest_pred = grid.predict(X_final_test)\n",
    "        final_mse_score = -1.0*grid.score(X_final_test,y_final_test)\n",
    "        final_rmse_score = np.sqrt(final_mse_score)\n",
    "        final_rmse_scores.append(np.round(final_rmse_score,4))\n",
    "        avg_final_mse_score = np.mean(final_rmse_scores)\n",
    "        \n",
    "        s = f\"{name}: best score: {grid.best_score_}, best estimator: {grid.best_estimator_}\"\n",
    "        \n",
    "        grids[name] = grid\n",
    "        \n",
    "    print(f'Model name: {name}')\n",
    "    print(f'Val RMSE scores: {val_rmse_scores}')\n",
    "    print(f'Model Val RMSE performance: {avg_val_mse_score}')\n",
    "    print(f'Final RMSE scores: {final_rmse_scores}')\n",
    "    print(f'Model Final RMSE performance: {avg_final_mse_score}')\n",
    "    print('\\n')"
   ]
  },
  {
   "cell_type": "code",
   "execution_count": 31,
   "metadata": {},
   "outputs": [
    {
     "data": {
      "text/plain": [
       "dict_keys(['Linear Regresion', 'SVR', 'Decision Tree', 'Random Forest', 'Gradient Boosted Trees'])"
      ]
     },
     "execution_count": 31,
     "metadata": {},
     "output_type": "execute_result"
    }
   ],
   "source": [
    "grids.keys()"
   ]
  },
  {
   "cell_type": "code",
   "execution_count": 37,
   "metadata": {},
   "outputs": [],
   "source": [
    "gbtree = grids['Gradient Boosted Trees'].best_estimator_"
   ]
  },
  {
   "cell_type": "code",
   "execution_count": 38,
   "metadata": {},
   "outputs": [],
   "source": [
    "y_pred = gbtree.predict(X)"
   ]
  },
  {
   "cell_type": "code",
   "execution_count": 41,
   "metadata": {},
   "outputs": [],
   "source": [
    "y_pred_series = pd.Series(y_pred, index = y.index)"
   ]
  },
  {
   "cell_type": "code",
   "execution_count": 42,
   "metadata": {},
   "outputs": [
    {
     "data": {
      "image/png": "[encoded data removed]",
      "text/plain": [
       "<Figure size 432x288 with 1 Axes>"
      ]
     },
     "metadata": {},
     "output_type": "display_data"
    }
   ],
   "source": [
    "plt.plot(y, label='actual y')\n",
    "plt.plot(y_pred_series, label='predicted y')\n",
    "plt.show()"
   ]
  },
  {
   "cell_type": "markdown",
   "metadata": {},
   "source": [
    "## Raw data, not differenced to make it stationary\n",
    "\n",
    "Let's see how these other models do if they are given the raw data that has not been differenced. That also means using AR-1 and MA-1 on the undifferenced data."
   ]
  },
  {
   "cell_type": "code",
   "execution_count": 10,
   "metadata": {},
   "outputs": [],
   "source": [
    "california = clean_dict_of_state_dfs['California'].copy()"
   ]
  },
  {
   "cell_type": "code",
   "execution_count": 11,
   "metadata": {},
   "outputs": [],
   "source": [
    "california.drop(columns=['Deaths', 'Population'], inplace=True)"
   ]
  },
  {
   "cell_type": "code",
   "execution_count": 12,
   "metadata": {},
   "outputs": [],
   "source": [
    "california['mort_per_100k_lag1'] = california['mortality_per_100k'].shift()\n",
    "california['mort_per_100k_lag1_MA2'] =california['mort_per_100k_lag1'].rolling(2).mean()\n",
    "california.dropna(inplace=True)"
   ]
  },
  {
   "cell_type": "code",
   "execution_count": 13,
   "metadata": {},
   "outputs": [],
   "source": [
    "X = california.loc[:, california.columns != 'mortality_per_100k']\n",
    "y = california['mortality_per_100k']"
   ]
  },
  {
   "cell_type": "code",
   "execution_count": 14,
   "metadata": {},
   "outputs": [
    {
     "data": {
      "text/html": [
       "<div>\n",
       "<style scoped>\n",
       "    .dataframe tbody tr th:only-of-type {\n",
       "        vertical-align: middle;\n",
       "    }\n",
       "\n",
       "    .dataframe tbody tr th {\n",
       "        vertical-align: top;\n",
       "    }\n",
       "\n",
       "    .dataframe thead th {\n",
       "        text-align: right;\n",
       "    }\n",
       "</style>\n",
       "<table border=\"1\" class=\"dataframe\">\n",
       "  <thead>\n",
       "    <tr style=\"text-align: right;\">\n",
       "      <th></th>\n",
       "      <th>obesity_prevalence</th>\n",
       "      <th>diabetes_prevalence</th>\n",
       "      <th>mort_per_100k_lag1</th>\n",
       "      <th>mort_per_100k_lag1_MA2</th>\n",
       "    </tr>\n",
       "    <tr>\n",
       "      <th>Month</th>\n",
       "      <th></th>\n",
       "      <th></th>\n",
       "      <th></th>\n",
       "      <th></th>\n",
       "    </tr>\n",
       "  </thead>\n",
       "  <tbody>\n",
       "    <tr>\n",
       "      <th>1999-03-01</th>\n",
       "      <td>41.116667</td>\n",
       "      <td>6.60</td>\n",
       "      <td>4.744970</td>\n",
       "      <td>4.826275</td>\n",
       "    </tr>\n",
       "    <tr>\n",
       "      <th>1999-04-01</th>\n",
       "      <td>40.925000</td>\n",
       "      <td>6.65</td>\n",
       "      <td>4.856788</td>\n",
       "      <td>4.800879</td>\n",
       "    </tr>\n",
       "    <tr>\n",
       "      <th>1999-05-01</th>\n",
       "      <td>40.733333</td>\n",
       "      <td>6.70</td>\n",
       "      <td>4.506983</td>\n",
       "      <td>4.681885</td>\n",
       "    </tr>\n",
       "    <tr>\n",
       "      <th>1999-06-01</th>\n",
       "      <td>40.541667</td>\n",
       "      <td>6.75</td>\n",
       "      <td>4.023989</td>\n",
       "      <td>4.265486</td>\n",
       "    </tr>\n",
       "    <tr>\n",
       "      <th>1999-07-01</th>\n",
       "      <td>40.350000</td>\n",
       "      <td>6.80</td>\n",
       "      <td>3.690455</td>\n",
       "      <td>3.857222</td>\n",
       "    </tr>\n",
       "  </tbody>\n",
       "</table>\n",
       "</div>"
      ],
      "text/plain": [
       "            obesity_prevalence  diabetes_prevalence  mort_per_100k_lag1  \\\n",
       "Month                                                                     \n",
       "1999-03-01           41.116667                 6.60            4.744970   \n",
       "1999-04-01           40.925000                 6.65            4.856788   \n",
       "1999-05-01           40.733333                 6.70            4.506983   \n",
       "1999-06-01           40.541667                 6.75            4.023989   \n",
       "1999-07-01           40.350000                 6.80            3.690455   \n",
       "\n",
       "            mort_per_100k_lag1_MA2  \n",
       "Month                               \n",
       "1999-03-01                4.826275  \n",
       "1999-04-01                4.800879  \n",
       "1999-05-01                4.681885  \n",
       "1999-06-01                4.265486  \n",
       "1999-07-01                3.857222  "
      ]
     },
     "execution_count": 14,
     "metadata": {},
     "output_type": "execute_result"
    }
   ],
   "source": [
    "X.head()"
   ]
  },
  {
   "cell_type": "code",
   "execution_count": 15,
   "metadata": {},
   "outputs": [
    {
     "name": "stdout",
     "output_type": "stream",
     "text": [
      "TimeSeriesSplit(max_train_size=None, n_splits=10)\n",
      "Model name: Linear Regresion\n",
      "Val RMSE scores: [0.8185, 0.4348, 0.2869, 0.3268, 0.2804, 0.3621, 0.297, 0.2309, 0.2007, 0.202]\n",
      "Model Val RMSE performance: 0.34401\n",
      "Final RMSE scores: [0.8268, 0.264, 0.3256, 0.3017, 0.3777, 0.2213, 0.3022, 0.1525, 0.2084, 0.2255]\n",
      "Model Final RMSE performance: 0.32056999999999997\n",
      "\n",
      "\n",
      "Model name: SVR\n",
      "Val RMSE scores: [0.2499, 0.4057, 0.6535, 0.4962, 0.9357, 0.4798, 0.398, 0.3758, 0.2732, 0.5494]\n",
      "Model Val RMSE performance: 0.48172000000000004\n",
      "Final RMSE scores: [0.3992, 0.5688, 0.661, 0.8268, 0.7233, 0.6601, 0.3895, 0.472, 0.7528, 0.8275]\n",
      "Model Final RMSE performance: 0.6280999999999999\n",
      "\n",
      "\n",
      "Model name: Decision Tree\n",
      "Val RMSE scores: [0.2171, 0.3832, 0.3496, 0.4696, 0.3457, 0.418, 0.3475, 0.2996, 0.2452, 0.2338]\n",
      "Model Val RMSE performance: 0.33093000000000006\n",
      "Final RMSE scores: [0.3549, 0.3897, 0.3935, 0.5991, 0.5123, 0.3868, 0.4527, 0.2447, 0.3452, 0.3139]\n",
      "Model Final RMSE performance: 0.39927999999999997\n",
      "\n",
      "\n",
      "Model name: Random Forest\n",
      "Val RMSE scores: [0.1896, 0.4066, 0.3708, 0.3907, 0.3452, 0.4026, 0.3204, 0.2631, 0.2395, 0.2365]\n",
      "Model Val RMSE performance: 0.3165\n",
      "Final RMSE scores: [0.4651, 0.4702, 0.4578, 0.492, 0.537, 0.3888, 0.3839, 0.2565, 0.3452, 0.3396]\n",
      "Model Final RMSE performance: 0.41361\n",
      "\n",
      "\n",
      "Model name: Gradient Boosted Trees\n",
      "Val RMSE scores: [0.2353, 0.4331, 0.4008, 0.3681, 0.3503, 0.4422, 0.3786, 0.2569, 0.2394, 0.2454]\n",
      "Model Val RMSE performance: 0.33501\n",
      "Final RMSE scores: [0.3959, 0.3643, 0.4936, 0.577, 0.5832, 0.4572, 0.5196, 0.2366, 0.361, 0.3196]\n",
      "Model Final RMSE performance: 0.43079999999999996\n",
      "\n",
      "\n"
     ]
    }
   ],
   "source": [
    "from sklearn.model_selection import TimeSeriesSplit\n",
    "from sklearn.model_selection import GridSearchCV\n",
    "import math\n",
    "tscv = TimeSeriesSplit(n_splits=10)\n",
    "print(tscv)  \n",
    "\n",
    "models = [('Linear Regresion', LinearRegression),\n",
    "          ('SVR', SVR),\n",
    "          ('Decision Tree', DecisionTreeRegressor),\n",
    "          ('Random Forest', RandomForestRegressor),\n",
    "          ('Gradient Boosted Trees', GradientBoostingRegressor)\n",
    "         ]\n",
    "\n",
    "param_choices = [\n",
    "    {},\n",
    "    {\n",
    "        'C': np.linspace(0.1,100,101)\n",
    "    },\n",
    "    {\n",
    "        'max_depth': [1,2,3,4,5],\n",
    "        'min_samples_leaf': [3,6,10]\n",
    "    },\n",
    "    {\n",
    "        'n_estimators': [50, 100, 200],\n",
    "        'max_depth': [1,2,3,4,5],\n",
    "        'min_samples_leaf': [3,6,10]\n",
    "    },\n",
    "    {\n",
    "        'n_estimators': [50, 100, 200],\n",
    "        'max_depth': [1,2,3,4,5],\n",
    "        'min_samples_leaf': [3,6,10]\n",
    "    }\n",
    "]\n",
    "\n",
    "grids = {}\n",
    "\n",
    "for model_info, params in zip(models, param_choices):\n",
    "    name, model = model_info\n",
    "    grid = GridSearchCV(model(), params, scoring = 'neg_mean_squared_error')\n",
    "    val_rmse_scores = []\n",
    "    final_rmse_scores = []\n",
    "    for train_index, test_index in tscv.split(X):\n",
    "        nested_train_length = math.ceil(0.75 * len(train_index))\n",
    "        X_train, X_final_test = X.iloc[train_index], X.iloc[test_index]\n",
    "        y_train, y_final_test = y.iloc[train_index].values.reshape(-1,), y.iloc[test_index].values.reshape(-1,)\n",
    "        \n",
    "        X_nested_train = X_train[:nested_train_length]\n",
    "        X_nested_valtest = X_train[nested_train_length:]\n",
    "        \n",
    "        y_nested_train = y_train[:nested_train_length]\n",
    "        y_nested_valtest = y_train[nested_train_length:]\n",
    "        \n",
    "        grid.fit(X_nested_train, y_nested_train)\n",
    "        \n",
    "        y_valtest_pred = grid.predict(X_nested_valtest)\n",
    "        \n",
    "        val_mse_score = -1.0*grid.score(X_nested_valtest,y_nested_valtest)\n",
    "        val_rmse_score = np.sqrt(val_mse_score)\n",
    "        val_rmse_scores.append(np.round(val_rmse_score,4))\n",
    "        avg_val_mse_score = np.mean(val_rmse_scores)\n",
    "        \n",
    "        y_finaltest_pred = grid.predict(X_final_test)\n",
    "        final_mse_score = -1.0*grid.score(X_final_test,y_final_test)\n",
    "        final_rmse_score = np.sqrt(final_mse_score)\n",
    "        final_rmse_scores.append(np.round(final_rmse_score,4))\n",
    "        avg_final_mse_score = np.mean(final_rmse_scores)\n",
    "        \n",
    "        s = f\"{name}: best score: {grid.best_score_}, best estimator: {grid.best_estimator_}\"\n",
    "        \n",
    "        grids[name] = grid\n",
    "        \n",
    "    print(f'Model name: {name}')\n",
    "    print(f'Val RMSE scores: {val_rmse_scores}')\n",
    "    print(f'Model Val RMSE performance: {avg_val_mse_score}')\n",
    "    print(f'Final RMSE scores: {final_rmse_scores}')\n",
    "    print(f'Model Final RMSE performance: {avg_final_mse_score}')\n",
    "    print('\\n')"
   ]
  },
  {
   "cell_type": "code",
   "execution_count": 16,
   "metadata": {},
   "outputs": [],
   "source": [
    "gbtree = grids['Gradient Boosted Trees'].best_estimator_\n",
    "y_pred = gbtree.predict(X)\n",
    "y_pred_series = pd.Series(y_pred, index = y.index)"
   ]
  },
  {
   "cell_type": "code",
   "execution_count": 17,
   "metadata": {},
   "outputs": [
    {
     "data": {
      "image/png": "[encoded data removed]",
      "text/plain": [
       "<Figure size 432x288 with 1 Axes>"
      ]
     },
     "metadata": {},
     "output_type": "display_data"
    }
   ],
   "source": [
    "plt.plot(y, label='actual y')\n",
    "plt.plot(y_pred_series, label='predicted y')\n",
    "plt.show()"
   ]
  },
  {
   "cell_type": "code",
   "execution_count": 22,
   "metadata": {},
   "outputs": [
    {
     "name": "stderr",
     "output_type": "stream",
     "text": [
      "/Users/joycelee/anaconda3/lib/python3.6/site-packages/sklearn/utils/deprecation.py:77: DeprecationWarning: Function n_features is deprecated; Attribute n_features was deprecated in version 0.19 and will be removed in 0.21.\n",
      "  warnings.warn(msg, category=DeprecationWarning)\n"
     ]
    },
    {
     "data": {
      "text/plain": [
       "4"
      ]
     },
     "execution_count": 22,
     "metadata": {},
     "output_type": "execute_result"
    }
   ],
   "source": []
  },
  {
   "cell_type": "code",
   "execution_count": 20,
   "metadata": {},
   "outputs": [
    {
     "data": {
      "text/plain": [
       "array([0.27, 0.29, 0.28, 0.16])"
      ]
     },
     "execution_count": 20,
     "metadata": {},
     "output_type": "execute_result"
    }
   ],
   "source": [
    "gbtree.feature_importances_"
   ]
  },
  {
   "cell_type": "markdown",
   "metadata": {},
   "source": [
    "## Combining data from multiple states\n",
    "\n",
    "Let's try combining the data from multiple states and seeing what happens to the different models."
   ]
  },
  {
   "cell_type": "code",
   "execution_count": 25,
   "metadata": {},
   "outputs": [],
   "source": [
    "california = clean_dict_of_state_dfs['California']\n",
    "alabama = clean_dict_of_state_dfs['Alabama']"
   ]
  },
  {
   "cell_type": "code",
   "execution_count": 27,
   "metadata": {},
   "outputs": [
    {
     "data": {
      "text/html": [
       "<div>\n",
       "<style scoped>\n",
       "    .dataframe tbody tr th:only-of-type {\n",
       "        vertical-align: middle;\n",
       "    }\n",
       "\n",
       "    .dataframe tbody tr th {\n",
       "        vertical-align: top;\n",
       "    }\n",
       "\n",
       "    .dataframe thead th {\n",
       "        text-align: right;\n",
       "    }\n",
       "</style>\n",
       "<table border=\"1\" class=\"dataframe\">\n",
       "  <thead>\n",
       "    <tr style=\"text-align: right;\">\n",
       "      <th></th>\n",
       "      <th>Deaths</th>\n",
       "      <th>obesity_prevalence</th>\n",
       "      <th>diabetes_prevalence</th>\n",
       "      <th>Population</th>\n",
       "      <th>mortality_per_100k</th>\n",
       "    </tr>\n",
       "    <tr>\n",
       "      <th>Month</th>\n",
       "      <th></th>\n",
       "      <th></th>\n",
       "      <th></th>\n",
       "      <th></th>\n",
       "      <th></th>\n",
       "    </tr>\n",
       "  </thead>\n",
       "  <tbody>\n",
       "    <tr>\n",
       "      <th>1999-01-01</th>\n",
       "      <td>1644.0</td>\n",
       "      <td>41.500000</td>\n",
       "      <td>6.50</td>\n",
       "      <td>33499204.0</td>\n",
       "      <td>4.907579</td>\n",
       "    </tr>\n",
       "    <tr>\n",
       "      <th>1999-02-01</th>\n",
       "      <td>1591.0</td>\n",
       "      <td>41.308333</td>\n",
       "      <td>6.55</td>\n",
       "      <td>33530241.0</td>\n",
       "      <td>4.744970</td>\n",
       "    </tr>\n",
       "    <tr>\n",
       "      <th>1999-03-01</th>\n",
       "      <td>1630.0</td>\n",
       "      <td>41.116667</td>\n",
       "      <td>6.60</td>\n",
       "      <td>33561278.0</td>\n",
       "      <td>4.856788</td>\n",
       "    </tr>\n",
       "    <tr>\n",
       "      <th>1999-04-01</th>\n",
       "      <td>1514.0</td>\n",
       "      <td>40.925000</td>\n",
       "      <td>6.65</td>\n",
       "      <td>33592315.0</td>\n",
       "      <td>4.506983</td>\n",
       "    </tr>\n",
       "    <tr>\n",
       "      <th>1999-05-01</th>\n",
       "      <td>1353.0</td>\n",
       "      <td>40.733333</td>\n",
       "      <td>6.70</td>\n",
       "      <td>33623352.0</td>\n",
       "      <td>4.023989</td>\n",
       "    </tr>\n",
       "  </tbody>\n",
       "</table>\n",
       "</div>"
      ],
      "text/plain": [
       "            Deaths  obesity_prevalence  diabetes_prevalence  Population  \\\n",
       "Month                                                                     \n",
       "1999-01-01  1644.0           41.500000                 6.50  33499204.0   \n",
       "1999-02-01  1591.0           41.308333                 6.55  33530241.0   \n",
       "1999-03-01  1630.0           41.116667                 6.60  33561278.0   \n",
       "1999-04-01  1514.0           40.925000                 6.65  33592315.0   \n",
       "1999-05-01  1353.0           40.733333                 6.70  33623352.0   \n",
       "\n",
       "            mortality_per_100k  \n",
       "Month                           \n",
       "1999-01-01            4.907579  \n",
       "1999-02-01            4.744970  \n",
       "1999-03-01            4.856788  \n",
       "1999-04-01            4.506983  \n",
       "1999-05-01            4.023989  "
      ]
     },
     "execution_count": 27,
     "metadata": {},
     "output_type": "execute_result"
    }
   ],
   "source": [
    "california.head()"
   ]
  },
  {
   "cell_type": "code",
   "execution_count": 34,
   "metadata": {},
   "outputs": [
    {
     "data": {
      "text/plain": [
       "(193, 5)"
      ]
     },
     "execution_count": 34,
     "metadata": {},
     "output_type": "execute_result"
    }
   ],
   "source": [
    "california.shape"
   ]
  },
  {
   "cell_type": "code",
   "execution_count": 35,
   "metadata": {},
   "outputs": [],
   "source": [
    "california['state'] = ['california'] * california.shape[0]"
   ]
  },
  {
   "cell_type": "code",
   "execution_count": 37,
   "metadata": {},
   "outputs": [],
   "source": [
    "alabama['state'] = ['alabama'] * alabama.shape[0]"
   ]
  },
  {
   "cell_type": "code",
   "execution_count": 38,
   "metadata": {},
   "outputs": [],
   "source": [
    "california_alabama = pd.concat([california, alabama])"
   ]
  },
  {
   "cell_type": "code",
   "execution_count": 44,
   "metadata": {},
   "outputs": [],
   "source": [
    "california_alabama.sort_index(inplace=True)"
   ]
  },
  {
   "cell_type": "code",
   "execution_count": 45,
   "metadata": {},
   "outputs": [
    {
     "data": {
      "text/html": [
       "<div>\n",
       "<style scoped>\n",
       "    .dataframe tbody tr th:only-of-type {\n",
       "        vertical-align: middle;\n",
       "    }\n",
       "\n",
       "    .dataframe tbody tr th {\n",
       "        vertical-align: top;\n",
       "    }\n",
       "\n",
       "    .dataframe thead th {\n",
       "        text-align: right;\n",
       "    }\n",
       "</style>\n",
       "<table border=\"1\" class=\"dataframe\">\n",
       "  <thead>\n",
       "    <tr style=\"text-align: right;\">\n",
       "      <th></th>\n",
       "      <th>Deaths</th>\n",
       "      <th>obesity_prevalence</th>\n",
       "      <th>diabetes_prevalence</th>\n",
       "      <th>Population</th>\n",
       "      <th>mortality_per_100k</th>\n",
       "      <th>state</th>\n",
       "    </tr>\n",
       "    <tr>\n",
       "      <th>Month</th>\n",
       "      <th></th>\n",
       "      <th></th>\n",
       "      <th></th>\n",
       "      <th></th>\n",
       "      <th></th>\n",
       "      <th></th>\n",
       "    </tr>\n",
       "  </thead>\n",
       "  <tbody>\n",
       "    <tr>\n",
       "      <th>1999-01-01</th>\n",
       "      <td>1644.0</td>\n",
       "      <td>41.500000</td>\n",
       "      <td>6.500000</td>\n",
       "      <td>33499204.00</td>\n",
       "      <td>4.907579</td>\n",
       "      <td>california</td>\n",
       "    </tr>\n",
       "    <tr>\n",
       "      <th>1999-01-01</th>\n",
       "      <td>332.0</td>\n",
       "      <td>61.400000</td>\n",
       "      <td>7.400000</td>\n",
       "      <td>4430141.00</td>\n",
       "      <td>7.494118</td>\n",
       "      <td>alabama</td>\n",
       "    </tr>\n",
       "    <tr>\n",
       "      <th>1999-02-01</th>\n",
       "      <td>1591.0</td>\n",
       "      <td>41.308333</td>\n",
       "      <td>6.550000</td>\n",
       "      <td>33530241.00</td>\n",
       "      <td>4.744970</td>\n",
       "      <td>california</td>\n",
       "    </tr>\n",
       "    <tr>\n",
       "      <th>1999-02-01</th>\n",
       "      <td>332.0</td>\n",
       "      <td>60.833333</td>\n",
       "      <td>7.383333</td>\n",
       "      <td>4431554.25</td>\n",
       "      <td>7.491728</td>\n",
       "      <td>alabama</td>\n",
       "    </tr>\n",
       "    <tr>\n",
       "      <th>1999-03-01</th>\n",
       "      <td>1630.0</td>\n",
       "      <td>41.116667</td>\n",
       "      <td>6.600000</td>\n",
       "      <td>33561278.00</td>\n",
       "      <td>4.856788</td>\n",
       "      <td>california</td>\n",
       "    </tr>\n",
       "  </tbody>\n",
       "</table>\n",
       "</div>"
      ],
      "text/plain": [
       "            Deaths  obesity_prevalence  diabetes_prevalence   Population  \\\n",
       "Month                                                                      \n",
       "1999-01-01  1644.0           41.500000             6.500000  33499204.00   \n",
       "1999-01-01   332.0           61.400000             7.400000   4430141.00   \n",
       "1999-02-01  1591.0           41.308333             6.550000  33530241.00   \n",
       "1999-02-01   332.0           60.833333             7.383333   4431554.25   \n",
       "1999-03-01  1630.0           41.116667             6.600000  33561278.00   \n",
       "\n",
       "            mortality_per_100k       state  \n",
       "Month                                       \n",
       "1999-01-01            4.907579  california  \n",
       "1999-01-01            7.494118     alabama  \n",
       "1999-02-01            4.744970  california  \n",
       "1999-02-01            7.491728     alabama  \n",
       "1999-03-01            4.856788  california  "
      ]
     },
     "execution_count": 45,
     "metadata": {},
     "output_type": "execute_result"
    }
   ],
   "source": [
    "california_alabama.head()"
   ]
  },
  {
   "cell_type": "code",
   "execution_count": 47,
   "metadata": {},
   "outputs": [],
   "source": [
    "z = california_alabama.drop(columns=['Deaths', 'Population', 'state'])"
   ]
  },
  {
   "cell_type": "code",
   "execution_count": 48,
   "metadata": {},
   "outputs": [
    {
     "data": {
      "text/html": [
       "<div>\n",
       "<style scoped>\n",
       "    .dataframe tbody tr th:only-of-type {\n",
       "        vertical-align: middle;\n",
       "    }\n",
       "\n",
       "    .dataframe tbody tr th {\n",
       "        vertical-align: top;\n",
       "    }\n",
       "\n",
       "    .dataframe thead th {\n",
       "        text-align: right;\n",
       "    }\n",
       "</style>\n",
       "<table border=\"1\" class=\"dataframe\">\n",
       "  <thead>\n",
       "    <tr style=\"text-align: right;\">\n",
       "      <th></th>\n",
       "      <th>obesity_prevalence</th>\n",
       "      <th>diabetes_prevalence</th>\n",
       "      <th>mortality_per_100k</th>\n",
       "    </tr>\n",
       "    <tr>\n",
       "      <th>Month</th>\n",
       "      <th></th>\n",
       "      <th></th>\n",
       "      <th></th>\n",
       "    </tr>\n",
       "  </thead>\n",
       "  <tbody>\n",
       "    <tr>\n",
       "      <th>1999-01-01</th>\n",
       "      <td>41.500000</td>\n",
       "      <td>6.500000</td>\n",
       "      <td>4.907579</td>\n",
       "    </tr>\n",
       "    <tr>\n",
       "      <th>1999-01-01</th>\n",
       "      <td>61.400000</td>\n",
       "      <td>7.400000</td>\n",
       "      <td>7.494118</td>\n",
       "    </tr>\n",
       "    <tr>\n",
       "      <th>1999-02-01</th>\n",
       "      <td>41.308333</td>\n",
       "      <td>6.550000</td>\n",
       "      <td>4.744970</td>\n",
       "    </tr>\n",
       "    <tr>\n",
       "      <th>1999-02-01</th>\n",
       "      <td>60.833333</td>\n",
       "      <td>7.383333</td>\n",
       "      <td>7.491728</td>\n",
       "    </tr>\n",
       "    <tr>\n",
       "      <th>1999-03-01</th>\n",
       "      <td>41.116667</td>\n",
       "      <td>6.600000</td>\n",
       "      <td>4.856788</td>\n",
       "    </tr>\n",
       "  </tbody>\n",
       "</table>\n",
       "</div>"
      ],
      "text/plain": [
       "            obesity_prevalence  diabetes_prevalence  mortality_per_100k\n",
       "Month                                                                  \n",
       "1999-01-01           41.500000             6.500000            4.907579\n",
       "1999-01-01           61.400000             7.400000            7.494118\n",
       "1999-02-01           41.308333             6.550000            4.744970\n",
       "1999-02-01           60.833333             7.383333            7.491728\n",
       "1999-03-01           41.116667             6.600000            4.856788"
      ]
     },
     "execution_count": 48,
     "metadata": {},
     "output_type": "execute_result"
    }
   ],
   "source": [
    "z.head()"
   ]
  },
  {
   "cell_type": "code",
   "execution_count": 49,
   "metadata": {},
   "outputs": [],
   "source": [
    "X = z[['obesity_prevalence', 'diabetes_prevalence']]\n",
    "y = z.mortality_per_100k"
   ]
  },
  {
   "cell_type": "code",
   "execution_count": 50,
   "metadata": {},
   "outputs": [
    {
     "name": "stdout",
     "output_type": "stream",
     "text": [
      "TimeSeriesSplit(max_train_size=None, n_splits=10)\n",
      "Model name: Linear Regresion\n",
      "Val RMSE scores: [0.9256, 0.9801, 1.1872, 1.7262, 1.7899, 1.8728, 1.4485, 1.216, 1.4375, 1.1842]\n",
      "Model Val RMSE performance: 1.3768\n",
      "Final RMSE scores: [1.6705, 1.2024, 1.9124, 2.1277, 2.4903, 1.9915, 1.3532, 1.2362, 1.1412, 0.9893]\n",
      "Model Final RMSE performance: 1.61147\n",
      "\n",
      "\n",
      "Model name: SVR\n",
      "Val RMSE scores: [1.3087, 0.6093, 1.1574, 0.8795, 1.7575, 1.2713, 1.0209, 1.104, 0.6529, 1.2724]\n",
      "Model Val RMSE performance: 1.10339\n",
      "Final RMSE scores: [1.8446, 1.249, 1.3498, 1.9163, 1.4483, 1.2792, 1.2419, 1.2966, 1.4502, 1.7745]\n",
      "Model Final RMSE performance: 1.4850400000000001\n",
      "\n",
      "\n",
      "Model name: Decision Tree\n",
      "Val RMSE scores: [0.6889, 0.6778, 0.6578, 0.9876, 1.8904, 1.8024, 0.9361, 0.8497, 1.1306, 0.6209]\n",
      "Model Val RMSE performance: 1.0242200000000001\n",
      "Final RMSE scores: [1.8544, 0.7281, 1.0341, 2.1096, 1.6361, 1.3547, 1.1094, 1.043, 0.6813, 0.9146]\n",
      "Model Final RMSE performance: 1.2465300000000001\n",
      "\n",
      "\n",
      "Model name: Random Forest\n",
      "Val RMSE scores: [0.6896, 1.5222, 0.8218, 1.144, 1.8953, 1.7742, 0.619, 0.7626, 1.0498, 0.8365]\n",
      "Model Val RMSE performance: 1.1115\n",
      "Final RMSE scores: [1.295, 1.5345, 1.2393, 1.9388, 1.6588, 1.352, 0.9702, 0.9764, 0.7355, 0.917]\n",
      "Model Final RMSE performance: 1.26175\n",
      "\n",
      "\n",
      "Model name: Gradient Boosted Trees\n",
      "Val RMSE scores: [1.0343, 1.5715, 0.6823, 1.2097, 1.8646, 1.526, 0.6787, 1.0023, 1.4729, 1.4815]\n",
      "Model Val RMSE performance: 1.25238\n",
      "Final RMSE scores: [2.0153, 1.6583, 1.2722, 2.1083, 1.5112, 1.1265, 0.977, 1.1667, 1.08, 1.7095]\n",
      "Model Final RMSE performance: 1.4625\n",
      "\n",
      "\n"
     ]
    }
   ],
   "source": [
    "from sklearn.model_selection import TimeSeriesSplit\n",
    "from sklearn.model_selection import GridSearchCV\n",
    "import math\n",
    "tscv = TimeSeriesSplit(n_splits=10)\n",
    "print(tscv)  \n",
    "\n",
    "models = [('Linear Regresion', LinearRegression),\n",
    "          ('SVR', SVR),\n",
    "          ('Decision Tree', DecisionTreeRegressor),\n",
    "          ('Random Forest', RandomForestRegressor),\n",
    "          ('Gradient Boosted Trees', GradientBoostingRegressor)\n",
    "         ]\n",
    "\n",
    "param_choices = [\n",
    "    {},\n",
    "    {\n",
    "        'C': np.linspace(0.1,100,101)\n",
    "    },\n",
    "    {\n",
    "        'max_depth': [1,2,3,4,5],\n",
    "        'min_samples_leaf': [3,6,10]\n",
    "    },\n",
    "    {\n",
    "        'n_estimators': [50, 100, 200],\n",
    "        'max_depth': [1,2,3,4,5],\n",
    "        'min_samples_leaf': [3,6,10]\n",
    "    },\n",
    "    {\n",
    "        'n_estimators': [50, 100, 200],\n",
    "        'max_depth': [1,2,3,4,5],\n",
    "        'min_samples_leaf': [3,6,10]\n",
    "    }\n",
    "]\n",
    "\n",
    "grids = {}\n",
    "\n",
    "for model_info, params in zip(models, param_choices):\n",
    "    name, model = model_info\n",
    "    grid = GridSearchCV(model(), params, scoring = 'neg_mean_squared_error')\n",
    "    val_rmse_scores = []\n",
    "    final_rmse_scores = []\n",
    "    for train_index, test_index in tscv.split(X):\n",
    "        nested_train_length = math.ceil(0.75 * len(train_index))\n",
    "        X_train, X_final_test = X.iloc[train_index], X.iloc[test_index]\n",
    "        y_train, y_final_test = y.iloc[train_index].values.reshape(-1,), y.iloc[test_index].values.reshape(-1,)\n",
    "        \n",
    "        X_nested_train = X_train[:nested_train_length]\n",
    "        X_nested_valtest = X_train[nested_train_length:]\n",
    "        \n",
    "        y_nested_train = y_train[:nested_train_length]\n",
    "        y_nested_valtest = y_train[nested_train_length:]\n",
    "        \n",
    "        grid.fit(X_nested_train, y_nested_train)\n",
    "        \n",
    "        y_valtest_pred = grid.predict(X_nested_valtest)\n",
    "        \n",
    "        val_mse_score = -1.0*grid.score(X_nested_valtest,y_nested_valtest)\n",
    "        val_rmse_score = np.sqrt(val_mse_score)\n",
    "        val_rmse_scores.append(np.round(val_rmse_score,4))\n",
    "        avg_val_mse_score = np.mean(val_rmse_scores)\n",
    "        \n",
    "        y_finaltest_pred = grid.predict(X_final_test)\n",
    "        final_mse_score = -1.0*grid.score(X_final_test,y_final_test)\n",
    "        final_rmse_score = np.sqrt(final_mse_score)\n",
    "        final_rmse_scores.append(np.round(final_rmse_score,4))\n",
    "        avg_final_mse_score = np.mean(final_rmse_scores)\n",
    "        \n",
    "        s = f\"{name}: best score: {grid.best_score_}, best estimator: {grid.best_estimator_}\"\n",
    "        \n",
    "        grids[name] = grid\n",
    "        \n",
    "    print(f'Model name: {name}')\n",
    "    print(f'Val RMSE scores: {val_rmse_scores}')\n",
    "    print(f'Model Val RMSE performance: {avg_val_mse_score}')\n",
    "    print(f'Final RMSE scores: {final_rmse_scores}')\n",
    "    print(f'Model Final RMSE performance: {avg_final_mse_score}')\n",
    "    print('\\n')"
   ]
  },
  {
   "cell_type": "code",
   "execution_count": null,
   "metadata": {},
   "outputs": [],
   "source": []
  }
 ],
 "metadata": {
  "kernelspec": {
   "display_name": "Python 3",
   "language": "python",
   "name": "python3"
  },
  "language_info": {
   "codemirror_mode": {
    "name": "ipython",
    "version": 3
   },
   "file_extension": ".py",
   "mimetype": "text/x-python",
   "name": "python",
   "nbconvert_exporter": "python",
   "pygments_lexer": "ipython3",
   "version": "3.6.5"
  }
 },
 "nbformat": 4,
 "nbformat_minor": 2
}
