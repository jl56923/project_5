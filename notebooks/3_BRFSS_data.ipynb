{
 "cells": [
  {
   "cell_type": "markdown",
   "metadata": {},
   "source": [
    "Okay, so the better way to do this would be to actually load this data into postgres and then query it in the database, but for the sake of actually getting the data out we'll do it the slow way and load it into jupyter notebook using pandas."
   ]
  },
  {
   "cell_type": "code",
   "execution_count": 1,
   "metadata": {},
   "outputs": [],
   "source": [
    "import pandas as pd\n",
    "import pickle\n",
    "\n",
    "# Get pandas and postgres to work together\n",
    "import psycopg2 as pg\n",
    "import pandas as pd\n",
    "import pandas.io.sql as pd_sql"
   ]
  },
  {
   "cell_type": "code",
   "execution_count": 3,
   "metadata": {},
   "outputs": [],
   "source": [
    "brfss_2014 = pd.read_csv(\"../data/brfss/brfss2014.csv\", encoding = \"cp1252\", nrows=100)"
   ]
  },
  {
   "cell_type": "code",
   "execution_count": 5,
   "metadata": {},
   "outputs": [
    {
     "data": {
      "text/html": [
       "<div>\n",
       "<style scoped>\n",
       "    .dataframe tbody tr th:only-of-type {\n",
       "        vertical-align: middle;\n",
       "    }\n",
       "\n",
       "    .dataframe tbody tr th {\n",
       "        vertical-align: top;\n",
       "    }\n",
       "\n",
       "    .dataframe thead th {\n",
       "        text-align: right;\n",
       "    }\n",
       "</style>\n",
       "<table border=\"1\" class=\"dataframe\">\n",
       "  <thead>\n",
       "    <tr style=\"text-align: right;\">\n",
       "      <th></th>\n",
       "      <th>Unnamed: 0</th>\n",
       "      <th>x.state</th>\n",
       "      <th>fmonth</th>\n",
       "      <th>idate</th>\n",
       "      <th>imonth</th>\n",
       "      <th>iday</th>\n",
       "      <th>iyear</th>\n",
       "      <th>dispcode</th>\n",
       "      <th>seqno</th>\n",
       "      <th>x.psu</th>\n",
       "      <th>...</th>\n",
       "      <th>x.fobtfs</th>\n",
       "      <th>x.crcrec</th>\n",
       "      <th>x.aidtst3</th>\n",
       "      <th>x.impeduc</th>\n",
       "      <th>x.impmrtl</th>\n",
       "      <th>x.imphome</th>\n",
       "      <th>rcsbrac1</th>\n",
       "      <th>rcsrace1</th>\n",
       "      <th>rchisla1</th>\n",
       "      <th>rcsbirth</th>\n",
       "    </tr>\n",
       "  </thead>\n",
       "  <tbody>\n",
       "    <tr>\n",
       "      <th>0</th>\n",
       "      <td>1</td>\n",
       "      <td>1</td>\n",
       "      <td>1</td>\n",
       "      <td>1172014</td>\n",
       "      <td>1</td>\n",
       "      <td>17</td>\n",
       "      <td>2014</td>\n",
       "      <td>1100</td>\n",
       "      <td>2014000001</td>\n",
       "      <td>2014000001</td>\n",
       "      <td>...</td>\n",
       "      <td>2.0</td>\n",
       "      <td>1.0</td>\n",
       "      <td>2.0</td>\n",
       "      <td>5</td>\n",
       "      <td>1</td>\n",
       "      <td>1</td>\n",
       "      <td>NaN</td>\n",
       "      <td>NaN</td>\n",
       "      <td>NaN</td>\n",
       "      <td>NaN</td>\n",
       "    </tr>\n",
       "    <tr>\n",
       "      <th>1</th>\n",
       "      <td>2</td>\n",
       "      <td>1</td>\n",
       "      <td>1</td>\n",
       "      <td>1072014</td>\n",
       "      <td>1</td>\n",
       "      <td>7</td>\n",
       "      <td>2014</td>\n",
       "      <td>1100</td>\n",
       "      <td>2014000002</td>\n",
       "      <td>2014000002</td>\n",
       "      <td>...</td>\n",
       "      <td>2.0</td>\n",
       "      <td>2.0</td>\n",
       "      <td>2.0</td>\n",
       "      <td>4</td>\n",
       "      <td>1</td>\n",
       "      <td>1</td>\n",
       "      <td>NaN</td>\n",
       "      <td>NaN</td>\n",
       "      <td>NaN</td>\n",
       "      <td>NaN</td>\n",
       "    </tr>\n",
       "    <tr>\n",
       "      <th>2</th>\n",
       "      <td>3</td>\n",
       "      <td>1</td>\n",
       "      <td>1</td>\n",
       "      <td>1092014</td>\n",
       "      <td>1</td>\n",
       "      <td>9</td>\n",
       "      <td>2014</td>\n",
       "      <td>1100</td>\n",
       "      <td>2014000003</td>\n",
       "      <td>2014000003</td>\n",
       "      <td>...</td>\n",
       "      <td>2.0</td>\n",
       "      <td>2.0</td>\n",
       "      <td>2.0</td>\n",
       "      <td>6</td>\n",
       "      <td>1</td>\n",
       "      <td>1</td>\n",
       "      <td>NaN</td>\n",
       "      <td>NaN</td>\n",
       "      <td>NaN</td>\n",
       "      <td>NaN</td>\n",
       "    </tr>\n",
       "    <tr>\n",
       "      <th>3</th>\n",
       "      <td>4</td>\n",
       "      <td>1</td>\n",
       "      <td>1</td>\n",
       "      <td>1072014</td>\n",
       "      <td>1</td>\n",
       "      <td>7</td>\n",
       "      <td>2014</td>\n",
       "      <td>1100</td>\n",
       "      <td>2014000004</td>\n",
       "      <td>2014000004</td>\n",
       "      <td>...</td>\n",
       "      <td>2.0</td>\n",
       "      <td>1.0</td>\n",
       "      <td>2.0</td>\n",
       "      <td>6</td>\n",
       "      <td>3</td>\n",
       "      <td>1</td>\n",
       "      <td>NaN</td>\n",
       "      <td>NaN</td>\n",
       "      <td>NaN</td>\n",
       "      <td>NaN</td>\n",
       "    </tr>\n",
       "    <tr>\n",
       "      <th>4</th>\n",
       "      <td>5</td>\n",
       "      <td>1</td>\n",
       "      <td>1</td>\n",
       "      <td>1162014</td>\n",
       "      <td>1</td>\n",
       "      <td>16</td>\n",
       "      <td>2014</td>\n",
       "      <td>1100</td>\n",
       "      <td>2014000005</td>\n",
       "      <td>2014000005</td>\n",
       "      <td>...</td>\n",
       "      <td>2.0</td>\n",
       "      <td>1.0</td>\n",
       "      <td>2.0</td>\n",
       "      <td>5</td>\n",
       "      <td>1</td>\n",
       "      <td>1</td>\n",
       "      <td>NaN</td>\n",
       "      <td>NaN</td>\n",
       "      <td>NaN</td>\n",
       "      <td>NaN</td>\n",
       "    </tr>\n",
       "  </tbody>\n",
       "</table>\n",
       "<p>5 rows × 280 columns</p>\n",
       "</div>"
      ],
      "text/plain": [
       "   Unnamed: 0  x.state  fmonth    idate  imonth  iday  iyear  dispcode  \\\n",
       "0           1        1       1  1172014       1    17   2014      1100   \n",
       "1           2        1       1  1072014       1     7   2014      1100   \n",
       "2           3        1       1  1092014       1     9   2014      1100   \n",
       "3           4        1       1  1072014       1     7   2014      1100   \n",
       "4           5        1       1  1162014       1    16   2014      1100   \n",
       "\n",
       "        seqno       x.psu    ...     x.fobtfs  x.crcrec  x.aidtst3  x.impeduc  \\\n",
       "0  2014000001  2014000001    ...          2.0       1.0        2.0          5   \n",
       "1  2014000002  2014000002    ...          2.0       2.0        2.0          4   \n",
       "2  2014000003  2014000003    ...          2.0       2.0        2.0          6   \n",
       "3  2014000004  2014000004    ...          2.0       1.0        2.0          6   \n",
       "4  2014000005  2014000005    ...          2.0       1.0        2.0          5   \n",
       "\n",
       "   x.impmrtl  x.imphome  rcsbrac1  rcsrace1  rchisla1  rcsbirth  \n",
       "0          1          1       NaN       NaN       NaN       NaN  \n",
       "1          1          1       NaN       NaN       NaN       NaN  \n",
       "2          1          1       NaN       NaN       NaN       NaN  \n",
       "3          3          1       NaN       NaN       NaN       NaN  \n",
       "4          1          1       NaN       NaN       NaN       NaN  \n",
       "\n",
       "[5 rows x 280 columns]"
      ]
     },
     "execution_count": 5,
     "metadata": {},
     "output_type": "execute_result"
    }
   ],
   "source": [
    "brfss_2014.head()"
   ]
  },
  {
   "cell_type": "code",
   "execution_count": 30,
   "metadata": {},
   "outputs": [],
   "source": [
    "brfss_2014.rename(columns={'Unnamed: 0': 'record_id'}, inplace=True)\n",
    "\n",
    "remove_periods_dict = dict([(col, col.replace(\".\", \"\")) for col in brfss_2014.columns])\n",
    "\n",
    "brfss_2014.rename(columns=remove_periods_dict, inplace=True)"
   ]
  },
  {
   "cell_type": "code",
   "execution_count": 33,
   "metadata": {},
   "outputs": [],
   "source": [
    "brfss_2014_columns = [str(col).lower() + \" TEXT\" for col in brfss_2014.columns]\n",
    "\n",
    "brfss_2014_columns_str = \", \".join(brfss_2014_columns)\n",
    "brfss_2014_create_table_query = \"CREATE TABLE brfss_2014 (\" + brfss_2014_columns_str + \")\"\n",
    "\n",
    "brfss_2014_load_table = \"COPY brfss_2014 FROM '/home/ubuntu/brfss/brfss2014.csv' CSV HEADER ENCODING 'LATIN1'\""
   ]
  },
  {
   "cell_type": "code",
   "execution_count": 70,
   "metadata": {},
   "outputs": [
    {
     "data": {
      "text/plain": [
       "['addepev2 TEXT',\n",
       " 'alcday5 TEXT',\n",
       " 'asactlim TEXT',\n",
       " 'asattack TEXT',\n",
       " 'asbiadvc TEXT',\n",
       " 'asbialch TEXT',\n",
       " 'asbibing TEXT',\n",
       " 'asbidrnk TEXT',\n",
       " 'asbirduc TEXT',\n",
       " 'asdrvist TEXT',\n",
       " 'aservist TEXT',\n",
       " 'asinhalr TEXT',\n",
       " 'asnoslep TEXT',\n",
       " 'asrchkup TEXT',\n",
       " 'asthma3 TEXT',\n",
       " 'asthmage TEXT',\n",
       " 'asthmed3 TEXT',\n",
       " 'asthnow TEXT',\n",
       " 'asymptom TEXT',\n",
       " 'avedrnk2 TEXT',\n",
       " 'bldstool TEXT',\n",
       " 'bldsugar TEXT',\n",
       " 'blind TEXT',\n",
       " 'cadult TEXT',\n",
       " 'carercvd TEXT',\n",
       " 'casthdx2 TEXT',\n",
       " 'casthno2 TEXT',\n",
       " 'cclghous TEXT',\n",
       " 'cellfon2 TEXT',\n",
       " 'chccopd1 TEXT',\n",
       " 'chckidny TEXT',\n",
       " 'chcocncr TEXT',\n",
       " 'chcscncr TEXT',\n",
       " 'checkup1 TEXT',\n",
       " 'children TEXT',\n",
       " 'chkhemo3 TEXT',\n",
       " 'cncrage TEXT',\n",
       " 'cncrdiff TEXT',\n",
       " 'cncrtyp1 TEXT',\n",
       " 'colghous TEXT',\n",
       " 'cpdemo1 TEXT',\n",
       " 'csrvclin TEXT',\n",
       " 'csrvctl1 TEXT',\n",
       " 'csrvdein TEXT',\n",
       " 'csrvdoc1 TEXT',\n",
       " 'csrvinsr TEXT',\n",
       " 'csrvinst TEXT',\n",
       " 'csrvpain TEXT',\n",
       " 'csrvrtrn TEXT',\n",
       " 'csrvsum TEXT',\n",
       " 'csrvtrt1 TEXT',\n",
       " 'cstate TEXT',\n",
       " 'ctelenum TEXT',\n",
       " 'ctelnum1 TEXT',\n",
       " 'cvdcrhd4 TEXT',\n",
       " 'cvdinfr4 TEXT',\n",
       " 'cvdstrk3 TEXT',\n",
       " 'decide TEXT',\n",
       " 'delaymed TEXT',\n",
       " 'diabage2 TEXT',\n",
       " 'diabedu TEXT',\n",
       " 'diabete3 TEXT',\n",
       " 'diabeye TEXT',\n",
       " 'diffalon TEXT',\n",
       " 'diffdres TEXT',\n",
       " 'diffwalk TEXT',\n",
       " 'dispcode TEXT',\n",
       " 'dlyother TEXT',\n",
       " 'doctdiab TEXT',\n",
       " 'dradvise TEXT',\n",
       " 'drnk3ge5 TEXT',\n",
       " 'drnkany5 TEXT',\n",
       " 'drnkdri2 TEXT',\n",
       " 'drocdy3 TEXT',\n",
       " 'drvisits TEXT',\n",
       " 'educa TEXT',\n",
       " 'employ1 TEXT',\n",
       " 'emtsuprt TEXT',\n",
       " 'exerany2 TEXT',\n",
       " 'eyeexam TEXT',\n",
       " 'fall12mn TEXT',\n",
       " 'fallinj2 TEXT',\n",
       " 'feetchk TEXT',\n",
       " 'feetchk2 TEXT',\n",
       " 'flshtmy2 TEXT',\n",
       " 'flushot6 TEXT',\n",
       " 'fmonth TEXT',\n",
       " 'genhlth TEXT',\n",
       " 'hadhyst2 TEXT',\n",
       " 'hadmam TEXT',\n",
       " 'hadpap2 TEXT',\n",
       " 'hadsgco1 TEXT',\n",
       " 'hadsigm3 TEXT',\n",
       " 'havarth3 TEXT',\n",
       " 'height3 TEXT',\n",
       " 'hhadult TEXT',\n",
       " 'hivtst6 TEXT',\n",
       " 'hivtstd3 TEXT',\n",
       " 'hlthcvr1 TEXT',\n",
       " 'hlthpln1 TEXT',\n",
       " 'howlong TEXT',\n",
       " 'hplsttst TEXT',\n",
       " 'hpvadsht TEXT',\n",
       " 'hpvadvc2 TEXT',\n",
       " 'hpvtest TEXT',\n",
       " 'htin4 TEXT',\n",
       " 'htm4 TEXT',\n",
       " 'idate TEXT',\n",
       " 'iday TEXT',\n",
       " 'imfvplac TEXT',\n",
       " 'imonth TEXT',\n",
       " 'income2 TEXT',\n",
       " 'insulin TEXT',\n",
       " 'internet TEXT',\n",
       " 'iyear TEXT',\n",
       " 'ladult TEXT',\n",
       " 'landline TEXT',\n",
       " 'lastden3 TEXT',\n",
       " 'lastpap2 TEXT',\n",
       " 'lastsig3 TEXT',\n",
       " 'lastsmk2 TEXT',\n",
       " 'lengexam TEXT',\n",
       " 'longwtch TEXT',\n",
       " 'lsatisfy TEXT',\n",
       " 'lstblds3 TEXT',\n",
       " 'lstcovrg TEXT',\n",
       " 'marital TEXT',\n",
       " 'maxdrnks TEXT',\n",
       " 'medbill1 TEXT',\n",
       " 'medcost TEXT',\n",
       " 'medicare TEXT',\n",
       " 'medscost TEXT',\n",
       " 'menthlth TEXT',\n",
       " 'mscode TEXT',\n",
       " 'nocov121 TEXT',\n",
       " 'numadult TEXT',\n",
       " 'numhhol2 TEXT',\n",
       " 'nummen TEXT',\n",
       " 'numphon2 TEXT',\n",
       " 'numwomen TEXT',\n",
       " 'painact2 TEXT',\n",
       " 'pcpsaad2 TEXT',\n",
       " 'pcpsadi1 TEXT',\n",
       " 'pcpsare1 TEXT',\n",
       " 'pcpsars1 TEXT',\n",
       " 'pdiabtst TEXT',\n",
       " 'persdoc2 TEXT',\n",
       " 'physhlth TEXT',\n",
       " 'pneuvac3 TEXT',\n",
       " 'poorhlth TEXT',\n",
       " 'prediab1 TEXT',\n",
       " 'pregnant TEXT',\n",
       " 'profexam TEXT',\n",
       " 'psatest1 TEXT',\n",
       " 'psatime TEXT',\n",
       " 'pvtresd1 TEXT',\n",
       " 'pvtresd2 TEXT',\n",
       " 'qlactlm2 TEXT',\n",
       " 'qlhlth2 TEXT',\n",
       " 'qlmentl2 TEXT',\n",
       " 'qlstres2 TEXT',\n",
       " 'qstlang TEXT',\n",
       " 'qstver TEXT',\n",
       " 'rchisla1 TEXT',\n",
       " 'rcsbirth TEXT',\n",
       " 'rcsbrac1 TEXT',\n",
       " 'rcsgendr TEXT',\n",
       " 'rcsrace1 TEXT',\n",
       " 'rcsrltn2 TEXT',\n",
       " 'record_id TEXT',\n",
       " 'renthom1 TEXT',\n",
       " 'rmvteth3 TEXT',\n",
       " 'rratwrk2 TEXT',\n",
       " 'rrclass2 TEXT',\n",
       " 'rrcognt2 TEXT',\n",
       " 'rremtsm2 TEXT',\n",
       " 'rrhcare3 TEXT',\n",
       " 'rrphysm2 TEXT',\n",
       " 'scntlpad TEXT',\n",
       " 'scntlwk1 TEXT',\n",
       " 'scntmel1 TEXT',\n",
       " 'scntmny1 TEXT',\n",
       " 'scntpaid TEXT',\n",
       " 'scntvot1 TEXT',\n",
       " 'scntwrk1 TEXT',\n",
       " 'seatbelt TEXT',\n",
       " 'seqno TEXT',\n",
       " 'sex TEXT',\n",
       " 'shingle2 TEXT',\n",
       " 'sleptim1 TEXT',\n",
       " 'smokday2 TEXT',\n",
       " 'smoke100 TEXT',\n",
       " 'stateres TEXT',\n",
       " 'stopsmk2 TEXT',\n",
       " 'sxorient TEXT',\n",
       " 'tetanus TEXT',\n",
       " 'trnsgndr TEXT',\n",
       " 'useequip TEXT',\n",
       " 'usenow3 TEXT',\n",
       " 'veteran3 TEXT',\n",
       " 'weight2 TEXT',\n",
       " 'whrtst10 TEXT',\n",
       " 'wtchsalt TEXT',\n",
       " 'wtkg3 TEXT',\n",
       " 'xage65yr TEXT',\n",
       " 'xage80 TEXT',\n",
       " 'xageg TEXT',\n",
       " 'xageg5yr TEXT',\n",
       " 'xaidtst3 TEXT',\n",
       " 'xalteth2 TEXT',\n",
       " 'xasthms1 TEXT',\n",
       " 'xbmi5 TEXT',\n",
       " 'xbmi5cat TEXT',\n",
       " 'xcasthm1 TEXT',\n",
       " 'xchispnc TEXT',\n",
       " 'xchldcnt TEXT',\n",
       " 'xcllcpwt TEXT',\n",
       " 'xcol10yr TEXT',\n",
       " 'xcprace TEXT',\n",
       " 'xcrace1 TEXT',\n",
       " 'xcrcrec TEXT',\n",
       " 'xdenvst2 TEXT',\n",
       " 'xdrdxar1 TEXT',\n",
       " 'xdrnkdy4 TEXT',\n",
       " 'xdrnkmo4 TEXT',\n",
       " 'xdualcor TEXT',\n",
       " 'xdualuse TEXT',\n",
       " 'xeducag TEXT',\n",
       " 'xexteth2 TEXT',\n",
       " 'xflshot6 TEXT',\n",
       " 'xfobtfs TEXT',\n",
       " 'xfs5yr TEXT',\n",
       " 'xhcvu651 TEXT',\n",
       " 'xhfob3yr TEXT',\n",
       " 'xhispanc TEXT',\n",
       " 'ximpcage TEXT',\n",
       " 'ximpcrac TEXT',\n",
       " 'ximpcsex TEXT',\n",
       " 'ximpeduc TEXT',\n",
       " 'ximphome TEXT',\n",
       " 'ximpmrtl TEXT',\n",
       " 'ximpnph TEXT',\n",
       " 'ximprace TEXT',\n",
       " 'xincomg TEXT',\n",
       " 'xllcpwt TEXT',\n",
       " 'xllcpwt2 TEXT',\n",
       " 'xltasth1 TEXT',\n",
       " 'xmam5021 TEXT',\n",
       " 'xmam502y TEXT',\n",
       " 'xmrace1 TEXT',\n",
       " 'xpneumo2 TEXT',\n",
       " 'xprace1 TEXT',\n",
       " 'xpsu TEXT',\n",
       " 'xrace TEXT',\n",
       " 'xraceg1 TEXT',\n",
       " 'xraceg21 TEXT',\n",
       " 'xracegr3 TEXT',\n",
       " 'xrawrake TEXT',\n",
       " 'xrfbing5 TEXT',\n",
       " 'xrfblds2 TEXT',\n",
       " 'xrfblds3 TEXT',\n",
       " 'xrfbmi5 TEXT',\n",
       " 'xrfdrhv4 TEXT',\n",
       " 'xrfdrmn4 TEXT',\n",
       " 'xrfdrwm4 TEXT',\n",
       " 'xrfhlth TEXT',\n",
       " 'xrfmam2y TEXT',\n",
       " 'xrfpap32 TEXT',\n",
       " 'xrfpap33 TEXT',\n",
       " 'xrfpsa21 TEXT',\n",
       " 'xrfseat2 TEXT',\n",
       " 'xrfseat3 TEXT',\n",
       " 'xrfsigm2 TEXT',\n",
       " 'xrfsmok3 TEXT',\n",
       " 'xsmoker3 TEXT',\n",
       " 'xstate TEXT',\n",
       " 'xstrwt TEXT',\n",
       " 'xststr TEXT',\n",
       " 'xtotinda TEXT',\n",
       " 'xwt2rake TEXT']"
      ]
     },
     "execution_count": 70,
     "metadata": {},
     "output_type": "execute_result"
    }
   ],
   "source": [
    "brfss_2014_columns"
   ]
  },
  {
   "cell_type": "code",
   "execution_count": 34,
   "metadata": {},
   "outputs": [
    {
     "data": {
      "text/plain": [
       "'CREATE TABLE brfss_2014 (record_id TEXT, xstate TEXT, fmonth TEXT, idate TEXT, imonth TEXT, iday TEXT, iyear TEXT, dispcode TEXT, seqno TEXT, xpsu TEXT, ctelenum TEXT, pvtresd1 TEXT, colghous TEXT, stateres TEXT, ladult TEXT, numadult TEXT, nummen TEXT, numwomen TEXT, genhlth TEXT, physhlth TEXT, menthlth TEXT, poorhlth TEXT, hlthpln1 TEXT, persdoc2 TEXT, medcost TEXT, checkup1 TEXT, exerany2 TEXT, sleptim1 TEXT, cvdinfr4 TEXT, cvdcrhd4 TEXT, cvdstrk3 TEXT, asthma3 TEXT, asthnow TEXT, chcscncr TEXT, chcocncr TEXT, chccopd1 TEXT, havarth3 TEXT, addepev2 TEXT, chckidny TEXT, diabete3 TEXT, diabage2 TEXT, lastden3 TEXT, rmvteth3 TEXT, veteran3 TEXT, marital TEXT, children TEXT, educa TEXT, employ1 TEXT, income2 TEXT, weight2 TEXT, height3 TEXT, numhhol2 TEXT, numphon2 TEXT, cpdemo1 TEXT, internet TEXT, renthom1 TEXT, sex TEXT, pregnant TEXT, qlactlm2 TEXT, useequip TEXT, blind TEXT, decide TEXT, diffwalk TEXT, diffdres TEXT, diffalon TEXT, smoke100 TEXT, smokday2 TEXT, stopsmk2 TEXT, lastsmk2 TEXT, usenow3 TEXT, alcday5 TEXT, avedrnk2 TEXT, drnk3ge5 TEXT, maxdrnks TEXT, flushot6 TEXT, flshtmy2 TEXT, pneuvac3 TEXT, shingle2 TEXT, fall12mn TEXT, fallinj2 TEXT, seatbelt TEXT, drnkdri2 TEXT, hadmam TEXT, howlong TEXT, profexam TEXT, lengexam TEXT, hadpap2 TEXT, lastpap2 TEXT, hadhyst2 TEXT, pcpsaad2 TEXT, pcpsadi1 TEXT, pcpsare1 TEXT, psatest1 TEXT, psatime TEXT, pcpsars1 TEXT, bldstool TEXT, lstblds3 TEXT, hadsigm3 TEXT, hadsgco1 TEXT, lastsig3 TEXT, hivtst6 TEXT, hivtstd3 TEXT, whrtst10 TEXT, pdiabtst TEXT, prediab1 TEXT, insulin TEXT, bldsugar TEXT, feetchk2 TEXT, doctdiab TEXT, chkhemo3 TEXT, feetchk TEXT, eyeexam TEXT, diabeye TEXT, diabedu TEXT, painact2 TEXT, qlmentl2 TEXT, qlstres2 TEXT, qlhlth2 TEXT, medicare TEXT, hlthcvr1 TEXT, delaymed TEXT, dlyother TEXT, nocov121 TEXT, lstcovrg TEXT, drvisits TEXT, medscost TEXT, carercvd TEXT, medbill1 TEXT, asbialch TEXT, asbidrnk TEXT, asbibing TEXT, asbiadvc TEXT, asbirduc TEXT, wtchsalt TEXT, longwtch TEXT, dradvise TEXT, asthmage TEXT, asattack TEXT, aservist TEXT, asdrvist TEXT, asrchkup TEXT, asactlim TEXT, asymptom TEXT, asnoslep TEXT, asthmed3 TEXT, asinhalr TEXT, imfvplac TEXT, tetanus TEXT, hpvtest TEXT, hplsttst TEXT, hpvadvc2 TEXT, hpvadsht TEXT, cncrdiff TEXT, cncrage TEXT, cncrtyp1 TEXT, csrvtrt1 TEXT, csrvdoc1 TEXT, csrvsum TEXT, csrvrtrn TEXT, csrvinst TEXT, csrvinsr TEXT, csrvdein TEXT, csrvclin TEXT, csrvpain TEXT, csrvctl1 TEXT, rrclass2 TEXT, rrcognt2 TEXT, rratwrk2 TEXT, rrhcare3 TEXT, rrphysm2 TEXT, rremtsm2 TEXT, scntmny1 TEXT, scntmel1 TEXT, scntpaid TEXT, scntwrk1 TEXT, scntlpad TEXT, scntlwk1 TEXT, scntvot1 TEXT, sxorient TEXT, trnsgndr TEXT, rcsgendr TEXT, rcsrltn2 TEXT, casthdx2 TEXT, casthno2 TEXT, emtsuprt TEXT, lsatisfy TEXT, ctelnum1 TEXT, cellfon2 TEXT, cadult TEXT, pvtresd2 TEXT, cclghous TEXT, cstate TEXT, landline TEXT, hhadult TEXT, qstver TEXT, qstlang TEXT, mscode TEXT, xststr TEXT, xstrwt TEXT, xrawrake TEXT, xwt2rake TEXT, xage80 TEXT, ximprace TEXT, ximpnph TEXT, xchispnc TEXT, xcprace TEXT, xcrace1 TEXT, ximpcage TEXT, ximpcrac TEXT, ximpcsex TEXT, xcllcpwt TEXT, xdualuse TEXT, xdualcor TEXT, xllcpwt2 TEXT, xllcpwt TEXT, xrfhlth TEXT, xhcvu651 TEXT, xtotinda TEXT, xltasth1 TEXT, xcasthm1 TEXT, xasthms1 TEXT, xdrdxar1 TEXT, xexteth2 TEXT, xalteth2 TEXT, xdenvst2 TEXT, xprace1 TEXT, xmrace1 TEXT, xhispanc TEXT, xrace TEXT, xraceg21 TEXT, xracegr3 TEXT, xraceg1 TEXT, xageg5yr TEXT, xage65yr TEXT, xageg TEXT, htin4 TEXT, htm4 TEXT, wtkg3 TEXT, xbmi5 TEXT, xbmi5cat TEXT, xrfbmi5 TEXT, xchldcnt TEXT, xeducag TEXT, xincomg TEXT, xsmoker3 TEXT, xrfsmok3 TEXT, drnkany5 TEXT, drocdy3 TEXT, xrfbing5 TEXT, xdrnkdy4 TEXT, xdrnkmo4 TEXT, xrfdrhv4 TEXT, xrfdrmn4 TEXT, xrfdrwm4 TEXT, xflshot6 TEXT, xpneumo2 TEXT, xrfseat2 TEXT, xrfseat3 TEXT, xrfmam2y TEXT, xmam502y TEXT, xmam5021 TEXT, xrfpap32 TEXT, xrfpap33 TEXT, xrfpsa21 TEXT, xrfblds2 TEXT, xrfblds3 TEXT, xrfsigm2 TEXT, xcol10yr TEXT, xhfob3yr TEXT, xfs5yr TEXT, xfobtfs TEXT, xcrcrec TEXT, xaidtst3 TEXT, ximpeduc TEXT, ximpmrtl TEXT, ximphome TEXT, rcsbrac1 TEXT, rcsrace1 TEXT, rchisla1 TEXT, rcsbirth TEXT)'"
      ]
     },
     "execution_count": 34,
     "metadata": {},
     "output_type": "execute_result"
    }
   ],
   "source": [
    "brfss_2014_create_table_query"
   ]
  },
  {
   "cell_type": "markdown",
   "metadata": {},
   "source": [
    "Now that we have this table for brfss_2014 loaded, let's go ahead and query the database for the information that is interesting."
   ]
  },
  {
   "cell_type": "code",
   "execution_count": 2,
   "metadata": {},
   "outputs": [
    {
     "name": "stdout",
     "output_type": "stream",
     "text": [
      "54.67.118.82\n"
     ]
    }
   ],
   "source": [
    "# Postgres info to connect\n",
    "connection_args = {\n",
    "    'host': input(), # my public ip address\n",
    "    'user': 'ubuntu',    # username\n",
    "    'dbname': 'brfss',   # DB that we are connecting to\n",
    "    'port': 5432         # port we opened on AWS\n",
    "}\n",
    "\n",
    "connection = pg.connect(**connection_args)"
   ]
  },
  {
   "cell_type": "code",
   "execution_count": 3,
   "metadata": {},
   "outputs": [],
   "source": [
    "diabetes_query = \"SELECT xstate, diabete3 FROM brfss_2014\""
   ]
  },
  {
   "cell_type": "code",
   "execution_count": 4,
   "metadata": {},
   "outputs": [],
   "source": [
    "diabetes_df = pd_sql.read_sql(diabetes_query, connection)"
   ]
  },
  {
   "cell_type": "code",
   "execution_count": 5,
   "metadata": {},
   "outputs": [
    {
     "data": {
      "text/plain": [
       "3    6892\n",
       "1    1528\n",
       "4     157\n",
       "2      62\n",
       "7       9\n",
       "9       4\n",
       "Name: diabete3, dtype: int64"
      ]
     },
     "execution_count": 5,
     "metadata": {},
     "output_type": "execute_result"
    }
   ],
   "source": [
    "diabetes_df[diabetes_df.xstate == '1']['diabete3'].value_counts()"
   ]
  },
  {
   "cell_type": "code",
   "execution_count": 59,
   "metadata": {},
   "outputs": [
    {
     "data": {
      "text/plain": [
       "3    0.796579\n",
       "1    0.176607\n",
       "4    0.018146\n",
       "2    0.007166\n",
       "7    0.001040\n",
       "9    0.000462\n",
       "Name: diabete3, dtype: float64"
      ]
     },
     "execution_count": 59,
     "metadata": {},
     "output_type": "execute_result"
    }
   ],
   "source": [
    "diabetes_df[diabetes_df.xstate == '1']['diabete3'].value_counts(normalize=True)"
   ]
  },
  {
   "cell_type": "code",
   "execution_count": 6,
   "metadata": {},
   "outputs": [],
   "source": [
    "diabetes_weights_query = \"SELECT xstate, diabete3, xllcpwt2, xllcpwt FROM brfss_2014\""
   ]
  },
  {
   "cell_type": "code",
   "execution_count": 7,
   "metadata": {},
   "outputs": [],
   "source": [
    "diabetes_weights_df = pd_sql.read_sql(diabetes_weights_query, connection)"
   ]
  },
  {
   "cell_type": "code",
   "execution_count": 8,
   "metadata": {},
   "outputs": [
    {
     "data": {
      "text/html": [
       "<div>\n",
       "<style scoped>\n",
       "    .dataframe tbody tr th:only-of-type {\n",
       "        vertical-align: middle;\n",
       "    }\n",
       "\n",
       "    .dataframe tbody tr th {\n",
       "        vertical-align: top;\n",
       "    }\n",
       "\n",
       "    .dataframe thead th {\n",
       "        text-align: right;\n",
       "    }\n",
       "</style>\n",
       "<table border=\"1\" class=\"dataframe\">\n",
       "  <thead>\n",
       "    <tr style=\"text-align: right;\">\n",
       "      <th></th>\n",
       "      <th>xstate</th>\n",
       "      <th>diabete3</th>\n",
       "      <th>xllcpwt2</th>\n",
       "      <th>xllcpwt</th>\n",
       "    </tr>\n",
       "  </thead>\n",
       "  <tbody>\n",
       "    <tr>\n",
       "      <th>0</th>\n",
       "      <td>1</td>\n",
       "      <td>3</td>\n",
       "      <td>124.3773858077</td>\n",
       "      <td>266.861265396154</td>\n",
       "    </tr>\n",
       "    <tr>\n",
       "      <th>1</th>\n",
       "      <td>1</td>\n",
       "      <td>3</td>\n",
       "      <td>121.624464566304</td>\n",
       "      <td>77.5983856870883</td>\n",
       "    </tr>\n",
       "    <tr>\n",
       "      <th>2</th>\n",
       "      <td>1</td>\n",
       "      <td>3</td>\n",
       "      <td>175.953264468735</td>\n",
       "      <td>108.943346379677</td>\n",
       "    </tr>\n",
       "    <tr>\n",
       "      <th>3</th>\n",
       "      <td>1</td>\n",
       "      <td>3</td>\n",
       "      <td>263.929896703102</td>\n",
       "      <td>259.031555509853</td>\n",
       "    </tr>\n",
       "    <tr>\n",
       "      <th>4</th>\n",
       "      <td>1</td>\n",
       "      <td>3</td>\n",
       "      <td>263.929896703102</td>\n",
       "      <td>334.597982387287</td>\n",
       "    </tr>\n",
       "  </tbody>\n",
       "</table>\n",
       "</div>"
      ],
      "text/plain": [
       "  xstate diabete3          xllcpwt2           xllcpwt\n",
       "0      1        3    124.3773858077  266.861265396154\n",
       "1      1        3  121.624464566304  77.5983856870883\n",
       "2      1        3  175.953264468735  108.943346379677\n",
       "3      1        3  263.929896703102  259.031555509853\n",
       "4      1        3  263.929896703102  334.597982387287"
      ]
     },
     "execution_count": 8,
     "metadata": {},
     "output_type": "execute_result"
    }
   ],
   "source": [
    "diabetes_weights_df.head()"
   ]
  },
  {
   "cell_type": "code",
   "execution_count": 66,
   "metadata": {},
   "outputs": [
    {
     "data": {
      "text/plain": [
       "0.17660656495607951"
      ]
     },
     "execution_count": 66,
     "metadata": {},
     "output_type": "execute_result"
    }
   ],
   "source": [
    "(1528)/8652"
   ]
  },
  {
   "cell_type": "code",
   "execution_count": 58,
   "metadata": {},
   "outputs": [
    {
     "data": {
      "text/plain": [
       "(8652, 2)"
      ]
     },
     "execution_count": 58,
     "metadata": {},
     "output_type": "execute_result"
    }
   ],
   "source": [
    "diabetes_df[diabetes_df.xstate == '1'].shape"
   ]
  },
  {
   "cell_type": "markdown",
   "metadata": {},
   "source": [
    "Now we'll use psycopg2 and sqlalchemy to upload the brfss_2014 dataframe to psql, which will create the schema. Then we'll copy the csv to the table that got created."
   ]
  },
  {
   "cell_type": "code",
   "execution_count": 14,
   "metadata": {},
   "outputs": [],
   "source": [
    "# Postgres info to connect\n",
    "connection_args = {\n",
    "    'host': input(), # my public ip address\n",
    "    'user': 'ubuntu',    # username\n",
    "    'dbname': 'texas_discharge',   # DB that we are connecting to\n",
    "    'port': 5432         # port we opened on AWS\n",
    "}\n",
    "\n",
    "connection = pg.connect(**connection_args)"
   ]
  },
  {
   "cell_type": "code",
   "execution_count": 21,
   "metadata": {},
   "outputs": [],
   "source": [
    "connection = connect(**params, dbname='ubuntu')"
   ]
  },
  {
   "cell_type": "code",
   "execution_count": 16,
   "metadata": {},
   "outputs": [],
   "source": [
    "# Connect and create database, disconnect, and reconnect to the right database\n",
    "connection = connect(**params, dbname='ubuntu')\n",
    "connection.set_isolation_level(ISOLATION_LEVEL_AUTOCOMMIT)\n",
    "connection.cursor().execute('CREATE DATABASE brfss;')\n",
    "connection.close()"
   ]
  },
  {
   "cell_type": "code",
   "execution_count": 22,
   "metadata": {},
   "outputs": [],
   "source": [
    "from sqlalchemy import create_engine\n",
    "connection_string = f'postgres://ubuntu:{params[\"host\"]}@{params[\"host\"]}:{params[\"port\"]}/brfss'\n",
    "engine = create_engine(connection_string)\n",
    "brfss_2014.to_sql('brfss_2014', engine, index=False)"
   ]
  },
  {
   "cell_type": "code",
   "execution_count": null,
   "metadata": {},
   "outputs": [],
   "source": []
  }
 ],
 "metadata": {
  "kernelspec": {
   "display_name": "Python 3",
   "language": "python",
   "name": "python3"
  },
  "language_info": {
   "codemirror_mode": {
    "name": "ipython",
    "version": 3
   },
   "file_extension": ".py",
   "mimetype": "text/x-python",
   "name": "python",
   "nbconvert_exporter": "python",
   "pygments_lexer": "ipython3",
   "version": "3.6.5"
  }
 },
 "nbformat": 4,
 "nbformat_minor": 2
}
