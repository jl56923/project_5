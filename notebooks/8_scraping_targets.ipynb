{
 "cells": [
  {
   "cell_type": "code",
   "execution_count": 1,
   "metadata": {},
   "outputs": [],
   "source": [
    "from selenium import webdriver\n",
    "from selenium.webdriver.common.keys import Keys\n",
    "from selenium.webdriver.support.ui import Select\n",
    "import time\n",
    "\n",
    "import os\n",
    "chromedriver = \"/Applications/chromedriver\" # path to the chromedriver executable\n",
    "os.environ[\"webdriver.chrome.driver\"] = chromedriver\n",
    "\n",
    "driver = webdriver.Chrome(chromedriver)\n",
    "\n",
    "cdc_wonder_mcd = \"https://wonder.cdc.gov/mcd-icd10.html\"\n",
    "driver.get(cdc_wonder_mcd)"
   ]
  },
  {
   "cell_type": "code",
   "execution_count": 2,
   "metadata": {},
   "outputs": [],
   "source": [
    "agree_button = driver.find_element_by_name(\"action-I Agree\")\n",
    "agree_button.click()\n",
    "time.sleep(2)"
   ]
  },
  {
   "cell_type": "code",
   "execution_count": 3,
   "metadata": {},
   "outputs": [],
   "source": [
    "# Select group by option for results as state\n",
    "select_group_results = Select(driver.find_element_by_id(\"SB_1\"))\n",
    "select_group_results.select_by_visible_text(\"UCD - ICD Sub-Chapter\")\n",
    "\n",
    "select_group2_results = Select(driver.find_element_by_id(\"SB_2\"))\n",
    "select_group2_results.select_by_visible_text(\"Month\")"
   ]
  },
  {
   "cell_type": "code",
   "execution_count": null,
   "metadata": {},
   "outputs": [],
   "source": [
    "def search_dict_values(dic, search_for):\n",
    "    for key, value in dic.items():\n",
    "        if search_for in value:\n",
    "            return key"
   ]
  },
  {
   "cell_type": "code",
   "execution_count": null,
   "metadata": {},
   "outputs": [],
   "source": [
    "select_location = Select(driver.find_element_by_id(\"codes-D77.V9\"))\n",
    "\n",
    "location_dict = {}\n",
    "for option in select_location.options:\n",
    "    location_dict[option.get_attribute('value')] = option.text\n",
    "\n",
    "# let's get the location values for the first 5 states.\n",
    "location_values = [search_dict_values(location_dict, state) for state in states_by_five[0]]\n",
    "#location_value = search_dict_values(location_dict, \"Alabama\")\n",
    "for location_value in location_values:\n",
    "    select_location.select_by_value(location_value)\n",
    "\n",
    "select_location.deselect_by_value(\"*All*\")"
   ]
  },
  {
   "cell_type": "code",
   "execution_count": null,
   "metadata": {},
   "outputs": [],
   "source": [
    "# Click checkbox to show zero rows.\n",
    "show_zeros_button = driver.find_element_by_id(\"CO_show_zeros\")\n",
    "show_zeros_button.click()\n",
    "\n",
    "# Click checkbox to show suppressed rows.\n",
    "show_suppressed_button = driver.find_element_by_id(\"CO_show_suppressed\")\n",
    "show_suppressed_button.click()"
   ]
  },
  {
   "cell_type": "code",
   "execution_count": null,
   "metadata": {},
   "outputs": [],
   "source": [
    "# Submit this request to the last send button on the page, so that all of the criteria are included.\n",
    "send_button = driver.find_element_by_xpath(\"//div[@class='footer-buttons']/input\")\n",
    "#print(send_button.get_attribute('title'))\n",
    "send_button.click()\n",
    "\n",
    "# It takes time for CDC wonder to answer the query and display the results page.\n",
    "time.sleep(20)"
   ]
  }
 ],
 "metadata": {
  "kernelspec": {
   "display_name": "Python 3",
   "language": "python",
   "name": "python3"
  },
  "language_info": {
   "codemirror_mode": {
    "name": "ipython",
    "version": 3
   },
   "file_extension": ".py",
   "mimetype": "text/x-python",
   "name": "python",
   "nbconvert_exporter": "python",
   "pygments_lexer": "ipython3",
   "version": "3.6.5"
  }
 },
 "nbformat": 4,
 "nbformat_minor": 2
}
