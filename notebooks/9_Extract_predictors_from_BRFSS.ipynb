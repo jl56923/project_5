{
 "cells": [
  {
   "cell_type": "markdown",
   "metadata": {},
   "source": [
    "## Extracting predictors from BRFSS\n",
    "\n",
    "In this notebook, we're going to figure out which predictors we want to extract from the BRFSS CSVs. This is going to take several steps:\n",
    "\n",
    "1. Load consensus_var_desc_dict which contains all the variable names and descriptions from all the codebooks from 1999 to 2017. Also load the master_codebook_all_years dataframe, which will help you figure out for which years which variables were used.\n",
    "2. Decide which predictors I want to extract from each year's BRFSS CSV.\n",
    "3. Load each BRFSS CSV into a pandas dataframe, and extract the relevant columns. Store this is a dictionary or list of dataframe.\n",
    "4. Then, once you have this list or dictionary of dataframes by year, take each dataframe and compute the state-level summary statistics you want for each year; turn this into a time series for each predictor that has an annual sampling frequency."
   ]
  },
  {
   "cell_type": "code",
   "execution_count": 1,
   "metadata": {},
   "outputs": [
    {
     "name": "stdout",
     "output_type": "stream",
     "text": [
      "MI_mortality_medicaid_expansion.pkl\n",
      "any_exercise_list_of_dfs.pkl\n",
      "cardiac_mortality_obesity_dm_df_by_state.pkl\n",
      "codebook_dfs_dict.pkl\n",
      "consensus_var_desc_dict.pkl\n",
      "interpol_truncated_MI_mortality_per_state_dict.pkl\n",
      "master_codebook_all_years.pkl\n",
      "myocardial_infarction_df_state_mortality_dict.pkl\n",
      "state_population_by_year_dict.pkl\n"
     ]
    }
   ],
   "source": [
    "%%bash\n",
    "ls ../data/pickles"
   ]
  },
  {
   "cell_type": "code",
   "execution_count": 64,
   "metadata": {},
   "outputs": [],
   "source": [
    "import pickle\n",
    "import pandas as pd\n",
    "\n",
    "import warnings\n",
    "\n",
    "from progress_bar import log_progress\n",
    "\n",
    "warnings.filterwarnings('ignore')"
   ]
  },
  {
   "cell_type": "code",
   "execution_count": 4,
   "metadata": {},
   "outputs": [],
   "source": [
    "with open(\"../data/pickles/master_codebook_all_years.pkl\", \"rb\") as f:\n",
    "    master_codebook_all_years_df = pickle.load(f)"
   ]
  },
  {
   "cell_type": "code",
   "execution_count": 6,
   "metadata": {},
   "outputs": [],
   "source": [
    "with open(\"../data/pickles/consensus_var_desc_dict.pkl\", \"rb\") as f:\n",
    "    consensus_var_desc_dict = pickle.load(f)"
   ]
  },
  {
   "cell_type": "markdown",
   "metadata": {},
   "source": [
    "What we need to do is find all the variables that mention a particular condition, so that we can figure out which variable names are synonymous with each other."
   ]
  },
  {
   "cell_type": "code",
   "execution_count": 51,
   "metadata": {},
   "outputs": [
    {
     "data": {
      "text/html": [
       "<div>\n",
       "<style scoped>\n",
       "    .dataframe tbody tr th:only-of-type {\n",
       "        vertical-align: middle;\n",
       "    }\n",
       "\n",
       "    .dataframe tbody tr th {\n",
       "        vertical-align: top;\n",
       "    }\n",
       "\n",
       "    .dataframe thead th {\n",
       "        text-align: right;\n",
       "    }\n",
       "</style>\n",
       "<table border=\"1\" class=\"dataframe\">\n",
       "  <thead>\n",
       "    <tr style=\"text-align: right;\">\n",
       "      <th></th>\n",
       "      <th>var_name</th>\n",
       "      <th>1999</th>\n",
       "      <th>2000</th>\n",
       "      <th>2001</th>\n",
       "      <th>2002</th>\n",
       "      <th>2003</th>\n",
       "      <th>2004</th>\n",
       "      <th>2005</th>\n",
       "      <th>2006</th>\n",
       "      <th>2007</th>\n",
       "      <th>2008</th>\n",
       "      <th>2009</th>\n",
       "      <th>2010</th>\n",
       "      <th>2011</th>\n",
       "      <th>2012</th>\n",
       "      <th>2013</th>\n",
       "      <th>2014</th>\n",
       "      <th>2015</th>\n",
       "      <th>2016</th>\n",
       "      <th>2017</th>\n",
       "    </tr>\n",
       "  </thead>\n",
       "  <tbody>\n",
       "    <tr>\n",
       "      <th>1079</th>\n",
       "      <td>HLTHPLN1</td>\n",
       "      <td>NaN</td>\n",
       "      <td>NaN</td>\n",
       "      <td>NaN</td>\n",
       "      <td>NaN</td>\n",
       "      <td>NaN</td>\n",
       "      <td>NaN</td>\n",
       "      <td>NaN</td>\n",
       "      <td>NaN</td>\n",
       "      <td>NaN</td>\n",
       "      <td>NaN</td>\n",
       "      <td>NaN</td>\n",
       "      <td>NaN</td>\n",
       "      <td>Do you have any kind of health care coverage, ...</td>\n",
       "      <td>Do you have any kind of health care coverage, ...</td>\n",
       "      <td>Do you have any kind of health care coverage, ...</td>\n",
       "      <td>Do you have any kind of health care coverage, ...</td>\n",
       "      <td>Do you have any kind of health care coverage, ...</td>\n",
       "      <td>Do you have any kind of health care coverage, ...</td>\n",
       "      <td>Do you have any kind of health care coverage, ...</td>\n",
       "    </tr>\n",
       "  </tbody>\n",
       "</table>\n",
       "</div>"
      ],
      "text/plain": [
       "      var_name 1999 2000 2001 2002 2003 2004 2005 2006 2007 2008 2009 2010  \\\n",
       "1079  HLTHPLN1  NaN  NaN  NaN  NaN  NaN  NaN  NaN  NaN  NaN  NaN  NaN  NaN   \n",
       "\n",
       "                                                   2011  \\\n",
       "1079  Do you have any kind of health care coverage, ...   \n",
       "\n",
       "                                                   2012  \\\n",
       "1079  Do you have any kind of health care coverage, ...   \n",
       "\n",
       "                                                   2013  \\\n",
       "1079  Do you have any kind of health care coverage, ...   \n",
       "\n",
       "                                                   2014  \\\n",
       "1079  Do you have any kind of health care coverage, ...   \n",
       "\n",
       "                                                   2015  \\\n",
       "1079  Do you have any kind of health care coverage, ...   \n",
       "\n",
       "                                                   2016  \\\n",
       "1079  Do you have any kind of health care coverage, ...   \n",
       "\n",
       "                                                   2017  \n",
       "1079  Do you have any kind of health care coverage, ...  "
      ]
     },
     "execution_count": 51,
     "metadata": {},
     "output_type": "execute_result"
    }
   ],
   "source": [
    "master_codebook_all_years_df[master_codebook_all_years_df.var_name == 'HLTHPLN1']"
   ]
  },
  {
   "cell_type": "code",
   "execution_count": 143,
   "metadata": {},
   "outputs": [],
   "source": [
    "relevant_variables = {}\n",
    "relevant_variables['high_cholesterol'] = ['TOLDHI','TOLDHI2']\n",
    "relevant_variables['hypertension'] = ['BPHIGH', 'BPHIGH2', 'BPHIGH3', 'BPHIGH4']\n",
    "relevant_variables['aspirin'] = ['CVDASPRN']\n",
    "relevant_variables['exercise'] = ['EXERANY', 'EXERANY2']\n",
    "relevant_variables['general_health'] = ['GENHLTH']\n",
    "relevant_variables['mental_health'] = ['MENTHLTH']\n",
    "relevant_variables['coverage'] = ['HLTHPLAN', 'HLTHPLN1']\n",
    "relevant_variables['income'] = ['INCOME2']\n",
    "relevant_variables['smoker'] = ['SMOKER2', 'SMOKER3']\n",
    "relevant_variables['weight_to_multiply'] = ['FINALWT', 'LLCPWT']"
   ]
  },
  {
   "cell_type": "code",
   "execution_count": null,
   "metadata": {},
   "outputs": [],
   "source": [
    "# This cell goes through all the key and values, and if the condition is mentioned in the description/question,\n",
    "# it prints the variable name and the description/question.\n",
    "\n",
    "condition = 'race'\n",
    "\n",
    "for key, val in consensus_var_desc_dict.items():\n",
    "    if val:\n",
    "        if condition in val:\n",
    "            print(key)\n",
    "            print(val)\n",
    "            print(\"\\n\")\n",
    "        if condition.capitalize() in val:\n",
    "            print(key)\n",
    "            print(val)\n",
    "            print(\"\\n\")"
   ]
  },
  {
   "cell_type": "markdown",
   "metadata": {},
   "source": [
    "Now, let's write a function that will take a list of columns that we want to extract, check it against the columns of a dataframe, and then it returns a dataframe with the columns that this dataframe has that we want to extract. We have to write this function because the dataframes for all of the different years have different variable names."
   ]
  },
  {
   "cell_type": "code",
   "execution_count": 144,
   "metadata": {},
   "outputs": [],
   "source": [
    "columns_to_extract = ['STATE', 'FINALWT', 'LLCPWT']\n",
    "for key, val in relevant_variables.items():\n",
    "    columns_to_extract.extend(val)"
   ]
  },
  {
   "cell_type": "code",
   "execution_count": 145,
   "metadata": {},
   "outputs": [],
   "source": [
    "def find_cols_this_df_has(list_of_columns, df):\n",
    "    good_cols = []\n",
    "    for col in df.columns:\n",
    "        temp_col = col.replace(\"x.\", \"\")\n",
    "        for col_to_extract in list_of_columns:\n",
    "            if col_to_extract.lower() == temp_col.lower():\n",
    "                good_cols.append(col)\n",
    "    return good_cols"
   ]
  },
  {
   "cell_type": "markdown",
   "metadata": {},
   "source": [
    "Now, let's iterate through each of the BRFSS CSVs and load them into a dataframe, and for each dataframe we'll get all the columns that we want to extract that this dataframe contains."
   ]
  },
  {
   "cell_type": "code",
   "execution_count": 146,
   "metadata": {},
   "outputs": [],
   "source": [
    "years = list(range(1999, 2018))"
   ]
  },
  {
   "cell_type": "code",
   "execution_count": 147,
   "metadata": {},
   "outputs": [
    {
     "data": {
      "application/vnd.jupyter.widget-view+json": {
       "model_id": "6f2af5bfcc544c088a0efbbbf9a6c679",
       "version_major": 2,
       "version_minor": 0
      },
      "text/plain": [
       "VBox(children=(HTML(value=''), IntProgress(value=0, max=19)))"
      ]
     },
     "metadata": {},
     "output_type": "display_data"
    },
    {
     "name": "stdout",
     "output_type": "stream",
     "text": [
      "1999\n",
      "['x.state', 'genhlth', 'menthlth', 'hlthplan', 'bphigh', 'toldhi', 'income2', 'cvdasprn', 'exerany', 'x.smoker2', 'x.finalwt', 'x.finalwt']\n",
      "2000\n",
      "['x.state', 'genhlth', 'menthlth', 'hlthplan', 'exerany', 'income2', 'bphigh', 'toldhi', 'cvdasprn', 'x.smoker2', 'x.finalwt', 'x.finalwt']\n",
      "2001\n",
      "['x.state', 'genhlth', 'menthlth', 'hlthplan', 'exerany2', 'bphigh2', 'toldhi2', 'income2', 'cvdasprn', 'x.finalwt', 'x.finalwt', 'x.smoker2']\n",
      "2002\n",
      "['x.state', 'genhlth', 'hlthplan', 'exerany2', 'income2', 'bphigh3', 'toldhi2', 'menthlth', 'cvdasprn', 'x.finalwt', 'x.finalwt', 'x.smoker2']\n",
      "2003\n",
      "['x.state', 'genhlth', 'menthlth', 'hlthplan', 'exerany2', 'bphigh3', 'toldhi2', 'income2', 'cvdasprn', 'x.finalwt', 'x.finalwt', 'x.smoker2']\n",
      "2004\n",
      "['x.state', 'genhlth', 'menthlth', 'hlthplan', 'exerany2', 'income2', 'bphigh3', 'toldhi2', 'cvdasprn', 'x.finalwt', 'x.finalwt', 'x.smoker2']\n",
      "2005\n",
      "['x.state', 'genhlth', 'menthlth', 'hlthplan', 'exerany2', 'bphigh4', 'toldhi2', 'income2', 'cvdasprn', 'x.finalwt', 'x.finalwt', 'x.smoker3']\n",
      "2006\n",
      "['x.state', 'genhlth', 'menthlth', 'hlthplan', 'exerany2', 'income2', 'x.finalwt', 'x.finalwt', 'x.smoker3']\n",
      "2007\n",
      "['x.state', 'genhlth', 'menthlth', 'hlthplan', 'exerany2', 'bphigh4', 'toldhi2', 'income2', 'cvdasprn', 'x.finalwt', 'x.finalwt', 'x.smoker3']\n",
      "2008\n",
      "['x.state', 'genhlth', 'menthlth', 'hlthplan', 'exerany2', 'income2', 'x.finalwt', 'x.finalwt', 'x.smoker3']\n",
      "2009\n",
      "['x.state', 'genhlth', 'menthlth', 'hlthplan', 'exerany2', 'bphigh4', 'toldhi2', 'income2', 'cvdasprn', 'x.finalwt', 'x.finalwt', 'x.smoker3']\n",
      "2010\n",
      "['x.state', 'genhlth', 'menthlth', 'hlthplan', 'exerany2', 'income2', 'x.finalwt', 'x.finalwt', 'x.smoker3']\n",
      "2011\n",
      "['x.state', 'genhlth', 'menthlth', 'hlthpln1', 'bphigh4', 'toldhi2', 'income2', 'exerany2', 'cvdasprn', 'x.llcpwt', 'x.llcpwt', 'x.smoker3']\n",
      "2012\n",
      "['x.state', 'genhlth', 'menthlth', 'hlthpln1', 'exerany2', 'income2', 'x.llcpwt', 'x.llcpwt', 'x.smoker3']\n",
      "2013\n",
      "['x.state', 'genhlth', 'menthlth', 'hlthpln1', 'bphigh4', 'toldhi2', 'income2', 'exerany2', 'cvdasprn', 'x.llcpwt', 'x.llcpwt', 'x.smoker3']\n",
      "2014\n",
      "['x.state', 'genhlth', 'menthlth', 'hlthpln1', 'exerany2', 'income2', 'x.llcpwt', 'x.llcpwt', 'x.smoker3']\n",
      "2015\n",
      "['x.state', 'genhlth', 'menthlth', 'hlthpln1', 'bphigh4', 'toldhi2', 'income2', 'exerany2', 'cvdasprn', 'x.llcpwt', 'x.llcpwt', 'x.smoker3']\n",
      "2016\n",
      "['x.state', 'genhlth', 'menthlth', 'hlthpln1', 'exerany2', 'income2', 'x.llcpwt', 'x.llcpwt', 'x.smoker3']\n",
      "2017\n",
      "['x.state', 'genhlth', 'menthlth', 'hlthpln1', 'bphigh4', 'toldhi2', 'income2', 'exerany2', 'cvdasprn', 'x.llcpwt', 'x.llcpwt', 'x.smoker3']\n"
     ]
    }
   ],
   "source": [
    "dict_of_relevant_dfs = {}\n",
    "\n",
    "for year in log_progress(years):\n",
    "    brfss_df = pd.read_csv(f\"../data/brfss/csv/brfss{year}.csv\", encoding=\"cp1252\")\n",
    "    cols = find_cols_this_df_has(columns_to_extract, brfss_df)\n",
    "    print(year)\n",
    "    print(cols)\n",
    "    temp_df = brfss_df[cols].copy()\n",
    "    \n",
    "    temp_df['year'] = year\n",
    "    dict_of_relevant_dfs[year] = temp_df"
   ]
  },
  {
   "cell_type": "code",
   "execution_count": 148,
   "metadata": {},
   "outputs": [],
   "source": [
    "with open(\"../data/pickles/dict_of_relevant_dfs_raw.pkl\", \"wb\") as f:\n",
    "    pickle.dump(dict_of_relevant_dfs, f)"
   ]
  },
  {
   "cell_type": "markdown",
   "metadata": {},
   "source": [
    "Now, let's clean up each of the dataframes. Unfortunately, the easiest way to do this on a relatively small set is to do it manually."
   ]
  },
  {
   "cell_type": "code",
   "execution_count": 149,
   "metadata": {},
   "outputs": [
    {
     "data": {
      "text/plain": [
       "Index(['x.state', 'genhlth', 'menthlth', 'hlthplan', 'bphigh', 'toldhi',\n",
       "       'income2', 'cvdasprn', 'exerany', 'x.smoker2', 'x.finalwt', 'x.finalwt',\n",
       "       'year'],\n",
       "      dtype='object')"
      ]
     },
     "execution_count": 149,
     "metadata": {},
     "output_type": "execute_result"
    }
   ],
   "source": [
    "dict_of_relevant_dfs[1999].columns"
   ]
  },
  {
   "cell_type": "code",
   "execution_count": 150,
   "metadata": {},
   "outputs": [
    {
     "data": {
      "text/plain": [
       "{'high_cholesterol': ['TOLDHI', 'TOLDHI2'],\n",
       " 'hypertension': ['BPHIGH', 'BPHIGH2', 'BPHIGH3', 'BPHIGH4'],\n",
       " 'aspirin': ['CVDASPRN'],\n",
       " 'exercise': ['EXERANY', 'EXERANY2'],\n",
       " 'general_health': ['GENHLTH'],\n",
       " 'mental_health': ['MENTHLTH'],\n",
       " 'coverage': ['HLTHPLAN', 'HLTHPLN1'],\n",
       " 'income': ['INCOME2'],\n",
       " 'smoker': ['SMOKER2', 'SMOKER3'],\n",
       " 'weight_to_multiply': ['FINALWT', 'LLCPWT']}"
      ]
     },
     "execution_count": 150,
     "metadata": {},
     "output_type": "execute_result"
    }
   ],
   "source": [
    "relevant_variables"
   ]
  },
  {
   "cell_type": "code",
   "execution_count": 151,
   "metadata": {},
   "outputs": [],
   "source": [
    "for year, df in dict_of_relevant_dfs.items():\n",
    "    \n",
    "    rename_dict = {}\n",
    "\n",
    "    for col in df.columns:\n",
    "        for key, value in relevant_variables.items():\n",
    "            if col.replace(\"x.\", \"\").upper() in value:\n",
    "                rename_dict[col] = key\n",
    "                \n",
    "    dict_of_relevant_dfs[year] = df.rename(columns=rename_dict)"
   ]
  },
  {
   "cell_type": "markdown",
   "metadata": {},
   "source": [
    "Now that we have a dictionary of the dataframes with the predictors that we're interested in, we now have to translate the numbers into the actual responses. We can than calculate the mean per state per year for each of our predictors."
   ]
  },
  {
   "cell_type": "code",
   "execution_count": 152,
   "metadata": {},
   "outputs": [
    {
     "data": {
      "text/html": [
       "<div>\n",
       "<style scoped>\n",
       "    .dataframe tbody tr th:only-of-type {\n",
       "        vertical-align: middle;\n",
       "    }\n",
       "\n",
       "    .dataframe tbody tr th {\n",
       "        vertical-align: top;\n",
       "    }\n",
       "\n",
       "    .dataframe thead th {\n",
       "        text-align: right;\n",
       "    }\n",
       "</style>\n",
       "<table border=\"1\" class=\"dataframe\">\n",
       "  <thead>\n",
       "    <tr style=\"text-align: right;\">\n",
       "      <th></th>\n",
       "      <th>x.state</th>\n",
       "      <th>general_health</th>\n",
       "      <th>mental_health</th>\n",
       "      <th>coverage</th>\n",
       "      <th>hypertension</th>\n",
       "      <th>high_cholesterol</th>\n",
       "      <th>income</th>\n",
       "      <th>exercise</th>\n",
       "      <th>aspirin</th>\n",
       "      <th>weight_to_multiply</th>\n",
       "      <th>weight_to_multiply</th>\n",
       "      <th>smoker</th>\n",
       "      <th>year</th>\n",
       "    </tr>\n",
       "  </thead>\n",
       "  <tbody>\n",
       "    <tr>\n",
       "      <th>0</th>\n",
       "      <td>1</td>\n",
       "      <td>2.0</td>\n",
       "      <td>88.0</td>\n",
       "      <td>1.0</td>\n",
       "      <td>1.0</td>\n",
       "      <td>1.0</td>\n",
       "      <td>6.0</td>\n",
       "      <td>1.0</td>\n",
       "      <td>NaN</td>\n",
       "      <td>79.425947</td>\n",
       "      <td>79.425947</td>\n",
       "      <td>4</td>\n",
       "      <td>2017</td>\n",
       "    </tr>\n",
       "    <tr>\n",
       "      <th>1</th>\n",
       "      <td>1</td>\n",
       "      <td>2.0</td>\n",
       "      <td>88.0</td>\n",
       "      <td>1.0</td>\n",
       "      <td>1.0</td>\n",
       "      <td>2.0</td>\n",
       "      <td>8.0</td>\n",
       "      <td>1.0</td>\n",
       "      <td>NaN</td>\n",
       "      <td>89.694580</td>\n",
       "      <td>89.694580</td>\n",
       "      <td>4</td>\n",
       "      <td>2017</td>\n",
       "    </tr>\n",
       "    <tr>\n",
       "      <th>2</th>\n",
       "      <td>1</td>\n",
       "      <td>3.0</td>\n",
       "      <td>88.0</td>\n",
       "      <td>1.0</td>\n",
       "      <td>3.0</td>\n",
       "      <td>1.0</td>\n",
       "      <td>99.0</td>\n",
       "      <td>2.0</td>\n",
       "      <td>NaN</td>\n",
       "      <td>440.121376</td>\n",
       "      <td>440.121376</td>\n",
       "      <td>4</td>\n",
       "      <td>2017</td>\n",
       "    </tr>\n",
       "    <tr>\n",
       "      <th>3</th>\n",
       "      <td>1</td>\n",
       "      <td>4.0</td>\n",
       "      <td>88.0</td>\n",
       "      <td>1.0</td>\n",
       "      <td>1.0</td>\n",
       "      <td>1.0</td>\n",
       "      <td>1.0</td>\n",
       "      <td>NaN</td>\n",
       "      <td>NaN</td>\n",
       "      <td>194.867164</td>\n",
       "      <td>194.867164</td>\n",
       "      <td>4</td>\n",
       "      <td>2017</td>\n",
       "    </tr>\n",
       "    <tr>\n",
       "      <th>4</th>\n",
       "      <td>1</td>\n",
       "      <td>4.0</td>\n",
       "      <td>88.0</td>\n",
       "      <td>1.0</td>\n",
       "      <td>3.0</td>\n",
       "      <td>2.0</td>\n",
       "      <td>2.0</td>\n",
       "      <td>2.0</td>\n",
       "      <td>NaN</td>\n",
       "      <td>169.087888</td>\n",
       "      <td>169.087888</td>\n",
       "      <td>3</td>\n",
       "      <td>2017</td>\n",
       "    </tr>\n",
       "  </tbody>\n",
       "</table>\n",
       "</div>"
      ],
      "text/plain": [
       "   x.state  general_health  mental_health  coverage  hypertension  \\\n",
       "0        1             2.0           88.0       1.0           1.0   \n",
       "1        1             2.0           88.0       1.0           1.0   \n",
       "2        1             3.0           88.0       1.0           3.0   \n",
       "3        1             4.0           88.0       1.0           1.0   \n",
       "4        1             4.0           88.0       1.0           3.0   \n",
       "\n",
       "   high_cholesterol  income  exercise  aspirin  weight_to_multiply  \\\n",
       "0               1.0     6.0       1.0      NaN           79.425947   \n",
       "1               2.0     8.0       1.0      NaN           89.694580   \n",
       "2               1.0    99.0       2.0      NaN          440.121376   \n",
       "3               1.0     1.0       NaN      NaN          194.867164   \n",
       "4               2.0     2.0       2.0      NaN          169.087888   \n",
       "\n",
       "   weight_to_multiply  smoker  year  \n",
       "0           79.425947       4  2017  \n",
       "1           89.694580       4  2017  \n",
       "2          440.121376       4  2017  \n",
       "3          194.867164       4  2017  \n",
       "4          169.087888       3  2017  "
      ]
     },
     "execution_count": 152,
     "metadata": {},
     "output_type": "execute_result"
    }
   ],
   "source": [
    "dict_of_relevant_dfs[2017].head()"
   ]
  },
  {
   "cell_type": "code",
   "execution_count": 171,
   "metadata": {},
   "outputs": [],
   "source": [
    "var_name_response_num_to_str_dict = {}\n",
    "var_name_response_num_to_str_dict['high_cholesterol'] = {1: 'yes', 2: 'no', 7: \"don't know\", 9: \"refused\"}\n",
    "var_name_response_num_to_str_dict['coverage'] = {1: 'yes', 2: 'no', 7: \"don't know\", 9: \"refused\"}\n",
    "var_name_response_num_to_str_dict['general_health'] = {1: 'excellent', 2: 'very good', 3: 'good',\n",
    "                                                       4: 'fair', 5: 'poor', 7: \"don't know\", 9: 'refused'}\n",
    "var_name_response_num_to_str_dict['mental_health'] = {77: \"don't know\", 88: 0, 99: \"refused\"}\n",
    "var_name_response_num_to_str_dict['hypertension'] = {1: 'yes', 2: 'yes, only during pregnancy', 3:'no', 4:'borderline', 7: \"don't know\", 9: \"refused\"}\n",
    "var_name_response_num_to_str_dict['income'] = {1: '<10K', 2: '10K-15K', 3: '15K-20K', 4: '20K-25K', \n",
    "                                               5: '25K-35K', 6: '35K-50K', 7: '50K-75K', 8: '>75', 77: \"don't know\", 99: 'refused'}\n",
    "var_name_response_num_to_str_dict['aspirin'] = {1: 'yes', 2: 'no', 7: \"don't know\", 9: \"refused\"}\n",
    "var_name_response_num_to_str_dict['smoker'] = {1: 'current, smoke every day', 2: 'current, smoke some days', 3: 'former smoker', 4: 'never smoked', 9: 'refused'}"
   ]
  },
  {
   "cell_type": "code",
   "execution_count": 172,
   "metadata": {},
   "outputs": [],
   "source": [
    "dict_of_dfs_per_year_with_str_responses = {}\n",
    "\n",
    "for year in years:\n",
    "    temp_df = dict_of_relevant_dfs[year]\n",
    "    for col in temp_df.columns:\n",
    "        if col in var_name_response_num_to_str_dict:\n",
    "            temp_df[col] = temp_df[col].replace(to_replace=var_name_response_num_to_str_dict[col])\n",
    "    dict_of_dfs_per_year_with_str_responses[year] = temp_df"
   ]
  },
  {
   "cell_type": "markdown",
   "metadata": {},
   "source": [
    "Now, we need to figure out which response we're interested in for each predictor. E.g., "
   ]
  },
  {
   "cell_type": "code",
   "execution_count": 165,
   "metadata": {},
   "outputs": [
    {
     "data": {
      "text/html": [
       "<div>\n",
       "<style scoped>\n",
       "    .dataframe tbody tr th:only-of-type {\n",
       "        vertical-align: middle;\n",
       "    }\n",
       "\n",
       "    .dataframe tbody tr th {\n",
       "        vertical-align: top;\n",
       "    }\n",
       "\n",
       "    .dataframe thead th {\n",
       "        text-align: right;\n",
       "    }\n",
       "</style>\n",
       "<table border=\"1\" class=\"dataframe\">\n",
       "  <thead>\n",
       "    <tr style=\"text-align: right;\">\n",
       "      <th></th>\n",
       "      <th>x.state</th>\n",
       "      <th>general_health</th>\n",
       "      <th>mental_health</th>\n",
       "      <th>coverage</th>\n",
       "      <th>hypertension</th>\n",
       "      <th>high_cholesterol</th>\n",
       "      <th>income</th>\n",
       "      <th>aspirin</th>\n",
       "      <th>exercise</th>\n",
       "      <th>smoker</th>\n",
       "      <th>weight_to_multiply</th>\n",
       "      <th>weight_to_multiply</th>\n",
       "      <th>year</th>\n",
       "    </tr>\n",
       "  </thead>\n",
       "  <tbody>\n",
       "    <tr>\n",
       "      <th>0</th>\n",
       "      <td>1</td>\n",
       "      <td>excellent</td>\n",
       "      <td>0</td>\n",
       "      <td>yes</td>\n",
       "      <td>no</td>\n",
       "      <td>no</td>\n",
       "      <td>50K-75K</td>\n",
       "      <td>no</td>\n",
       "      <td>NaN</td>\n",
       "      <td>former smoker</td>\n",
       "      <td>1419.911405</td>\n",
       "      <td>1419.911405</td>\n",
       "      <td>1999</td>\n",
       "    </tr>\n",
       "    <tr>\n",
       "      <th>1</th>\n",
       "      <td>1</td>\n",
       "      <td>very good</td>\n",
       "      <td>10</td>\n",
       "      <td>no</td>\n",
       "      <td>no</td>\n",
       "      <td>no</td>\n",
       "      <td>&lt;10K</td>\n",
       "      <td>no</td>\n",
       "      <td>NaN</td>\n",
       "      <td>never smoked</td>\n",
       "      <td>1839.091587</td>\n",
       "      <td>1839.091587</td>\n",
       "      <td>1999</td>\n",
       "    </tr>\n",
       "    <tr>\n",
       "      <th>2</th>\n",
       "      <td>1</td>\n",
       "      <td>very good</td>\n",
       "      <td>0</td>\n",
       "      <td>yes</td>\n",
       "      <td>no</td>\n",
       "      <td>no</td>\n",
       "      <td>25K-35K</td>\n",
       "      <td>NaN</td>\n",
       "      <td>NaN</td>\n",
       "      <td>never smoked</td>\n",
       "      <td>1024.247333</td>\n",
       "      <td>1024.247333</td>\n",
       "      <td>1999</td>\n",
       "    </tr>\n",
       "    <tr>\n",
       "      <th>3</th>\n",
       "      <td>1</td>\n",
       "      <td>very good</td>\n",
       "      <td>0</td>\n",
       "      <td>yes</td>\n",
       "      <td>yes</td>\n",
       "      <td>no</td>\n",
       "      <td>&gt;75</td>\n",
       "      <td>no</td>\n",
       "      <td>NaN</td>\n",
       "      <td>never smoked</td>\n",
       "      <td>2381.874267</td>\n",
       "      <td>2381.874267</td>\n",
       "      <td>1999</td>\n",
       "    </tr>\n",
       "    <tr>\n",
       "      <th>4</th>\n",
       "      <td>1</td>\n",
       "      <td>very good</td>\n",
       "      <td>2</td>\n",
       "      <td>no</td>\n",
       "      <td>no</td>\n",
       "      <td>no</td>\n",
       "      <td>50K-75K</td>\n",
       "      <td>no</td>\n",
       "      <td>NaN</td>\n",
       "      <td>never smoked</td>\n",
       "      <td>2381.874267</td>\n",
       "      <td>2381.874267</td>\n",
       "      <td>1999</td>\n",
       "    </tr>\n",
       "  </tbody>\n",
       "</table>\n",
       "</div>"
      ],
      "text/plain": [
       "   x.state general_health mental_health coverage hypertension  \\\n",
       "0        1      excellent             0      yes           no   \n",
       "1        1      very good            10       no           no   \n",
       "2        1      very good             0      yes           no   \n",
       "3        1      very good             0      yes          yes   \n",
       "4        1      very good             2       no           no   \n",
       "\n",
       "  high_cholesterol   income aspirin  exercise         smoker  \\\n",
       "0               no  50K-75K      no       NaN  former smoker   \n",
       "1               no     <10K      no       NaN   never smoked   \n",
       "2               no  25K-35K     NaN       NaN   never smoked   \n",
       "3               no      >75      no       NaN   never smoked   \n",
       "4               no  50K-75K      no       NaN   never smoked   \n",
       "\n",
       "   weight_to_multiply  weight_to_multiply  year  \n",
       "0         1419.911405         1419.911405  1999  \n",
       "1         1839.091587         1839.091587  1999  \n",
       "2         1024.247333         1024.247333  1999  \n",
       "3         2381.874267         2381.874267  1999  \n",
       "4         2381.874267         2381.874267  1999  "
      ]
     },
     "execution_count": 165,
     "metadata": {},
     "output_type": "execute_result"
    }
   ],
   "source": [
    "dict_of_dfs_per_year_with_str_responses[1999].head()"
   ]
  },
  {
   "cell_type": "code",
   "execution_count": 166,
   "metadata": {},
   "outputs": [],
   "source": [
    "g = dict_of_dfs_per_year_with_str_responses[2017].groupby('x.state')"
   ]
  },
  {
   "cell_type": "code",
   "execution_count": 170,
   "metadata": {},
   "outputs": [
    {
     "data": {
      "text/plain": [
       "array(['yes', 3.0, 4.0, 'no', \"don't know\", 'refused'], dtype=object)"
      ]
     },
     "execution_count": 170,
     "metadata": {},
     "output_type": "execute_result"
    }
   ],
   "source": [
    "g.get_group(1).hypertension.unique()"
   ]
  },
  {
   "cell_type": "code",
   "execution_count": null,
   "metadata": {},
   "outputs": [],
   "source": []
  }
 ],
 "metadata": {
  "kernelspec": {
   "display_name": "Python 3",
   "language": "python",
   "name": "python3"
  },
  "language_info": {
   "codemirror_mode": {
    "name": "ipython",
    "version": 3
   },
   "file_extension": ".py",
   "mimetype": "text/x-python",
   "name": "python",
   "nbconvert_exporter": "python",
   "pygments_lexer": "ipython3",
   "version": "3.6.5"
  }
 },
 "nbformat": 4,
 "nbformat_minor": 2
}
