{
 "cells": [
  {
   "cell_type": "markdown",
   "metadata": {},
   "source": [
    "## Extracting predictors from BRFSS\n",
    "\n",
    "In this notebook, we're going to figure out which predictors we want to extract from the BRFSS CSVs. This is going to take several steps:\n",
    "\n",
    "1. Load consensus_var_desc_dict which contains all the variable names and descriptions from all the codebooks from 1999 to 2017. Also load the master_codebook_all_years dataframe, which will help you figure out for which years which variables were used.\n",
    "2. Decide which predictors I want to extract from each year's BRFSS CSV.\n",
    "3. Load each BRFSS CSV into a pandas dataframe, and extract the relevant columns. Store this is a dictionary or list of dataframe.\n",
    "4. Then, once you have this list or dictionary of dataframes by year, take each dataframe and compute the state-level summary statistics you want for each year; turn this into a time series for each predictor that has an annual sampling frequency."
   ]
  },
  {
   "cell_type": "code",
   "execution_count": 1,
   "metadata": {},
   "outputs": [
    {
     "name": "stdout",
     "output_type": "stream",
     "text": [
      "MI_mortality_medicaid_expansion.pkl\n",
      "any_exercise_list_of_dfs.pkl\n",
      "cardiac_mortality_obesity_dm_df_by_state.pkl\n",
      "codebook_dfs_dict.pkl\n",
      "consensus_var_desc_dict.pkl\n",
      "interpol_truncated_MI_mortality_per_state_dict.pkl\n",
      "master_codebook_all_years.pkl\n",
      "myocardial_infarction_df_state_mortality_dict.pkl\n",
      "state_population_by_year_dict.pkl\n"
     ]
    }
   ],
   "source": [
    "%%bash\n",
    "ls ../data/pickles"
   ]
  },
  {
   "cell_type": "code",
   "execution_count": 521,
   "metadata": {},
   "outputs": [],
   "source": [
    "import pickle\n",
    "import pandas as pd\n",
    "import numpy as np\n",
    "import matplotlib.pyplot as plt\n",
    "\n",
    "import warnings\n",
    "\n",
    "from progress_bar import log_progress\n",
    "\n",
    "warnings.filterwarnings('ignore')\n",
    "\n",
    "%matplotlib inline"
   ]
  },
  {
   "cell_type": "code",
   "execution_count": 4,
   "metadata": {},
   "outputs": [],
   "source": [
    "with open(\"../data/pickles/master_codebook_all_years.pkl\", \"rb\") as f:\n",
    "    master_codebook_all_years_df = pickle.load(f)"
   ]
  },
  {
   "cell_type": "code",
   "execution_count": 6,
   "metadata": {},
   "outputs": [],
   "source": [
    "with open(\"../data/pickles/consensus_var_desc_dict.pkl\", \"rb\") as f:\n",
    "    consensus_var_desc_dict = pickle.load(f)"
   ]
  },
  {
   "cell_type": "markdown",
   "metadata": {},
   "source": [
    "What we need to do is find all the variables that mention a particular condition, so that we can figure out which variable names are synonymous with each other."
   ]
  },
  {
   "cell_type": "code",
   "execution_count": 455,
   "metadata": {},
   "outputs": [
    {
     "data": {
      "text/html": [
       "<div>\n",
       "<style scoped>\n",
       "    .dataframe tbody tr th:only-of-type {\n",
       "        vertical-align: middle;\n",
       "    }\n",
       "\n",
       "    .dataframe tbody tr th {\n",
       "        vertical-align: top;\n",
       "    }\n",
       "\n",
       "    .dataframe thead th {\n",
       "        text-align: right;\n",
       "    }\n",
       "</style>\n",
       "<table border=\"1\" class=\"dataframe\">\n",
       "  <thead>\n",
       "    <tr style=\"text-align: right;\">\n",
       "      <th></th>\n",
       "      <th>var_name</th>\n",
       "      <th>1999</th>\n",
       "      <th>2000</th>\n",
       "      <th>2001</th>\n",
       "      <th>2002</th>\n",
       "      <th>2003</th>\n",
       "      <th>2004</th>\n",
       "      <th>2005</th>\n",
       "      <th>2006</th>\n",
       "      <th>2007</th>\n",
       "      <th>2008</th>\n",
       "      <th>2009</th>\n",
       "      <th>2010</th>\n",
       "      <th>2011</th>\n",
       "      <th>2012</th>\n",
       "      <th>2013</th>\n",
       "      <th>2014</th>\n",
       "      <th>2015</th>\n",
       "      <th>2016</th>\n",
       "      <th>2017</th>\n",
       "    </tr>\n",
       "  </thead>\n",
       "  <tbody>\n",
       "    <tr>\n",
       "      <th>72</th>\n",
       "      <td>SEX</td>\n",
       "      <td>11.1. A mammogram is an x -ray of each breast ...</td>\n",
       "      <td>11.1. A mammogram is an x -ray of each breast ...</td>\n",
       "      <td>Indicate sex of respondent.</td>\n",
       "      <td>Indicate sex of respondent.</td>\n",
       "      <td>Indicate sex of respondent.</td>\n",
       "      <td>Indicate sex of respondent.</td>\n",
       "      <td>Indicate sex of respondent.</td>\n",
       "      <td>Indicate sex of respondent.</td>\n",
       "      <td>Indicate sex of respondent.</td>\n",
       "      <td>Indicate sex of respondent.</td>\n",
       "      <td>Indicate sex of respondent.</td>\n",
       "      <td>Indicate sex of respondent.</td>\n",
       "      <td>Indicate sex of respondent.</td>\n",
       "      <td>Indicate sex of respondent.</td>\n",
       "      <td>Indicate sex of respondent.</td>\n",
       "      <td>Indicate sex of respondent.</td>\n",
       "      <td>Indicate sex of respondent.</td>\n",
       "      <td>Indicate sex of respondent.</td>\n",
       "      <td>Indicate sex of respondent.</td>\n",
       "    </tr>\n",
       "  </tbody>\n",
       "</table>\n",
       "</div>"
      ],
      "text/plain": [
       "   var_name                                               1999  \\\n",
       "72      SEX  11.1. A mammogram is an x -ray of each breast ...   \n",
       "\n",
       "                                                 2000  \\\n",
       "72  11.1. A mammogram is an x -ray of each breast ...   \n",
       "\n",
       "                           2001                         2002  \\\n",
       "72  Indicate sex of respondent.  Indicate sex of respondent.   \n",
       "\n",
       "                           2003                         2004  \\\n",
       "72  Indicate sex of respondent.  Indicate sex of respondent.   \n",
       "\n",
       "                           2005                         2006  \\\n",
       "72  Indicate sex of respondent.  Indicate sex of respondent.   \n",
       "\n",
       "                           2007                         2008  \\\n",
       "72  Indicate sex of respondent.  Indicate sex of respondent.   \n",
       "\n",
       "                           2009                         2010  \\\n",
       "72  Indicate sex of respondent.  Indicate sex of respondent.   \n",
       "\n",
       "                           2011                         2012  \\\n",
       "72  Indicate sex of respondent.  Indicate sex of respondent.   \n",
       "\n",
       "                           2013                         2014  \\\n",
       "72  Indicate sex of respondent.  Indicate sex of respondent.   \n",
       "\n",
       "                           2015                         2016  \\\n",
       "72  Indicate sex of respondent.  Indicate sex of respondent.   \n",
       "\n",
       "                           2017  \n",
       "72  Indicate sex of respondent.  "
      ]
     },
     "execution_count": 455,
     "metadata": {},
     "output_type": "execute_result"
    }
   ],
   "source": [
    "master_codebook_all_years_df[master_codebook_all_years_df.var_name == 'SEX']"
   ]
  },
  {
   "cell_type": "code",
   "execution_count": 456,
   "metadata": {},
   "outputs": [],
   "source": [
    "relevant_variables = {}\n",
    "relevant_variables['high_cholesterol'] = ['TOLDHI','TOLDHI2']\n",
    "relevant_variables['hypertension'] = ['BPHIGH', 'BPHIGH2', 'BPHIGH3', 'BPHIGH4']\n",
    "# relevant_variables['aspirin'] = ['CVDASPRN']\n",
    "relevant_variables['exercise'] = ['EXERANY', 'EXERANY2']\n",
    "relevant_variables['general_health'] = ['GENHLTH']\n",
    "relevant_variables['mental_health'] = ['MENTHLTH']\n",
    "relevant_variables['coverage'] = ['HLTHPLAN', 'HLTHPLN1']\n",
    "relevant_variables['income'] = ['INCOME2']\n",
    "relevant_variables['smoker'] = ['SMOKER2', 'SMOKER3']\n",
    "relevant_variables['med_cost'] = ['MEDCOST']\n",
    "relevant_variables['gender'] = ['SEX']\n",
    "relevant_variables['weight'] = ['FINALWT', 'LLCPWT']"
   ]
  },
  {
   "cell_type": "code",
   "execution_count": 457,
   "metadata": {},
   "outputs": [
    {
     "name": "stdout",
     "output_type": "stream",
     "text": [
      "ARTHEDU\n",
      "Have you EVER taken an educational course or class to teach you how to manage problems related to your arthritis or joint symptoms?\n",
      "\n",
      "\n",
      "_EDUCAG\n",
      "Level of education completed\n",
      "\n",
      "\n",
      "MISPHLPF\n",
      "People are generally caring and sympathetic to people with mental illness. Do you agree slightly or strongly or disagree slightly or strongly? (If asked for the purpose of Q9 or Q10, say: \"answers to these questions will be used by health planners to help understand public attitudes about mental illness and its treatment and to help guide health education progams.\")\n",
      "\n",
      "\n",
      "_LLCPM03\n",
      "Combined Land -Line and Cell -Phone Third Margin (Education)\n",
      "\n",
      "\n",
      "_IMPEDUC\n",
      "Imputed Education Level (This value is the reported education level or an imputed education level, if the respondent refused to give an education level. The value of the imputed education level will be computed from the sample if the respondent refused to give an education level.)\n",
      "\n",
      "\n",
      "_IMPEDUC\n",
      "Imputed Education Level (This value is the reported education level or an imputed education level, if the respondent refused to give an education level. The value of the imputed education level will be computed from the sample if the respondent refused to give an education level.)\n",
      "\n",
      "\n",
      "_LCM03V1\n",
      "Version 1 Combined Land - Line and Cell - Phone Third Margin (Education)\n",
      "\n",
      "\n",
      "_LCM03V2\n",
      "Version 2 Combined Land - Line and Cell - Phone Third Margin (Education)\n",
      "\n",
      "\n",
      "_LCM03V3\n",
      "Version 3 Combined Land - Line and Cell - Phone Third Margin (Education)\n",
      "\n",
      "\n"
     ]
    }
   ],
   "source": [
    "# This cell goes through all the key and values, and if the condition is mentioned in the description/question,\n",
    "# it prints the variable name and the description/question.\n",
    "\n",
    "condition = 'education'\n",
    "\n",
    "for key, val in consensus_var_desc_dict.items():\n",
    "    if val:\n",
    "        if condition in val:\n",
    "            print(key)\n",
    "            print(val)\n",
    "            print(\"\\n\")\n",
    "        if condition.capitalize() in val:\n",
    "            print(key)\n",
    "            print(val)\n",
    "            print(\"\\n\")"
   ]
  },
  {
   "cell_type": "markdown",
   "metadata": {},
   "source": [
    "Now, let's write a function that will take a list of columns that we want to extract, check it against the columns of a dataframe, and then it returns a dataframe with the columns that this dataframe has that we want to extract. We have to write this function because the dataframes for all of the different years have different variable names."
   ]
  },
  {
   "cell_type": "code",
   "execution_count": 458,
   "metadata": {},
   "outputs": [],
   "source": [
    "columns_to_extract = ['STATE']\n",
    "for key, val in relevant_variables.items():\n",
    "    columns_to_extract.extend(val)"
   ]
  },
  {
   "cell_type": "code",
   "execution_count": 460,
   "metadata": {},
   "outputs": [],
   "source": [
    "def find_cols_this_df_has(list_of_columns, df):\n",
    "    good_cols = []\n",
    "    for col in df.columns:\n",
    "        temp_col = col.replace(\"x.\", \"\")\n",
    "        for col_to_extract in list_of_columns:\n",
    "            if col_to_extract.lower() == temp_col.lower():\n",
    "                good_cols.append(col)\n",
    "    return good_cols"
   ]
  },
  {
   "cell_type": "code",
   "execution_count": 461,
   "metadata": {},
   "outputs": [
    {
     "data": {
      "text/plain": [
       "['STATE',\n",
       " 'TOLDHI',\n",
       " 'TOLDHI2',\n",
       " 'BPHIGH',\n",
       " 'BPHIGH2',\n",
       " 'BPHIGH3',\n",
       " 'BPHIGH4',\n",
       " 'EXERANY',\n",
       " 'EXERANY2',\n",
       " 'GENHLTH',\n",
       " 'MENTHLTH',\n",
       " 'HLTHPLAN',\n",
       " 'HLTHPLN1',\n",
       " 'INCOME2',\n",
       " 'SMOKER2',\n",
       " 'SMOKER3',\n",
       " 'MEDCOST',\n",
       " 'SEX',\n",
       " 'FINALWT',\n",
       " 'LLCPWT']"
      ]
     },
     "execution_count": 461,
     "metadata": {},
     "output_type": "execute_result"
    }
   ],
   "source": [
    "columns_to_extract"
   ]
  },
  {
   "cell_type": "markdown",
   "metadata": {},
   "source": [
    "Now, let's iterate through each of the BRFSS CSVs and load them into a dataframe, and for each dataframe we'll get all the columns that we want to extract that this dataframe contains."
   ]
  },
  {
   "cell_type": "code",
   "execution_count": 462,
   "metadata": {},
   "outputs": [],
   "source": [
    "years = list(range(1999, 2018))"
   ]
  },
  {
   "cell_type": "code",
   "execution_count": 463,
   "metadata": {},
   "outputs": [
    {
     "data": {
      "application/vnd.jupyter.widget-view+json": {
       "model_id": "ea1fcf1c382e4449962a62fc6bae4b3e",
       "version_major": 2,
       "version_minor": 0
      },
      "text/plain": [
       "VBox(children=(HTML(value=''), IntProgress(value=0, max=19)))"
      ]
     },
     "metadata": {},
     "output_type": "display_data"
    },
    {
     "name": "stdout",
     "output_type": "stream",
     "text": [
      "1999\n",
      "['x.state', 'genhlth', 'menthlth', 'hlthplan', 'medcost', 'bphigh', 'toldhi', 'income2', 'sex', 'exerany', 'x.smoker2', 'x.finalwt']\n",
      "2000\n",
      "['x.state', 'genhlth', 'menthlth', 'hlthplan', 'medcost', 'exerany', 'income2', 'sex', 'bphigh', 'toldhi', 'x.smoker2', 'x.finalwt']\n",
      "2001\n",
      "['x.state', 'genhlth', 'menthlth', 'hlthplan', 'exerany2', 'bphigh2', 'toldhi2', 'income2', 'sex', 'medcost', 'x.finalwt', 'x.smoker2']\n",
      "2002\n",
      "['x.state', 'genhlth', 'hlthplan', 'exerany2', 'income2', 'sex', 'bphigh3', 'toldhi2', 'menthlth', 'x.finalwt', 'x.smoker2']\n",
      "2003\n",
      "['x.state', 'genhlth', 'menthlth', 'hlthplan', 'medcost', 'exerany2', 'bphigh3', 'toldhi2', 'income2', 'sex', 'x.finalwt', 'x.smoker2']\n",
      "2004\n",
      "['x.state', 'genhlth', 'menthlth', 'hlthplan', 'medcost', 'exerany2', 'income2', 'sex', 'bphigh3', 'toldhi2', 'x.finalwt', 'x.smoker2']\n",
      "2005\n",
      "['x.state', 'genhlth', 'menthlth', 'hlthplan', 'medcost', 'exerany2', 'bphigh4', 'toldhi2', 'income2', 'sex', 'x.finalwt', 'x.smoker3']\n",
      "2006\n",
      "['x.state', 'genhlth', 'menthlth', 'hlthplan', 'medcost', 'exerany2', 'income2', 'sex', 'x.finalwt', 'x.smoker3']\n",
      "2007\n",
      "['x.state', 'genhlth', 'menthlth', 'hlthplan', 'medcost', 'exerany2', 'bphigh4', 'toldhi2', 'income2', 'sex', 'x.finalwt', 'x.smoker3']\n",
      "2008\n",
      "['x.state', 'genhlth', 'menthlth', 'hlthplan', 'medcost', 'exerany2', 'income2', 'sex', 'x.finalwt', 'x.smoker3']\n",
      "2009\n",
      "['x.state', 'genhlth', 'menthlth', 'hlthplan', 'medcost', 'exerany2', 'bphigh4', 'toldhi2', 'income2', 'sex', 'x.finalwt', 'x.smoker3']\n",
      "2010\n",
      "['x.state', 'genhlth', 'menthlth', 'hlthplan', 'medcost', 'exerany2', 'income2', 'sex', 'x.finalwt', 'x.smoker3']\n",
      "2011\n",
      "['x.state', 'genhlth', 'menthlth', 'hlthpln1', 'medcost', 'bphigh4', 'toldhi2', 'income2', 'sex', 'exerany2', 'x.llcpwt', 'x.smoker3']\n",
      "2012\n",
      "['x.state', 'genhlth', 'menthlth', 'hlthpln1', 'medcost', 'exerany2', 'income2', 'sex', 'x.llcpwt', 'x.smoker3']\n",
      "2013\n",
      "['x.state', 'genhlth', 'menthlth', 'hlthpln1', 'medcost', 'bphigh4', 'toldhi2', 'income2', 'sex', 'exerany2', 'x.llcpwt', 'x.smoker3']\n",
      "2014\n",
      "['x.state', 'genhlth', 'menthlth', 'hlthpln1', 'medcost', 'exerany2', 'income2', 'sex', 'x.llcpwt', 'x.smoker3']\n",
      "2015\n",
      "['x.state', 'genhlth', 'menthlth', 'hlthpln1', 'medcost', 'bphigh4', 'toldhi2', 'sex', 'income2', 'exerany2', 'x.llcpwt', 'x.smoker3']\n",
      "2016\n",
      "['x.state', 'genhlth', 'menthlth', 'hlthpln1', 'medcost', 'exerany2', 'sex', 'income2', 'x.llcpwt', 'x.smoker3']\n",
      "2017\n",
      "['x.state', 'genhlth', 'menthlth', 'hlthpln1', 'medcost', 'bphigh4', 'toldhi2', 'sex', 'income2', 'exerany2', 'x.llcpwt', 'x.smoker3']\n"
     ]
    }
   ],
   "source": [
    "dict_of_relevant_dfs = {}\n",
    "\n",
    "for year in log_progress(years):\n",
    "    brfss_df = pd.read_csv(f\"../data/brfss/csv/brfss{year}.csv\", encoding=\"cp1252\")\n",
    "    cols = find_cols_this_df_has(columns_to_extract, brfss_df)\n",
    "    print(year)\n",
    "    print(cols)\n",
    "    temp_df = brfss_df[cols].copy()\n",
    "    \n",
    "    temp_df['year'] = year\n",
    "    dict_of_relevant_dfs[year] = temp_df"
   ]
  },
  {
   "cell_type": "code",
   "execution_count": 464,
   "metadata": {},
   "outputs": [],
   "source": [
    "with open(\"../data/pickles/dict_of_relevant_dfs_raw.pkl\", \"wb\") as f:\n",
    "    pickle.dump(dict_of_relevant_dfs, f)"
   ]
  },
  {
   "cell_type": "markdown",
   "metadata": {},
   "source": [
    "Now, let's clean up each of the dataframes. Unfortunately, the easiest way to do this on a relatively small set is to do it manually."
   ]
  },
  {
   "cell_type": "code",
   "execution_count": 359,
   "metadata": {},
   "outputs": [],
   "source": [
    "with open(\"../data/pickles/dict_of_relevant_dfs_raw.pkl\", \"rb\") as f:\n",
    "    dict_of_relevant_dfs = pickle.load(f)"
   ]
  },
  {
   "cell_type": "markdown",
   "metadata": {},
   "source": [
    "Let's remove the rows where x.state is 66 (Guam) or 72 (Puerto Rico)."
   ]
  },
  {
   "cell_type": "code",
   "execution_count": 465,
   "metadata": {},
   "outputs": [],
   "source": [
    "for year in years:\n",
    "    temp_df = dict_of_relevant_dfs[year].copy()\n",
    "    temp_df = temp_df[(temp_df['x.state'] != 66) & (temp_df['x.state'] != 72) & (temp_df['x.state'] != 78)]\n",
    "    dict_of_relevant_dfs[year] = temp_df"
   ]
  },
  {
   "cell_type": "code",
   "execution_count": 466,
   "metadata": {},
   "outputs": [],
   "source": [
    "for year, df in dict_of_relevant_dfs.items():\n",
    "    \n",
    "    rename_dict = {}\n",
    "\n",
    "    for col in df.columns:\n",
    "        for key, value in relevant_variables.items():\n",
    "            if col.replace(\"x.\", \"\").upper() in value:\n",
    "                rename_dict[col] = key\n",
    "                \n",
    "    dict_of_relevant_dfs[year] = df.rename(columns=rename_dict)"
   ]
  },
  {
   "cell_type": "markdown",
   "metadata": {},
   "source": [
    "Now that we have a dictionary of the dataframes with the predictors that we're interested in, we now have to translate the numbers into the actual responses. We can than calculate the mean per state per year for each of our predictors."
   ]
  },
  {
   "cell_type": "code",
   "execution_count": 467,
   "metadata": {},
   "outputs": [
    {
     "data": {
      "text/html": [
       "<div>\n",
       "<style scoped>\n",
       "    .dataframe tbody tr th:only-of-type {\n",
       "        vertical-align: middle;\n",
       "    }\n",
       "\n",
       "    .dataframe tbody tr th {\n",
       "        vertical-align: top;\n",
       "    }\n",
       "\n",
       "    .dataframe thead th {\n",
       "        text-align: right;\n",
       "    }\n",
       "</style>\n",
       "<table border=\"1\" class=\"dataframe\">\n",
       "  <thead>\n",
       "    <tr style=\"text-align: right;\">\n",
       "      <th></th>\n",
       "      <th>x.state</th>\n",
       "      <th>general_health</th>\n",
       "      <th>mental_health</th>\n",
       "      <th>coverage</th>\n",
       "      <th>med_cost</th>\n",
       "      <th>hypertension</th>\n",
       "      <th>high_cholesterol</th>\n",
       "      <th>gender</th>\n",
       "      <th>income</th>\n",
       "      <th>exercise</th>\n",
       "      <th>weight</th>\n",
       "      <th>smoker</th>\n",
       "      <th>year</th>\n",
       "    </tr>\n",
       "  </thead>\n",
       "  <tbody>\n",
       "    <tr>\n",
       "      <th>0</th>\n",
       "      <td>1</td>\n",
       "      <td>2.0</td>\n",
       "      <td>88.0</td>\n",
       "      <td>1.0</td>\n",
       "      <td>2.0</td>\n",
       "      <td>1.0</td>\n",
       "      <td>1.0</td>\n",
       "      <td>2</td>\n",
       "      <td>6.0</td>\n",
       "      <td>1.0</td>\n",
       "      <td>79.425947</td>\n",
       "      <td>4</td>\n",
       "      <td>2017</td>\n",
       "    </tr>\n",
       "    <tr>\n",
       "      <th>1</th>\n",
       "      <td>1</td>\n",
       "      <td>2.0</td>\n",
       "      <td>88.0</td>\n",
       "      <td>1.0</td>\n",
       "      <td>2.0</td>\n",
       "      <td>1.0</td>\n",
       "      <td>2.0</td>\n",
       "      <td>1</td>\n",
       "      <td>8.0</td>\n",
       "      <td>1.0</td>\n",
       "      <td>89.694580</td>\n",
       "      <td>4</td>\n",
       "      <td>2017</td>\n",
       "    </tr>\n",
       "    <tr>\n",
       "      <th>2</th>\n",
       "      <td>1</td>\n",
       "      <td>3.0</td>\n",
       "      <td>88.0</td>\n",
       "      <td>1.0</td>\n",
       "      <td>2.0</td>\n",
       "      <td>3.0</td>\n",
       "      <td>1.0</td>\n",
       "      <td>1</td>\n",
       "      <td>99.0</td>\n",
       "      <td>2.0</td>\n",
       "      <td>440.121376</td>\n",
       "      <td>4</td>\n",
       "      <td>2017</td>\n",
       "    </tr>\n",
       "    <tr>\n",
       "      <th>3</th>\n",
       "      <td>1</td>\n",
       "      <td>4.0</td>\n",
       "      <td>88.0</td>\n",
       "      <td>1.0</td>\n",
       "      <td>2.0</td>\n",
       "      <td>1.0</td>\n",
       "      <td>1.0</td>\n",
       "      <td>2</td>\n",
       "      <td>1.0</td>\n",
       "      <td>NaN</td>\n",
       "      <td>194.867164</td>\n",
       "      <td>4</td>\n",
       "      <td>2017</td>\n",
       "    </tr>\n",
       "    <tr>\n",
       "      <th>4</th>\n",
       "      <td>1</td>\n",
       "      <td>4.0</td>\n",
       "      <td>88.0</td>\n",
       "      <td>1.0</td>\n",
       "      <td>2.0</td>\n",
       "      <td>3.0</td>\n",
       "      <td>2.0</td>\n",
       "      <td>2</td>\n",
       "      <td>2.0</td>\n",
       "      <td>2.0</td>\n",
       "      <td>169.087888</td>\n",
       "      <td>3</td>\n",
       "      <td>2017</td>\n",
       "    </tr>\n",
       "  </tbody>\n",
       "</table>\n",
       "</div>"
      ],
      "text/plain": [
       "   x.state  general_health  mental_health  coverage  med_cost  hypertension  \\\n",
       "0        1             2.0           88.0       1.0       2.0           1.0   \n",
       "1        1             2.0           88.0       1.0       2.0           1.0   \n",
       "2        1             3.0           88.0       1.0       2.0           3.0   \n",
       "3        1             4.0           88.0       1.0       2.0           1.0   \n",
       "4        1             4.0           88.0       1.0       2.0           3.0   \n",
       "\n",
       "   high_cholesterol  gender  income  exercise      weight  smoker  year  \n",
       "0               1.0       2     6.0       1.0   79.425947       4  2017  \n",
       "1               2.0       1     8.0       1.0   89.694580       4  2017  \n",
       "2               1.0       1    99.0       2.0  440.121376       4  2017  \n",
       "3               1.0       2     1.0       NaN  194.867164       4  2017  \n",
       "4               2.0       2     2.0       2.0  169.087888       3  2017  "
      ]
     },
     "execution_count": 467,
     "metadata": {},
     "output_type": "execute_result"
    }
   ],
   "source": [
    "dict_of_relevant_dfs[2017].head()"
   ]
  },
  {
   "cell_type": "code",
   "execution_count": 468,
   "metadata": {},
   "outputs": [],
   "source": [
    "with open(\"../data/fips_states.txt\", \"r\") as f:\n",
    "    lines = f.readlines()\n",
    "\n",
    "lines = [line.strip() for line in lines]\n",
    "\n",
    "fips_state = [(int(line.split(\"\\t\")[0]), line.split(\"\\t\")[1]) for line in lines]\n",
    "\n",
    "fips_state_dict = dict(fips_state)"
   ]
  },
  {
   "cell_type": "code",
   "execution_count": 469,
   "metadata": {},
   "outputs": [],
   "source": [
    "var_name_response_num_to_str_dict = {}\n",
    "\n",
    "var_name_response_num_to_str_dict['general_health'] = {1: 'excellent', 2: 'very good', 3: 'good',\n",
    "                                                       4: 'fair', 5: 'poor', 7: \"don't know\", 9: 'refused'}\n",
    "var_name_response_num_to_str_dict['mental_health'] = {77: \"don't know\", 88: 0, 99: \"refused\"}\n",
    "var_name_response_num_to_str_dict['coverage'] = {1: 'yes', 2: 'no', 7: \"don't know\", 9: \"refused\"}\n",
    "var_name_response_num_to_str_dict['med_cost'] = {1: 'yes', 2: 'no', 7: \"don't know\", 9: \"refused\"}\n",
    "var_name_response_num_to_str_dict['hypertension'] = {1: 'yes', 2: 'yes, only during pregnancy', 3:'no', 4:'borderline', 7: \"don't know\", 9: \"refused\"}\n",
    "var_name_response_num_to_str_dict['high_cholesterol'] = {1: 'yes', 2: 'no', 7: \"don't know\", 9: \"refused\"}\n",
    "var_name_response_num_to_str_dict['gender'] = {1: 'male', 2: 'female', 9: 'refused'}\n",
    "var_name_response_num_to_str_dict['income'] = {1: 5, 2: 12.5, 3: 17.5, 4: 22.5, \n",
    "                                               5: 30, 6: 42.5, 7: 62.5, 8: 100, 77: \"don't know\", 99: 'refused'}\n",
    "# var_name_response_num_to_str_dict['income'] = {1: '<10K', 2: '10K-15K', 3: '15K-20K', 4: '20K-25K', \n",
    "#                                                5: '25K-35K', 6: '35K-50K', 7: '50K-75K', 8: '>75', 77: \"don't know\", 99: 'refused'}\n",
    "var_name_response_num_to_str_dict['exercise'] = {1: 'yes', 2: 'no', 7: \"don't know\", 9: \"refused\"}\n",
    "# var_name_response_num_to_str_dict['aspirin'] = {1: 'yes', 2: 'no', 7: \"don't know\", 9: \"refused\"}\n",
    "\n",
    "var_name_response_num_to_str_dict['smoker'] = {1: 'current, smoke every day', 2: 'current, smoke some days', 3: 'former smoker', 4: 'never smoked', 9: 'refused'}\n",
    "var_name_response_num_to_str_dict['x.state'] = fips_state_dict"
   ]
  },
  {
   "cell_type": "code",
   "execution_count": 470,
   "metadata": {},
   "outputs": [
    {
     "data": {
      "text/html": [
       "<div>\n",
       "<style scoped>\n",
       "    .dataframe tbody tr th:only-of-type {\n",
       "        vertical-align: middle;\n",
       "    }\n",
       "\n",
       "    .dataframe tbody tr th {\n",
       "        vertical-align: top;\n",
       "    }\n",
       "\n",
       "    .dataframe thead th {\n",
       "        text-align: right;\n",
       "    }\n",
       "</style>\n",
       "<table border=\"1\" class=\"dataframe\">\n",
       "  <thead>\n",
       "    <tr style=\"text-align: right;\">\n",
       "      <th></th>\n",
       "      <th>x.state</th>\n",
       "      <th>general_health</th>\n",
       "      <th>mental_health</th>\n",
       "      <th>coverage</th>\n",
       "      <th>med_cost</th>\n",
       "      <th>hypertension</th>\n",
       "      <th>high_cholesterol</th>\n",
       "      <th>income</th>\n",
       "      <th>gender</th>\n",
       "      <th>exercise</th>\n",
       "      <th>smoker</th>\n",
       "      <th>weight</th>\n",
       "      <th>year</th>\n",
       "    </tr>\n",
       "  </thead>\n",
       "  <tbody>\n",
       "    <tr>\n",
       "      <th>0</th>\n",
       "      <td>1</td>\n",
       "      <td>1</td>\n",
       "      <td>88</td>\n",
       "      <td>1</td>\n",
       "      <td>2</td>\n",
       "      <td>2.0</td>\n",
       "      <td>2.0</td>\n",
       "      <td>7</td>\n",
       "      <td>2</td>\n",
       "      <td>NaN</td>\n",
       "      <td>3</td>\n",
       "      <td>1419.911405</td>\n",
       "      <td>1999</td>\n",
       "    </tr>\n",
       "    <tr>\n",
       "      <th>1</th>\n",
       "      <td>1</td>\n",
       "      <td>2</td>\n",
       "      <td>10</td>\n",
       "      <td>2</td>\n",
       "      <td>1</td>\n",
       "      <td>2.0</td>\n",
       "      <td>2.0</td>\n",
       "      <td>1</td>\n",
       "      <td>2</td>\n",
       "      <td>NaN</td>\n",
       "      <td>4</td>\n",
       "      <td>1839.091587</td>\n",
       "      <td>1999</td>\n",
       "    </tr>\n",
       "    <tr>\n",
       "      <th>2</th>\n",
       "      <td>1</td>\n",
       "      <td>2</td>\n",
       "      <td>88</td>\n",
       "      <td>1</td>\n",
       "      <td>2</td>\n",
       "      <td>2.0</td>\n",
       "      <td>2.0</td>\n",
       "      <td>5</td>\n",
       "      <td>2</td>\n",
       "      <td>NaN</td>\n",
       "      <td>4</td>\n",
       "      <td>1024.247333</td>\n",
       "      <td>1999</td>\n",
       "    </tr>\n",
       "    <tr>\n",
       "      <th>3</th>\n",
       "      <td>1</td>\n",
       "      <td>2</td>\n",
       "      <td>88</td>\n",
       "      <td>1</td>\n",
       "      <td>2</td>\n",
       "      <td>1.0</td>\n",
       "      <td>2.0</td>\n",
       "      <td>8</td>\n",
       "      <td>1</td>\n",
       "      <td>NaN</td>\n",
       "      <td>4</td>\n",
       "      <td>2381.874267</td>\n",
       "      <td>1999</td>\n",
       "    </tr>\n",
       "    <tr>\n",
       "      <th>4</th>\n",
       "      <td>1</td>\n",
       "      <td>2</td>\n",
       "      <td>2</td>\n",
       "      <td>2</td>\n",
       "      <td>2</td>\n",
       "      <td>2.0</td>\n",
       "      <td>2.0</td>\n",
       "      <td>7</td>\n",
       "      <td>1</td>\n",
       "      <td>NaN</td>\n",
       "      <td>4</td>\n",
       "      <td>2381.874267</td>\n",
       "      <td>1999</td>\n",
       "    </tr>\n",
       "  </tbody>\n",
       "</table>\n",
       "</div>"
      ],
      "text/plain": [
       "   x.state  general_health  mental_health  coverage  med_cost  hypertension  \\\n",
       "0        1               1             88         1         2           2.0   \n",
       "1        1               2             10         2         1           2.0   \n",
       "2        1               2             88         1         2           2.0   \n",
       "3        1               2             88         1         2           1.0   \n",
       "4        1               2              2         2         2           2.0   \n",
       "\n",
       "   high_cholesterol  income  gender  exercise  smoker       weight  year  \n",
       "0               2.0       7       2       NaN       3  1419.911405  1999  \n",
       "1               2.0       1       2       NaN       4  1839.091587  1999  \n",
       "2               2.0       5       2       NaN       4  1024.247333  1999  \n",
       "3               2.0       8       1       NaN       4  2381.874267  1999  \n",
       "4               2.0       7       1       NaN       4  2381.874267  1999  "
      ]
     },
     "execution_count": 470,
     "metadata": {},
     "output_type": "execute_result"
    }
   ],
   "source": [
    "dict_of_relevant_dfs[1999].head()"
   ]
  },
  {
   "cell_type": "code",
   "execution_count": 471,
   "metadata": {},
   "outputs": [],
   "source": [
    "dict_of_dfs_per_year_with_str_responses = {}\n",
    "\n",
    "for year in years:\n",
    "    temp_df = dict_of_relevant_dfs[year].copy()\n",
    "    for col in temp_df.columns:\n",
    "        if col in var_name_response_num_to_str_dict:\n",
    "            temp_df[col] = temp_df[col].replace(to_replace=var_name_response_num_to_str_dict[col])\n",
    "    dict_of_dfs_per_year_with_str_responses[year] = temp_df"
   ]
  },
  {
   "cell_type": "code",
   "execution_count": 472,
   "metadata": {},
   "outputs": [
    {
     "data": {
      "text/html": [
       "<div>\n",
       "<style scoped>\n",
       "    .dataframe tbody tr th:only-of-type {\n",
       "        vertical-align: middle;\n",
       "    }\n",
       "\n",
       "    .dataframe tbody tr th {\n",
       "        vertical-align: top;\n",
       "    }\n",
       "\n",
       "    .dataframe thead th {\n",
       "        text-align: right;\n",
       "    }\n",
       "</style>\n",
       "<table border=\"1\" class=\"dataframe\">\n",
       "  <thead>\n",
       "    <tr style=\"text-align: right;\">\n",
       "      <th></th>\n",
       "      <th>x.state</th>\n",
       "      <th>general_health</th>\n",
       "      <th>mental_health</th>\n",
       "      <th>coverage</th>\n",
       "      <th>med_cost</th>\n",
       "      <th>hypertension</th>\n",
       "      <th>high_cholesterol</th>\n",
       "      <th>gender</th>\n",
       "      <th>income</th>\n",
       "      <th>exercise</th>\n",
       "      <th>weight</th>\n",
       "      <th>smoker</th>\n",
       "      <th>year</th>\n",
       "    </tr>\n",
       "  </thead>\n",
       "  <tbody>\n",
       "    <tr>\n",
       "      <th>0</th>\n",
       "      <td>Alabama</td>\n",
       "      <td>poor</td>\n",
       "      <td>18</td>\n",
       "      <td>yes</td>\n",
       "      <td>no</td>\n",
       "      <td>yes</td>\n",
       "      <td>yes</td>\n",
       "      <td>female</td>\n",
       "      <td>17.5</td>\n",
       "      <td>no</td>\n",
       "      <td>341.384853</td>\n",
       "      <td>former smoker</td>\n",
       "      <td>2015</td>\n",
       "    </tr>\n",
       "    <tr>\n",
       "      <th>1</th>\n",
       "      <td>Alabama</td>\n",
       "      <td>good</td>\n",
       "      <td>0</td>\n",
       "      <td>no</td>\n",
       "      <td>yes</td>\n",
       "      <td>no</td>\n",
       "      <td>no</td>\n",
       "      <td>female</td>\n",
       "      <td>5</td>\n",
       "      <td>yes</td>\n",
       "      <td>108.060903</td>\n",
       "      <td>current, smoke every day</td>\n",
       "      <td>2015</td>\n",
       "    </tr>\n",
       "    <tr>\n",
       "      <th>2</th>\n",
       "      <td>Alabama</td>\n",
       "      <td>fair</td>\n",
       "      <td>0</td>\n",
       "      <td>yes</td>\n",
       "      <td>no</td>\n",
       "      <td>no</td>\n",
       "      <td>yes</td>\n",
       "      <td>female</td>\n",
       "      <td>refused</td>\n",
       "      <td>NaN</td>\n",
       "      <td>255.264797</td>\n",
       "      <td>refused</td>\n",
       "      <td>2015</td>\n",
       "    </tr>\n",
       "    <tr>\n",
       "      <th>3</th>\n",
       "      <td>Alabama</td>\n",
       "      <td>poor</td>\n",
       "      <td>30</td>\n",
       "      <td>yes</td>\n",
       "      <td>yes</td>\n",
       "      <td>yes</td>\n",
       "      <td>yes</td>\n",
       "      <td>female</td>\n",
       "      <td>100</td>\n",
       "      <td>no</td>\n",
       "      <td>341.384853</td>\n",
       "      <td>never smoked</td>\n",
       "      <td>2015</td>\n",
       "    </tr>\n",
       "    <tr>\n",
       "      <th>4</th>\n",
       "      <td>Alabama</td>\n",
       "      <td>poor</td>\n",
       "      <td>0</td>\n",
       "      <td>yes</td>\n",
       "      <td>no</td>\n",
       "      <td>no</td>\n",
       "      <td>no</td>\n",
       "      <td>female</td>\n",
       "      <td>don't know</td>\n",
       "      <td>no</td>\n",
       "      <td>258.682223</td>\n",
       "      <td>never smoked</td>\n",
       "      <td>2015</td>\n",
       "    </tr>\n",
       "  </tbody>\n",
       "</table>\n",
       "</div>"
      ],
      "text/plain": [
       "   x.state general_health mental_health coverage med_cost hypertension  \\\n",
       "0  Alabama           poor            18      yes       no          yes   \n",
       "1  Alabama           good             0       no      yes           no   \n",
       "2  Alabama           fair             0      yes       no           no   \n",
       "3  Alabama           poor            30      yes      yes          yes   \n",
       "4  Alabama           poor             0      yes       no           no   \n",
       "\n",
       "  high_cholesterol  gender      income exercise      weight  \\\n",
       "0              yes  female        17.5       no  341.384853   \n",
       "1               no  female           5      yes  108.060903   \n",
       "2              yes  female     refused      NaN  255.264797   \n",
       "3              yes  female         100       no  341.384853   \n",
       "4               no  female  don't know       no  258.682223   \n",
       "\n",
       "                     smoker  year  \n",
       "0             former smoker  2015  \n",
       "1  current, smoke every day  2015  \n",
       "2                   refused  2015  \n",
       "3              never smoked  2015  \n",
       "4              never smoked  2015  "
      ]
     },
     "execution_count": 472,
     "metadata": {},
     "output_type": "execute_result"
    }
   ],
   "source": [
    "dict_of_dfs_per_year_with_str_responses[2015].head()"
   ]
  },
  {
   "cell_type": "markdown",
   "metadata": {},
   "source": [
    "Now, we need to figure out which response we're interested in for each predictor. E.g., for `high_cholesterol`, we want the percent of people who responded 'yes' in each state, whereas for `coverage` we're interested in the percent of people who respond 'no'. The other thing that we have to do is to weight each response appropriately according to each record's 'weight_to_multiply' (either FINALWT or LLCPWT depending on what year the survey was taken."
   ]
  },
  {
   "cell_type": "code",
   "execution_count": 473,
   "metadata": {},
   "outputs": [],
   "source": [
    "temp = dict_of_dfs_per_year_with_str_responses[2015]"
   ]
  },
  {
   "cell_type": "code",
   "execution_count": 474,
   "metadata": {},
   "outputs": [
    {
     "data": {
      "text/html": [
       "<div>\n",
       "<style scoped>\n",
       "    .dataframe tbody tr th:only-of-type {\n",
       "        vertical-align: middle;\n",
       "    }\n",
       "\n",
       "    .dataframe tbody tr th {\n",
       "        vertical-align: top;\n",
       "    }\n",
       "\n",
       "    .dataframe thead th {\n",
       "        text-align: right;\n",
       "    }\n",
       "</style>\n",
       "<table border=\"1\" class=\"dataframe\">\n",
       "  <thead>\n",
       "    <tr style=\"text-align: right;\">\n",
       "      <th></th>\n",
       "      <th>x.state</th>\n",
       "      <th>general_health</th>\n",
       "      <th>mental_health</th>\n",
       "      <th>coverage</th>\n",
       "      <th>med_cost</th>\n",
       "      <th>hypertension</th>\n",
       "      <th>high_cholesterol</th>\n",
       "      <th>gender</th>\n",
       "      <th>income</th>\n",
       "      <th>exercise</th>\n",
       "      <th>weight</th>\n",
       "      <th>smoker</th>\n",
       "      <th>year</th>\n",
       "    </tr>\n",
       "  </thead>\n",
       "  <tbody>\n",
       "    <tr>\n",
       "      <th>0</th>\n",
       "      <td>Alabama</td>\n",
       "      <td>poor</td>\n",
       "      <td>18</td>\n",
       "      <td>yes</td>\n",
       "      <td>no</td>\n",
       "      <td>yes</td>\n",
       "      <td>yes</td>\n",
       "      <td>female</td>\n",
       "      <td>17.5</td>\n",
       "      <td>no</td>\n",
       "      <td>341.384853</td>\n",
       "      <td>former smoker</td>\n",
       "      <td>2015</td>\n",
       "    </tr>\n",
       "    <tr>\n",
       "      <th>1</th>\n",
       "      <td>Alabama</td>\n",
       "      <td>good</td>\n",
       "      <td>0</td>\n",
       "      <td>no</td>\n",
       "      <td>yes</td>\n",
       "      <td>no</td>\n",
       "      <td>no</td>\n",
       "      <td>female</td>\n",
       "      <td>5</td>\n",
       "      <td>yes</td>\n",
       "      <td>108.060903</td>\n",
       "      <td>current, smoke every day</td>\n",
       "      <td>2015</td>\n",
       "    </tr>\n",
       "    <tr>\n",
       "      <th>2</th>\n",
       "      <td>Alabama</td>\n",
       "      <td>fair</td>\n",
       "      <td>0</td>\n",
       "      <td>yes</td>\n",
       "      <td>no</td>\n",
       "      <td>no</td>\n",
       "      <td>yes</td>\n",
       "      <td>female</td>\n",
       "      <td>refused</td>\n",
       "      <td>NaN</td>\n",
       "      <td>255.264797</td>\n",
       "      <td>refused</td>\n",
       "      <td>2015</td>\n",
       "    </tr>\n",
       "    <tr>\n",
       "      <th>3</th>\n",
       "      <td>Alabama</td>\n",
       "      <td>poor</td>\n",
       "      <td>30</td>\n",
       "      <td>yes</td>\n",
       "      <td>yes</td>\n",
       "      <td>yes</td>\n",
       "      <td>yes</td>\n",
       "      <td>female</td>\n",
       "      <td>100</td>\n",
       "      <td>no</td>\n",
       "      <td>341.384853</td>\n",
       "      <td>never smoked</td>\n",
       "      <td>2015</td>\n",
       "    </tr>\n",
       "    <tr>\n",
       "      <th>4</th>\n",
       "      <td>Alabama</td>\n",
       "      <td>poor</td>\n",
       "      <td>0</td>\n",
       "      <td>yes</td>\n",
       "      <td>no</td>\n",
       "      <td>no</td>\n",
       "      <td>no</td>\n",
       "      <td>female</td>\n",
       "      <td>don't know</td>\n",
       "      <td>no</td>\n",
       "      <td>258.682223</td>\n",
       "      <td>never smoked</td>\n",
       "      <td>2015</td>\n",
       "    </tr>\n",
       "  </tbody>\n",
       "</table>\n",
       "</div>"
      ],
      "text/plain": [
       "   x.state general_health mental_health coverage med_cost hypertension  \\\n",
       "0  Alabama           poor            18      yes       no          yes   \n",
       "1  Alabama           good             0       no      yes           no   \n",
       "2  Alabama           fair             0      yes       no           no   \n",
       "3  Alabama           poor            30      yes      yes          yes   \n",
       "4  Alabama           poor             0      yes       no           no   \n",
       "\n",
       "  high_cholesterol  gender      income exercise      weight  \\\n",
       "0              yes  female        17.5       no  341.384853   \n",
       "1               no  female           5      yes  108.060903   \n",
       "2              yes  female     refused      NaN  255.264797   \n",
       "3              yes  female         100       no  341.384853   \n",
       "4               no  female  don't know       no  258.682223   \n",
       "\n",
       "                     smoker  year  \n",
       "0             former smoker  2015  \n",
       "1  current, smoke every day  2015  \n",
       "2                   refused  2015  \n",
       "3              never smoked  2015  \n",
       "4              never smoked  2015  "
      ]
     },
     "execution_count": 474,
     "metadata": {},
     "output_type": "execute_result"
    }
   ],
   "source": [
    "temp.head()"
   ]
  },
  {
   "cell_type": "markdown",
   "metadata": {},
   "source": [
    "We will calculate the target value for each variable as follows:\n",
    "- general_health: binarize so that if they say their general health is fair or poor, they have 'poor health'; we calculate the percent of people with poor health.\n",
    "- mental_health: this is the weighted mean of the number of days in a month that people experienced 'poor mental health', e.g. anxiety, stress, depression.\n",
    "- med_cost: the question is in the past year, was there a time you had to see a doctor but couldn't because of cost? We calculate the percent of people who answered yes.\n",
    "- coverage: the question is, do you have any type of health coverage (private insurance, medicaid, etc.)? We calculate the percept of people who say no.\n",
    "- hypertension: the question is, has a medical professional ever told you that you have high blood pressure? We calculate the percent of people who say yes.\n",
    "- high_cholesterol: the question is, has a medical professional ever told you that you have high cholesterol? We calculate the percent of people who say yes.\n",
    "- gender: we calculate the percent of people who are male.\n",
    "- income: we take the weighted average of the salary bins that people identified as their salaries. This is probably underestimating the salaries because the denominator includes the 'weight' for everybody in the state, even people who refused or don't know their salary.\n",
    "- exercise: the question is, have you done any exercise in the past 30 days? We calculate the percent of people who say no.\n",
    "- aspirin: this was going to calculate the percent of people who take aspirin daily or every other day, but there was too little data; most states didn't ask this question.\n",
    "- smoker: this calculates the percent of people who say they are current smokers (either smoke every day or some days)."
   ]
  },
  {
   "cell_type": "code",
   "execution_count": 480,
   "metadata": {},
   "outputs": [],
   "source": [
    "def calculate_target_value(var_name, df):\n",
    "    total_weight_for_group = sum(df.weight)\n",
    "    if var_name not in df.columns:\n",
    "        return None\n",
    "    \n",
    "    if var_name == 'general_health':\n",
    "        r = sum(df[(df.general_health == 'fair') | (df.general_health == 'poor')]['weight'])/total_weight_for_group\n",
    "    elif var_name == 'mental_health':\n",
    "        # For all the people who responded with a number when asked how many days of poor mental health they experienced, we multiply it by the weight, drop the NaNs, sum it, and divide by the total weight.\n",
    "        r = sum((df.mental_health.replace({\"refused\": np.nan, \"don't know\": np.nan}) * df.weight).dropna())/total_weight_for_group\n",
    "    elif var_name == 'med_cost':\n",
    "        r = sum(df[df.med_cost == 'yes']['weight'])/total_weight_for_group\n",
    "    elif var_name == 'coverage':\n",
    "        r = sum(df[df.coverage == 'no']['weight'])/total_weight_for_group\n",
    "    elif var_name == 'hypertension':\n",
    "        r = sum(df[df.hypertension == 'yes']['weight'])/total_weight_for_group\n",
    "    elif var_name == 'high_cholesterol':\n",
    "        r = sum(df[df.high_cholesterol == 'yes']['weight'])/total_weight_for_group\n",
    "    elif var_name == 'gender':\n",
    "        r = sum(df[df.gender == 'male']['weight'])/total_weight_for_group\n",
    "    elif var_name == 'income':\n",
    "        r = sum((df.income.replace({'refused': np.nan, \"don't know\": np.nan}) * df.weight).dropna())/total_weight_for_group\n",
    "    elif var_name == 'exercise':\n",
    "        r = sum(df[df.exercise == 'no']['weight'])/total_weight_for_group\n",
    "    elif var_name == 'aspirin':\n",
    "        r = sum(df[df.aspirin == 'yes']['weight'])/total_weight_for_group\n",
    "    elif var_name == 'smoker':\n",
    "        r = sum(df[(df.smoker == 'current, smoke every day') | (df.smoker == 'current, smoke some days')]['weight'])/total_weight_for_group\n",
    "    \n",
    "    if r == 0:\n",
    "#         print('Calculated value for this variable was 0. This likely means that this predictor contained only NaNs.')\n",
    "        return None\n",
    "    else:\n",
    "        return r"
   ]
  },
  {
   "cell_type": "code",
   "execution_count": 481,
   "metadata": {},
   "outputs": [
    {
     "data": {
      "text/plain": [
       "0.22102490818659773"
      ]
     },
     "execution_count": 481,
     "metadata": {},
     "output_type": "execute_result"
    }
   ],
   "source": [
    "calculate_target_value('general_health', alabama)"
   ]
  },
  {
   "cell_type": "code",
   "execution_count": 483,
   "metadata": {},
   "outputs": [
    {
     "data": {
      "text/plain": [
       "0.16443652309130397"
      ]
     },
     "execution_count": 483,
     "metadata": {},
     "output_type": "execute_result"
    }
   ],
   "source": [
    "calculate_target_value('med_cost', alabama)"
   ]
  },
  {
   "cell_type": "code",
   "execution_count": 484,
   "metadata": {},
   "outputs": [
    {
     "data": {
      "text/plain": [
       "0.13032736039086454"
      ]
     },
     "execution_count": 484,
     "metadata": {},
     "output_type": "execute_result"
    }
   ],
   "source": [
    "calculate_target_value('coverage', alabama)"
   ]
  },
  {
   "cell_type": "markdown",
   "metadata": {},
   "source": [
    "Now, we need to iterate through the dataframe for each year, groupby state, and then calculate the target value for each state for that year, and store it."
   ]
  },
  {
   "cell_type": "code",
   "execution_count": 485,
   "metadata": {},
   "outputs": [],
   "source": [
    "list_of_predictors_to_calculate = list(relevant_variables.keys())\n",
    "list_of_predictors_to_calculate.remove('weight')"
   ]
  },
  {
   "cell_type": "code",
   "execution_count": 486,
   "metadata": {},
   "outputs": [
    {
     "name": "stdout",
     "output_type": "stream",
     "text": [
      "['high_cholesterol', 'hypertension', 'exercise', 'general_health', 'mental_health', 'coverage', 'income', 'smoker', 'med_cost', 'gender']\n"
     ]
    }
   ],
   "source": [
    "print(list_of_predictors_to_calculate)"
   ]
  },
  {
   "cell_type": "code",
   "execution_count": 487,
   "metadata": {},
   "outputs": [
    {
     "data": {
      "application/vnd.jupyter.widget-view+json": {
       "model_id": "11af08dd70e041dfbf0f7f5def8d8e16",
       "version_major": 2,
       "version_minor": 0
      },
      "text/plain": [
       "VBox(children=(HTML(value=''), IntProgress(value=0, max=19)))"
      ]
     },
     "metadata": {},
     "output_type": "display_data"
    }
   ],
   "source": [
    "tuple_to_df_list = []\n",
    "\n",
    "for year in log_progress(years):\n",
    "    year_df = dict_of_dfs_per_year_with_str_responses[year].copy()\n",
    "    groupby_state = year_df.groupby(by='x.state')\n",
    "    \n",
    "    for state in groupby_state.groups:\n",
    "        state_df = groupby_state.get_group(state)\n",
    "        for var in list_of_predictors_to_calculate:\n",
    "            target_value = calculate_target_value(var, state_df)\n",
    "            tuple_to_df_list.append( (state, year, var, target_value) )"
   ]
  },
  {
   "cell_type": "code",
   "execution_count": 488,
   "metadata": {},
   "outputs": [],
   "source": [
    "state_year_var_name_val_df = pd.DataFrame(tuple_to_df_list, columns=['state', 'year', 'var_name', 'value'])"
   ]
  },
  {
   "cell_type": "code",
   "execution_count": 490,
   "metadata": {},
   "outputs": [],
   "source": [
    "year_var_by_state_gb = state_year_var_name_val_df.groupby(['state', 'var_name'])[['year', 'value']]"
   ]
  },
  {
   "cell_type": "code",
   "execution_count": 491,
   "metadata": {},
   "outputs": [],
   "source": [
    "dict_of_state_var_dfs = {}\n",
    "\n",
    "for group in year_var_by_state_gb.groups:\n",
    "    state = group[0]\n",
    "    var_name = group[1]\n",
    "    \n",
    "    if state not in dict_of_state_var_dfs:\n",
    "        dict_of_state_var_dfs[state] = year_var_by_state_gb.get_group(group).rename(columns={'value':var_name})\n",
    "#         print(dict_of_state_var_dfs[state])\n",
    "    else:\n",
    "        dict_of_state_var_dfs[state] = pd.merge(dict_of_state_var_dfs[state], year_var_by_state_gb.get_group(group).rename(columns={'value':var_name}), on='year')\n",
    "#         print(dict_of_state_var_dfs[state])"
   ]
  },
  {
   "cell_type": "code",
   "execution_count": 535,
   "metadata": {},
   "outputs": [],
   "source": [
    "dict_of_interpol_covariate_state_dfs = {}\n",
    "\n",
    "for state, df in dict_of_state_var_dfs.items():\n",
    "    temp = df.copy()\n",
    "    temp = temp.interpolate(method='linear')\n",
    "    temp = temp.fillna(temp.mean())\n",
    "    \n",
    "    temp.year = pd.to_datetime(temp.year, format=\"%Y\")\n",
    "    temp = temp.set_index('year').resample('M').ffill(limit=1).interpolate('linear')\n",
    "    temp.index = temp.index - pd.offsets.MonthBegin(0) - pd.DateOffset(months=1)\n",
    "    \n",
    "    dict_of_interpol_covariate_state_dfs[state] = temp"
   ]
  },
  {
   "cell_type": "code",
   "execution_count": 537,
   "metadata": {},
   "outputs": [
    {
     "data": {
      "text/html": [
       "<div>\n",
       "<style scoped>\n",
       "    .dataframe tbody tr th:only-of-type {\n",
       "        vertical-align: middle;\n",
       "    }\n",
       "\n",
       "    .dataframe tbody tr th {\n",
       "        vertical-align: top;\n",
       "    }\n",
       "\n",
       "    .dataframe thead th {\n",
       "        text-align: right;\n",
       "    }\n",
       "</style>\n",
       "<table border=\"1\" class=\"dataframe\">\n",
       "  <thead>\n",
       "    <tr style=\"text-align: right;\">\n",
       "      <th></th>\n",
       "      <th>high_cholesterol</th>\n",
       "      <th>hypertension</th>\n",
       "      <th>exercise</th>\n",
       "      <th>general_health</th>\n",
       "      <th>mental_health</th>\n",
       "      <th>coverage</th>\n",
       "      <th>income</th>\n",
       "      <th>smoker</th>\n",
       "      <th>med_cost</th>\n",
       "      <th>gender</th>\n",
       "    </tr>\n",
       "    <tr>\n",
       "      <th>year</th>\n",
       "      <th></th>\n",
       "      <th></th>\n",
       "      <th></th>\n",
       "      <th></th>\n",
       "      <th></th>\n",
       "      <th></th>\n",
       "      <th></th>\n",
       "      <th></th>\n",
       "      <th></th>\n",
       "      <th></th>\n",
       "    </tr>\n",
       "  </thead>\n",
       "  <tbody>\n",
       "    <tr>\n",
       "      <th>1999-01-01</th>\n",
       "      <td>0.210998</td>\n",
       "      <td>0.228108</td>\n",
       "      <td>0.212816</td>\n",
       "      <td>0.158018</td>\n",
       "      <td>3.234794</td>\n",
       "      <td>0.193080</td>\n",
       "      <td>40.585070</td>\n",
       "      <td>0.187049</td>\n",
       "      <td>0.111224</td>\n",
       "      <td>0.495518</td>\n",
       "    </tr>\n",
       "    <tr>\n",
       "      <th>1999-02-01</th>\n",
       "      <td>0.211884</td>\n",
       "      <td>0.228286</td>\n",
       "      <td>0.217142</td>\n",
       "      <td>0.158739</td>\n",
       "      <td>3.233021</td>\n",
       "      <td>0.192317</td>\n",
       "      <td>40.847403</td>\n",
       "      <td>0.185803</td>\n",
       "      <td>0.112605</td>\n",
       "      <td>0.495578</td>\n",
       "    </tr>\n",
       "    <tr>\n",
       "      <th>1999-03-01</th>\n",
       "      <td>0.212769</td>\n",
       "      <td>0.228463</td>\n",
       "      <td>0.221469</td>\n",
       "      <td>0.159460</td>\n",
       "      <td>3.231247</td>\n",
       "      <td>0.191554</td>\n",
       "      <td>41.109736</td>\n",
       "      <td>0.184557</td>\n",
       "      <td>0.113986</td>\n",
       "      <td>0.495638</td>\n",
       "    </tr>\n",
       "    <tr>\n",
       "      <th>1999-04-01</th>\n",
       "      <td>0.213654</td>\n",
       "      <td>0.228641</td>\n",
       "      <td>0.225795</td>\n",
       "      <td>0.160181</td>\n",
       "      <td>3.229474</td>\n",
       "      <td>0.190790</td>\n",
       "      <td>41.372069</td>\n",
       "      <td>0.183310</td>\n",
       "      <td>0.115367</td>\n",
       "      <td>0.495697</td>\n",
       "    </tr>\n",
       "    <tr>\n",
       "      <th>1999-05-01</th>\n",
       "      <td>0.214540</td>\n",
       "      <td>0.228819</td>\n",
       "      <td>0.230121</td>\n",
       "      <td>0.160902</td>\n",
       "      <td>3.227701</td>\n",
       "      <td>0.190027</td>\n",
       "      <td>41.634402</td>\n",
       "      <td>0.182064</td>\n",
       "      <td>0.116748</td>\n",
       "      <td>0.495757</td>\n",
       "    </tr>\n",
       "  </tbody>\n",
       "</table>\n",
       "</div>"
      ],
      "text/plain": [
       "            high_cholesterol  hypertension  exercise  general_health  \\\n",
       "year                                                                   \n",
       "1999-01-01          0.210998      0.228108  0.212816        0.158018   \n",
       "1999-02-01          0.211884      0.228286  0.217142        0.158739   \n",
       "1999-03-01          0.212769      0.228463  0.221469        0.159460   \n",
       "1999-04-01          0.213654      0.228641  0.225795        0.160181   \n",
       "1999-05-01          0.214540      0.228819  0.230121        0.160902   \n",
       "\n",
       "            mental_health  coverage     income    smoker  med_cost    gender  \n",
       "year                                                                          \n",
       "1999-01-01       3.234794  0.193080  40.585070  0.187049  0.111224  0.495518  \n",
       "1999-02-01       3.233021  0.192317  40.847403  0.185803  0.112605  0.495578  \n",
       "1999-03-01       3.231247  0.191554  41.109736  0.184557  0.113986  0.495638  \n",
       "1999-04-01       3.229474  0.190790  41.372069  0.183310  0.115367  0.495697  \n",
       "1999-05-01       3.227701  0.190027  41.634402  0.182064  0.116748  0.495757  "
      ]
     },
     "execution_count": 537,
     "metadata": {},
     "output_type": "execute_result"
    }
   ],
   "source": [
    "dict_of_interpol_covariate_state_dfs['California'].head()"
   ]
  },
  {
   "cell_type": "code",
   "execution_count": 538,
   "metadata": {},
   "outputs": [],
   "source": [
    "with open(\"../data/pickles/dict_of_interpol_covariate_state_dfs.pkl\", \"wb\") as f:\n",
    "    pickle.dump(dict_of_interpol_covariate_state_dfs, f)"
   ]
  },
  {
   "cell_type": "code",
   "execution_count": null,
   "metadata": {},
   "outputs": [],
   "source": []
  }
 ],
 "metadata": {
  "kernelspec": {
   "display_name": "Python 3",
   "language": "python",
   "name": "python3"
  },
  "language_info": {
   "codemirror_mode": {
    "name": "ipython",
    "version": 3
   },
   "file_extension": ".py",
   "mimetype": "text/x-python",
   "name": "python",
   "nbconvert_exporter": "python",
   "pygments_lexer": "ipython3",
   "version": "3.6.5"
  }
 },
 "nbformat": 4,
 "nbformat_minor": 2
}
